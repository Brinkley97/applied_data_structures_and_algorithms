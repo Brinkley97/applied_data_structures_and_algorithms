{
 "cells": [
  {
   "cell_type": "code",
   "execution_count": null,
   "id": "4dff7790-66da-4c9e-8a00-fd98537e626d",
   "metadata": {},
   "outputs": [],
   "source": []
  },
  {
   "cell_type": "code",
   "execution_count": 5,
   "id": "ae70771b-6ace-40ef-85ef-93bfb7552295",
   "metadata": {},
   "outputs": [],
   "source": [
    "# Khan: https://www.youtube.com/watch?v=wblW_M_HVQ8"
   ]
  },
  {
   "cell_type": "code",
   "execution_count": 1,
   "id": "0bfc440f-35a1-40de-ae51-7cb0fc0902e3",
   "metadata": {},
   "outputs": [],
   "source": [
    "def s(k):\n",
    "    n = k * (k + 1) / 2\n",
    "    return n"
   ]
  },
  {
   "cell_type": "code",
   "execution_count": 2,
   "id": "725fbb1c-c243-4d0d-a9ac-d2e77db435b4",
   "metadata": {},
   "outputs": [
    {
     "data": {
      "text/plain": [
       "1.0"
      ]
     },
     "execution_count": 2,
     "metadata": {},
     "output_type": "execute_result"
    }
   ],
   "source": [
    "s(1)"
   ]
  },
  {
   "cell_type": "code",
   "execution_count": 3,
   "id": "0b96b25e-d758-4ef2-af1a-ebc9ad1333a8",
   "metadata": {},
   "outputs": [
    {
     "data": {
      "text/plain": [
       "3.0"
      ]
     },
     "execution_count": 3,
     "metadata": {},
     "output_type": "execute_result"
    }
   ],
   "source": [
    "s(2)"
   ]
  },
  {
   "cell_type": "code",
   "execution_count": 4,
   "id": "25ecf81a-acfe-4d75-987d-966f892df6a3",
   "metadata": {},
   "outputs": [
    {
     "data": {
      "text/plain": [
       "6.0"
      ]
     },
     "execution_count": 4,
     "metadata": {},
     "output_type": "execute_result"
    }
   ],
   "source": [
    "s(3)"
   ]
  },
  {
   "cell_type": "code",
   "execution_count": 6,
   "id": "d3c807b1-f5a4-4277-8edb-970067b5ac81",
   "metadata": {},
   "outputs": [],
   "source": [
    "# Kimberly: https://youtu.be/vuM3kkwINZw"
   ]
  },
  {
   "cell_type": "code",
   "execution_count": 68,
   "id": "3c3bab31-898c-4173-ab9a-d793094d66de",
   "metadata": {},
   "outputs": [],
   "source": [
    "k1_store = []\n",
    "def p(n):\n",
    "    k1 = 0\n",
    "    for i in range(1, n+1):\n",
    "        k1 = 2*i - 1\n",
    "        print(\"k1: \", k1)\n",
    "        k1_store.append(k1)\n",
    "     \n",
    "    \n",
    "    print(sum(k1_store))\n",
    "    k2 = n ** 2\n",
    "    print(k2)\n",
    "\n",
    "    if sum(k1_store) == k2:\n",
    "        return True"
   ]
  },
  {
   "cell_type": "code",
   "execution_count": 69,
   "id": "64534747-e482-470b-9139-43d09ebe3ecb",
   "metadata": {},
   "outputs": [
    {
     "name": "stdout",
     "output_type": "stream",
     "text": [
      "k1:  1\n",
      "k1:  3\n",
      "k1:  5\n",
      "k1:  7\n",
      "k1:  9\n",
      "25\n",
      "25\n"
     ]
    },
    {
     "data": {
      "text/plain": [
       "True"
      ]
     },
     "execution_count": 69,
     "metadata": {},
     "output_type": "execute_result"
    }
   ],
   "source": [
    "k1 = 0\n",
    "p(5)"
   ]
  },
  {
   "cell_type": "code",
   "execution_count": null,
   "id": "1d74e95c-e1d8-467b-be03-9a9db496ab13",
   "metadata": {},
   "outputs": [],
   "source": []
  }
 ],
 "metadata": {
  "kernelspec": {
   "display_name": "Python 3 (ipykernel)",
   "language": "python",
   "name": "python3"
  },
  "language_info": {
   "codemirror_mode": {
    "name": "ipython",
    "version": 3
   },
   "file_extension": ".py",
   "mimetype": "text/x-python",
   "name": "python",
   "nbconvert_exporter": "python",
   "pygments_lexer": "ipython3",
   "version": "3.9.12"
  }
 },
 "nbformat": 4,
 "nbformat_minor": 5
}
