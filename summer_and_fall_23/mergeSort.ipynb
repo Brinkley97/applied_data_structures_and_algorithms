{
 "cells": [
  {
   "cell_type": "markdown",
   "id": "122b6596",
   "metadata": {},
   "source": [
    "# Merge Sort"
   ]
  },
  {
   "cell_type": "code",
   "execution_count": 1,
   "id": "9abc8fad",
   "metadata": {},
   "outputs": [],
   "source": [
    "import numpy as np"
   ]
  },
  {
   "cell_type": "code",
   "execution_count": 72,
   "id": "1332c2b1",
   "metadata": {},
   "outputs": [],
   "source": [
    "def MERGE(A, p, q, r):\n",
    "    p = int(p)\n",
    "    q = int(q)\n",
    "    r = int(r)\n",
    "    \n",
    "    # length of array A[p..r]\n",
    "    \n",
    "    # length of subarray A[p..q]\n",
    "    n1 = q - p + 1\n",
    "    \n",
    "    # length of subarray A[q+1..r]\n",
    "    n2 = r - q\n",
    "    \n",
    "    # L for the left 1/2 of array A\n",
    "    L = []\n",
    "    \n",
    "    # R for the right 1/2 of array A\n",
    "    R = []\n",
    "    \n",
    "    # Create the left array by inserting values from A\n",
    "    # L[1..n1]\n",
    "    for i in range(0, n1):\n",
    "        # print(\"i for L\", i, A[p + i - 1])\n",
    "        L.insert(i, A[p + i - 1])\n",
    "    \n",
    "    # Create the right array by inserting values from A\n",
    "    # R[1..n2]\n",
    "    for j in range(0, n2):\n",
    "        # print(\"j for R\", j)\n",
    "        R.insert(j, A[q + j])\n",
    "        \n",
    "    \n",
    "    # Insert infinity to know when we're at the end\n",
    "    # When \"exposed, it cannot be the smaller card unless \n",
    "    # both piles have their sentinel cards exposed\"\n",
    "    # L[n1 + 1..]\n",
    "    L.insert(n1 + 1, np.inf)\n",
    "    print(\"L\", L)\n",
    "    \n",
    "    # R[1..n1]\n",
    "    R.insert(n2 + 1, np.inf)\n",
    "    print(\"R\", R)\n",
    " \n",
    "    i = 0\n",
    "    j = 0\n",
    "    \n",
    "    # print(\"p\", p)\n",
    "    # print(\"r\", r)\n",
    "    # print()\n",
    "    \n",
    "    # print(\"Compare\", L, \"and\" R)\n",
    "    for k in range(p-1, r):\n",
    "\n",
    "        # print(\"k=\", k)\n",
    "        print(\"Compare\", L[i], \"and\", R[j])\n",
    "        if L[i] <= R[j]:\n",
    "            A[k] = L[i]\n",
    "            print(\"Lower term is\", A[k])\n",
    "            i = i + 1\n",
    "        \n",
    "        else: \n",
    "            A[k] = R[j]\n",
    "            print(\"Lower term is\", A[k])\n",
    "            j = j + 1\n",
    "        print()\n",
    "    return A, L, R"
   ]
  },
  {
   "cell_type": "code",
   "execution_count": 73,
   "id": "ae42a384",
   "metadata": {},
   "outputs": [],
   "source": [
    "# A = [2, 4, 5, 7, 1, 2, 3]\n",
    "# merged_lists = MERGE(A, 1, 4, 7)"
   ]
  },
  {
   "cell_type": "code",
   "execution_count": 74,
   "id": "724c3cc7",
   "metadata": {},
   "outputs": [
    {
     "data": {
      "text/plain": [
       "[1, 2, 2, 3, 4, 5, 7]"
      ]
     },
     "execution_count": 74,
     "metadata": {},
     "output_type": "execute_result"
    }
   ],
   "source": [
    "merged_lists"
   ]
  },
  {
   "cell_type": "markdown",
   "id": "02431452-90d3-4bee-ab24-7ebbd65c3111",
   "metadata": {},
   "source": [
    "- Determine where q is when given p (the first index of A) and r (the last index of A)"
   ]
  },
  {
   "cell_type": "markdown",
   "id": "ca0418e6-b157-4e0b-8b0c-75a26fb77f8c",
   "metadata": {},
   "source": [
    "<img src=\"images/mergeSort.jpeg\">"
   ]
  },
  {
   "cell_type": "markdown",
   "id": "974ad7ae-2ea8-41a7-9715-fb2550c9cffd",
   "metadata": {},
   "source": [
    "- root node = len(A) $ \\Rightarrow $ 8\n",
    "- Left\n",
    "    - layer 1 = len(A)/2 $ \\Rightarrow $ 4\n",
    "    - layer n - 1 = len(left layer 2)/2  $ \\Rightarrow $ 2\n",
    "    - layer n (a single leaf node) = len(left layer n - 1)/2 $ \\Rightarrow $ 1\n",
    "- Right is the same as the Left but with different values"
   ]
  },
  {
   "cell_type": "markdown",
   "id": "64647cdf-32a6-47e7-bf33-d92427130400",
   "metadata": {},
   "source": [
    "BOOK: [Introduction to Algorithms, 3rd Edition (The MIT Press)](https://www.amazon.com/Introduction-Algorithms-3rd-MIT-Press/dp/0262033844) by Thomas H Cormen, Charles E. Leiserson, Ronald L. Rivest and Cliff Stein"
   ]
  },
  {
   "cell_type": "code",
   "execution_count": 79,
   "id": "0b53e57d",
   "metadata": {},
   "outputs": [],
   "source": [
    "def MERGESORT(A, p, r):\n",
    "    if p < r:\n",
    "        q = np.floor((p+r)/2)\n",
    "        \n",
    "        # Left branch of tree\n",
    "        # Recurrence of mergesorting left branch\n",
    "        left = MERGESORT(A, p, q)\n",
    "        # print(\"left\", left)\n",
    "        \n",
    "        # Right branch of tree\n",
    "        # Recurrence of mergesorting right branch\n",
    "        right = MERGESORT(A, q + 1, r)\n",
    "        # print(\"right\", right)\n",
    "        \n",
    "        # Merge left branch with right branch\n",
    "        merge, L, R = MERGE(A, p, q, r)\n",
    "        print(\"merge\", merge)\n",
    "        print(\"L\", L)\n",
    "        print(\"R\", R)\n",
    "        \n",
    "    return A"
   ]
  },
  {
   "cell_type": "code",
   "execution_count": 80,
   "id": "ac48cc6c",
   "metadata": {},
   "outputs": [
    {
     "name": "stdout",
     "output_type": "stream",
     "text": [
      "L [5, inf]\n",
      "R [2, inf]\n",
      "Compare 5 and 2\n",
      "Lower term is 2\n",
      "\n",
      "Compare 5 and inf\n",
      "Lower term is 5\n",
      "\n",
      "merge [2, 5, 4, 7, 1, 3, 2, 6]\n",
      "L [5, inf]\n",
      "R [2, inf]\n",
      "L [4, inf]\n",
      "R [7, inf]\n",
      "Compare 4 and 7\n",
      "Lower term is 4\n",
      "\n",
      "Compare inf and 7\n",
      "Lower term is 7\n",
      "\n",
      "merge [2, 5, 4, 7, 1, 3, 2, 6]\n",
      "L [4, inf]\n",
      "R [7, inf]\n",
      "L [2, 5, inf]\n",
      "R [4, 7, inf]\n",
      "Compare 2 and 4\n",
      "Lower term is 2\n",
      "\n",
      "Compare 5 and 4\n",
      "Lower term is 4\n",
      "\n",
      "Compare 5 and 7\n",
      "Lower term is 5\n",
      "\n",
      "Compare inf and 7\n",
      "Lower term is 7\n",
      "\n",
      "merge [2, 4, 5, 7, 1, 3, 2, 6]\n",
      "L [2, 5, inf]\n",
      "R [4, 7, inf]\n",
      "L [1, inf]\n",
      "R [3, inf]\n",
      "Compare 1 and 3\n",
      "Lower term is 1\n",
      "\n",
      "Compare inf and 3\n",
      "Lower term is 3\n",
      "\n",
      "merge [2, 4, 5, 7, 1, 3, 2, 6]\n",
      "L [1, inf]\n",
      "R [3, inf]\n",
      "L [2, inf]\n",
      "R [6, inf]\n",
      "Compare 2 and 6\n",
      "Lower term is 2\n",
      "\n",
      "Compare inf and 6\n",
      "Lower term is 6\n",
      "\n",
      "merge [2, 4, 5, 7, 1, 3, 2, 6]\n",
      "L [2, inf]\n",
      "R [6, inf]\n",
      "L [1, 3, inf]\n",
      "R [2, 6, inf]\n",
      "Compare 1 and 2\n",
      "Lower term is 1\n",
      "\n",
      "Compare 3 and 2\n",
      "Lower term is 2\n",
      "\n",
      "Compare 3 and 6\n",
      "Lower term is 3\n",
      "\n",
      "Compare inf and 6\n",
      "Lower term is 6\n",
      "\n",
      "merge [2, 4, 5, 7, 1, 2, 3, 6]\n",
      "L [1, 3, inf]\n",
      "R [2, 6, inf]\n",
      "L [2, 4, 5, 7, inf]\n",
      "R [1, 2, 3, 6, inf]\n",
      "Compare 2 and 1\n",
      "Lower term is 1\n",
      "\n",
      "Compare 2 and 2\n",
      "Lower term is 2\n",
      "\n",
      "Compare 4 and 2\n",
      "Lower term is 2\n",
      "\n",
      "Compare 4 and 3\n",
      "Lower term is 3\n",
      "\n",
      "Compare 4 and 6\n",
      "Lower term is 4\n",
      "\n",
      "Compare 5 and 6\n",
      "Lower term is 5\n",
      "\n",
      "Compare 7 and 6\n",
      "Lower term is 6\n",
      "\n",
      "Compare 7 and inf\n",
      "Lower term is 7\n",
      "\n",
      "merge [1, 2, 2, 3, 4, 5, 6, 7]\n",
      "L [2, 4, 5, 7, inf]\n",
      "R [1, 2, 3, 6, inf]\n"
     ]
    },
    {
     "data": {
      "text/plain": [
       "[1, 2, 2, 3, 4, 5, 6, 7]"
      ]
     },
     "execution_count": 80,
     "metadata": {},
     "output_type": "execute_result"
    }
   ],
   "source": [
    "# merged_lists = MERGESORT(A, 1, 8)\n",
    "A = [5, 2, 4, 7, 1, 3, 2, 6]\n",
    "p = 1\n",
    "\n",
    "# A.len = n\n",
    "r = len(A)\n",
    "\n",
    "MERGESORT(A, p, r)"
   ]
  },
  {
   "cell_type": "code",
   "execution_count": null,
   "id": "cfcf4a3d-cf2f-4a3f-9bca-e5ee883bcdb5",
   "metadata": {},
   "outputs": [],
   "source": []
  },
  {
   "cell_type": "code",
   "execution_count": 67,
   "id": "1c1bcc87-6084-4d22-986c-a8b2c4cb7d83",
   "metadata": {},
   "outputs": [
    {
     "data": {
      "text/plain": [
       "(5, 7)"
      ]
     },
     "execution_count": 67,
     "metadata": {},
     "output_type": "execute_result"
    }
   ],
   "source": [
    "mnist_train = (5, 7)\n",
    "mnist_train"
   ]
  },
  {
   "cell_type": "code",
   "execution_count": 61,
   "id": "40b867a2-b640-40ce-828c-af58bb7dc31e",
   "metadata": {},
   "outputs": [],
   "source": [
    "X, y = mnist_train"
   ]
  },
  {
   "cell_type": "code",
   "execution_count": 62,
   "id": "eb6a2eca-4428-470f-8151-0df8608250a1",
   "metadata": {},
   "outputs": [
    {
     "data": {
      "text/plain": [
       "5"
      ]
     },
     "execution_count": 62,
     "metadata": {},
     "output_type": "execute_result"
    }
   ],
   "source": [
    "X"
   ]
  },
  {
   "cell_type": "code",
   "execution_count": 63,
   "id": "f8cd97b7-f521-4ffa-b52c-81d5c2c3bbf0",
   "metadata": {},
   "outputs": [],
   "source": [
    "lo = []"
   ]
  },
  {
   "cell_type": "code",
   "execution_count": 64,
   "id": "c28315af-70f9-4146-85e8-1f6dce05b197",
   "metadata": {},
   "outputs": [],
   "source": [
    "for i in range(X):\n",
    "    lo.append((i,i*10))"
   ]
  },
  {
   "cell_type": "code",
   "execution_count": 65,
   "id": "ae47d61f-de24-4696-9cf0-9c02f74d081e",
   "metadata": {},
   "outputs": [
    {
     "data": {
      "text/plain": [
       "[(0, 0), (1, 10), (2, 20), (3, 30), (4, 40)]"
      ]
     },
     "execution_count": 65,
     "metadata": {},
     "output_type": "execute_result"
    }
   ],
   "source": [
    "lo"
   ]
  },
  {
   "cell_type": "code",
   "execution_count": 72,
   "id": "1443f002-71b1-457b-84c2-c0a1c787caf1",
   "metadata": {},
   "outputs": [
    {
     "name": "stdout",
     "output_type": "stream",
     "text": [
      "[(0, 0), (1, 10), (2, 20), (3, 30), (4, 40)]\n",
      "Old 0\n",
      "New 0\n",
      "[(0, 0), (1, 10), (2, 20), (3, 30), (4, 40)]\n",
      "Old 1\n",
      "New 2\n",
      "[(0, 0), (1, 10), (2, 20), (3, 30), (4, 40)]\n",
      "Old 2\n",
      "New 4\n",
      "[(0, 0), (1, 10), (2, 20), (3, 30), (4, 40)]\n",
      "Old 3\n",
      "New 6\n",
      "[(0, 0), (1, 10), (2, 20), (3, 30), (4, 40)]\n",
      "Old 4\n",
      "New 8\n"
     ]
    }
   ],
   "source": [
    "for i in range(len(lo)):\n",
    "    print(lo)\n",
    "    old, tt = lo[i]\n",
    "    print(\"Old\", old)\n",
    "    \n",
    "    new = old * 2\n",
    "    print(\"New\", new)\n",
    "    "
   ]
  },
  {
   "cell_type": "code",
   "execution_count": null,
   "id": "830f3bc9-26f6-4980-bede-e9f0ca6348c4",
   "metadata": {},
   "outputs": [],
   "source": []
  }
 ],
 "metadata": {
  "kernelspec": {
   "display_name": "Python 3 (ipykernel)",
   "language": "python",
   "name": "python3"
  },
  "language_info": {
   "codemirror_mode": {
    "name": "ipython",
    "version": 3
   },
   "file_extension": ".py",
   "mimetype": "text/x-python",
   "name": "python",
   "nbconvert_exporter": "python",
   "pygments_lexer": "ipython3",
   "version": "3.9.13"
  }
 },
 "nbformat": 4,
 "nbformat_minor": 5
}
