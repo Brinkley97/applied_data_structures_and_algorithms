{
 "cells": [
  {
   "cell_type": "markdown",
   "id": "f0460f7c",
   "metadata": {},
   "source": [
    "# Sum a list"
   ]
  },
  {
   "cell_type": "code",
   "execution_count": null,
   "id": "1c0c2526",
   "metadata": {},
   "outputs": [],
   "source": [
    "ds = [1, 8, 4, 5]\n",
    "# 1 + 8 + 10 + 5?"
   ]
  },
  {
   "cell_type": "code",
   "execution_count": null,
   "id": "64821360",
   "metadata": {},
   "outputs": [],
   "source": [
    "def sum_list(ds):\n",
    "    \"\"\"\n",
    "    \"\"\"\n",
    "    d = 0\n",
    "    \n",
    "    '''\n",
    "    DJB\n",
    "    '''\n",
    "    \n",
    "#     for ds_idx in range(len(ds)):\n",
    "       \n",
    "#         d += ds[ds_idx]\n",
    "    \n",
    "    '''\n",
    "    EO\n",
    "    '''\n",
    "    for i in ds:\n",
    "        d += i\n",
    "    \n",
    "    return d"
   ]
  },
  {
   "cell_type": "code",
   "execution_count": null,
   "id": "a9df0cea",
   "metadata": {},
   "outputs": [],
   "source": [
    "sum_list(ds)"
   ]
  },
  {
   "cell_type": "code",
   "execution_count": null,
   "id": "45ae9a69",
   "metadata": {},
   "outputs": [],
   "source": []
  }
 ],
 "metadata": {
  "kernelspec": {
   "display_name": "Python 3 (ipykernel)",
   "language": "python",
   "name": "python3"
  },
  "language_info": {
   "codemirror_mode": {
    "name": "ipython",
    "version": 3
   },
   "file_extension": ".py",
   "mimetype": "text/x-python",
   "name": "python",
   "nbconvert_exporter": "python",
   "pygments_lexer": "ipython3",
   "version": "3.9.13"
  }
 },
 "nbformat": 4,
 "nbformat_minor": 5
}
