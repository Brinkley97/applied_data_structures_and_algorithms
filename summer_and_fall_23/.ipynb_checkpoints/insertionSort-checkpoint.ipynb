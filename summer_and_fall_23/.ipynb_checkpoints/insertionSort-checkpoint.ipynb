{
 "cells": [
  {
   "cell_type": "markdown",
   "id": "716961b5",
   "metadata": {},
   "source": [
    "# Insertion Sort"
   ]
  },
  {
   "cell_type": "markdown",
   "id": "b0d09455",
   "metadata": {},
   "source": [
    "<img src=\"images/insertionSort.png\">"
   ]
  },
  {
   "cell_type": "markdown",
   "id": "fcf3e0b7",
   "metadata": {},
   "source": [
    "BOOK: [Introduction to Algorithms, 3rd Edition (The MIT Press)](https://www.amazon.com/Introduction-Algorithms-3rd-MIT-Press/dp/0262033844) by Thomas H Cormen, Charles E. Leiserson, Ronald L. Rivest and Cliff Stein"
   ]
  },
  {
   "cell_type": "markdown",
   "id": "db54c73f",
   "metadata": {},
   "source": [
    "- INSERTION-SORT procedure depends on the input: sorting a thousand numbers takes longer than sorting three numbers\n",
    "- Moreover, INSERTION- SORT can take different amounts of time to sort two input sequences of the same size depending on how nearly sorted they already are"
   ]
  },
  {
   "cell_type": "code",
   "execution_count": 1,
   "id": "da2c6f62",
   "metadata": {},
   "outputs": [],
   "source": [
    "a = [5, 2, 4, 6, 1, 3]\n",
    "# a = [3, 7, 9, 4, 6, 2]"
   ]
  },
  {
   "cell_type": "markdown",
   "id": "0bb95f96",
   "metadata": {},
   "source": [
    "# Book's implementation"
   ]
  },
  {
   "cell_type": "code",
   "execution_count": 2,
   "id": "920205fe",
   "metadata": {},
   "outputs": [],
   "source": [
    "def insertion_sort(A):\n",
    "    for j in range(1,len(A)):\n",
    "        key = A[j]\n",
    "        i = j-1\n",
    "        \n",
    "        while i>=0 and A[i]>key:\n",
    "           \n",
    "            A[i+1] = A[i]\n",
    "            i = i-1 \n",
    "\n",
    "        A[i+1] = key\n",
    "    return A"
   ]
  },
  {
   "cell_type": "code",
   "execution_count": 3,
   "id": "b3ae0cb0",
   "metadata": {},
   "outputs": [
    {
     "data": {
      "text/plain": [
       "[1, 2, 3, 4, 5, 6]"
      ]
     },
     "execution_count": 3,
     "metadata": {},
     "output_type": "execute_result"
    }
   ],
   "source": [
    "insertion_sort(a)"
   ]
  },
  {
   "cell_type": "markdown",
   "id": "f3bdd0c3",
   "metadata": {},
   "source": [
    "# My implementation\n",
    "- I want to figure out the sub comparisions. Ex: When we get to element 4, do we compare that to element 2 in image (b)? Same for element 1. Do we compare 1 to 6, 5, 4, 2 (in this order) in image (c)? If so, show this with code."
   ]
  },
  {
   "cell_type": "code",
   "execution_count": 4,
   "id": "88dba8fc",
   "metadata": {},
   "outputs": [],
   "source": [
    "def insertion_sort(A):\n",
    "    for j in range(1,len(A)):\n",
    "        key = A[j]\n",
    "        i = j-1\n",
    "        \n",
    "        while i>=0:\n",
    "            print(\"Is\", A[i], \"greater than\", key, \"?\")\n",
    "            if A[i]>key:\n",
    "                print(\"Yes,\", A[i], \"is greater than\", key)\n",
    "#                 print(\"Stay in for while loop\")\n",
    "                A[i+1] = A[i]\n",
    "                i = i-1 \n",
    "                \n",
    "                \n",
    "            else:\n",
    "                print(\"No,\", A[i], \"is NOT greater than\", key)\n",
    "                i = i-1\n",
    "                print(\"Exit while loop and go back to for loop\")\n",
    "            print()\n",
    "\n",
    "        A[i+1] = key\n",
    "    return A"
   ]
  },
  {
   "cell_type": "code",
   "execution_count": 5,
   "id": "30a70d67",
   "metadata": {},
   "outputs": [
    {
     "name": "stdout",
     "output_type": "stream",
     "text": [
      "Is 1 greater than 2 ?\n",
      "No, 1 is NOT greater than 2\n",
      "Exit while loop and go back to for loop\n",
      "\n",
      "Is 2 greater than 3 ?\n",
      "No, 2 is NOT greater than 3\n",
      "Exit while loop and go back to for loop\n",
      "\n",
      "Is 2 greater than 3 ?\n",
      "No, 2 is NOT greater than 3\n",
      "Exit while loop and go back to for loop\n",
      "\n",
      "Is 3 greater than 4 ?\n",
      "No, 3 is NOT greater than 4\n",
      "Exit while loop and go back to for loop\n",
      "\n",
      "Is 2 greater than 4 ?\n",
      "No, 2 is NOT greater than 4\n",
      "Exit while loop and go back to for loop\n",
      "\n",
      "Is 3 greater than 4 ?\n",
      "No, 3 is NOT greater than 4\n",
      "Exit while loop and go back to for loop\n",
      "\n",
      "Is 4 greater than 5 ?\n",
      "No, 4 is NOT greater than 5\n",
      "Exit while loop and go back to for loop\n",
      "\n",
      "Is 3 greater than 5 ?\n",
      "No, 3 is NOT greater than 5\n",
      "Exit while loop and go back to for loop\n",
      "\n",
      "Is 2 greater than 5 ?\n",
      "No, 2 is NOT greater than 5\n",
      "Exit while loop and go back to for loop\n",
      "\n",
      "Is 4 greater than 5 ?\n",
      "No, 4 is NOT greater than 5\n",
      "Exit while loop and go back to for loop\n",
      "\n",
      "Is 5 greater than 6 ?\n",
      "No, 5 is NOT greater than 6\n",
      "Exit while loop and go back to for loop\n",
      "\n",
      "Is 4 greater than 6 ?\n",
      "No, 4 is NOT greater than 6\n",
      "Exit while loop and go back to for loop\n",
      "\n",
      "Is 3 greater than 6 ?\n",
      "No, 3 is NOT greater than 6\n",
      "Exit while loop and go back to for loop\n",
      "\n",
      "Is 2 greater than 6 ?\n",
      "No, 2 is NOT greater than 6\n",
      "Exit while loop and go back to for loop\n",
      "\n",
      "Is 5 greater than 6 ?\n",
      "No, 5 is NOT greater than 6\n",
      "Exit while loop and go back to for loop\n",
      "\n"
     ]
    },
    {
     "data": {
      "text/plain": [
       "[6, 2, 3, 4, 5, 6]"
      ]
     },
     "execution_count": 5,
     "metadata": {},
     "output_type": "execute_result"
    }
   ],
   "source": [
    "insertion_sort(a)"
   ]
  },
  {
   "cell_type": "code",
   "execution_count": null,
   "id": "2e6fdeaa",
   "metadata": {},
   "outputs": [],
   "source": []
  }
 ],
 "metadata": {
  "kernelspec": {
   "display_name": "Python 3 (ipykernel)",
   "language": "python",
   "name": "python3"
  },
  "language_info": {
   "codemirror_mode": {
    "name": "ipython",
    "version": 3
   },
   "file_extension": ".py",
   "mimetype": "text/x-python",
   "name": "python",
   "nbconvert_exporter": "python",
   "pygments_lexer": "ipython3",
   "version": "3.9.16"
  }
 },
 "nbformat": 4,
 "nbformat_minor": 5
}
