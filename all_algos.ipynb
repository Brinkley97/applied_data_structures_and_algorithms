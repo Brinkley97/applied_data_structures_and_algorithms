{
 "cells": [
  {
   "cell_type": "markdown",
   "metadata": {},
   "source": [
    "# All Algos\n",
    "1. Heap Sort\n",
    "2. Quick Sort"
   ]
  },
  {
   "cell_type": "markdown",
   "metadata": {},
   "source": [
    "## Heap Sort"
   ]
  },
  {
   "cell_type": "code",
   "execution_count": 1,
   "metadata": {},
   "outputs": [],
   "source": [
    "# def get_root_node(i):\n",
    "#     return \n",
    "def get_left_node(i):\n",
    "    return 2 * i\n",
    "\n",
    "def get_right_node(i):\n",
    "    return 2 * i + 1"
   ]
  },
  {
   "cell_type": "code",
   "execution_count": 17,
   "metadata": {},
   "outputs": [],
   "source": [
    "def max_heapify(network: list, i: int):\n",
    "    print(i)\n",
    "    l = get_left_node(i)\n",
    "    r = get_right_node(i)\n",
    "\n",
    "    if l < len(network) and network[l] > network[i]:\n",
    "        largest = l\n",
    "    else:\n",
    "        largest = i\n",
    "    if r < len(network) and network[r] > network[i]:\n",
    "        largest = r\n",
    "        \n",
    "    if largest != i:\n",
    "        # Swap elements\n",
    "        network[i], network[largest] = network[largest], network[i]\n",
    "        \n",
    "        # Recursively heapify the affected sub-tree\n",
    "        max_heapify(network, largest)\n"
   ]
  },
  {
   "cell_type": "code",
   "execution_count": 24,
   "metadata": {},
   "outputs": [
    {
     "name": "stdout",
     "output_type": "stream",
     "text": [
      "Before max_heapify: [16, 4, 10, 14, 7, 9, 3, 2, 8, 1]\n",
      "1\n",
      "3\n",
      "After max_heapify: [16, 14, 10, 4, 7, 9, 3, 2, 8, 1]\n"
     ]
    }
   ],
   "source": [
    "max_heapify_list = [16, 4, 10, 14, 7, 9, 3, 2, 8, 1]\n",
    "# max_heapify_list = [4, 10, 3, 5, 1]\n",
    "index_to_heapify = 1\n",
    "\n",
    "print(f\"Before max_heapify: {max_heapify_list}\")\n",
    "max_heapify(max_heapify_list, index_to_heapify)\n",
    "print(f\"After max_heapify: {max_heapify_list}\")\n"
   ]
  },
  {
   "cell_type": "markdown",
   "metadata": {},
   "source": [
    "## Quick Sort"
   ]
  },
  {
   "cell_type": "code",
   "execution_count": null,
   "metadata": {},
   "outputs": [],
   "source": [
    "def quick_sort(int: list, low_index: int, high_index: int):\n",
    "    \"\"\"\n",
    "    \n",
    "    \"\"\"\n",
    "    int pivot = \n",
    "\n"
   ]
  }
 ],
 "metadata": {
  "kernelspec": {
   "display_name": "Python 3",
   "language": "python",
   "name": "python3"
  },
  "language_info": {
   "codemirror_mode": {
    "name": "ipython",
    "version": 3
   },
   "file_extension": ".py",
   "mimetype": "text/x-python",
   "name": "python",
   "nbconvert_exporter": "python",
   "pygments_lexer": "ipython3",
   "version": "3.12.3"
  }
 },
 "nbformat": 4,
 "nbformat_minor": 2
}
