{
 "cells": [
  {
   "cell_type": "markdown",
   "id": "51cbf913-2d98-4914-96c9-601fe5a31813",
   "metadata": {},
   "source": [
    "# [375. Guess Number Higher or Lower II](https://leetcode.com/problems/guess-number-higher-or-lower-ii/description/?envType=list&envId=55aj8s16)"
   ]
  },
  {
   "cell_type": "code",
   "execution_count": 40,
   "id": "755389a5-13b2-4ce2-b32b-e3d079fd6536",
   "metadata": {},
   "outputs": [],
   "source": [
    "# class Solution:\n",
    "#     def getMoneyAmount(self, n: int) -> int:\n",
    "#         \"\"\"\n",
    "#         Let OPT[low][high] be the minimum amount of money you need to guarantee a win.\n",
    "        \n",
    "#         Say pick is 8.\n",
    "#             I guess 5. Feedback: pick is higher, so I pay $5\n",
    "#             I guess 7. Feedback: pick is higher, so I pay $7\n",
    "#             I guess 9. Feedback: pick is lower, so I pay $9\n",
    "#         Game over. I pay $5 + $7 + $9 = $21\n",
    "        \n",
    "        \n",
    "#         \"\"\"\n",
    "        \n",
    "#         OPT = [[0] * (n + 1) for _ in range(n + 1)]\n",
    "        \n",
    "#         for low in range(n, 0, -1):\n",
    "#             for high in range(low + 1, n + 1):\n",
    "#                 left_branch = OPT[low][i - 1]\n",
    "#                 right_branch = OPT[i + 1][high]\n",
    "#                 OPT[low][high] = min(i + max(left_branch, right_branch) for i in range(low, high))\n",
    "#         return OPT[1][n]"
   ]
  },
  {
   "cell_type": "code",
   "execution_count": 45,
   "id": "a66e9ca8-7815-4766-b7ad-cff9b20279ca",
   "metadata": {},
   "outputs": [],
   "source": [
    "class Solution:\n",
    "    def getMoneyAmount(self, n: int) -> int:\n",
    "        \"\"\"\n",
    "        Let OPT[low][high] be the minimum amount of money you need to guarantee a win.\n",
    "        \n",
    "        Say pick is 8.\n",
    "            I guess 5. Feedback: pick is higher, so I pay $5\n",
    "            I guess 7. Feedback: pick is higher, so I pay $7\n",
    "            I guess 9. Feedback: pick is lower, so I pay $9\n",
    "        Game over. I pay $5 + $7 + $9 = $21\n",
    "        \n",
    "        \n",
    "        \"\"\"\n",
    "        \n",
    "        OPT = [[0] * (n + 1) for _ in range(n + 1)]\n",
    "        \n",
    "        for low in range(n, 0, -1):\n",
    "            for high in range(low + 1, n + 1):\n",
    "                OPT[low][high] = min(i + max(OPT[low][i - 1], OPT[i + 1][high]) for i in range(low, high))\n",
    "        return OPT[1][n]"
   ]
  },
  {
   "cell_type": "code",
   "execution_count": 46,
   "id": "98dafc61-49c4-4c98-8ba7-5fc07dc0a26a",
   "metadata": {},
   "outputs": [],
   "source": [
    "class Solution2:\n",
    "    def getMoneyAmount2(self, n: int) -> int:\n",
    "        def cost(low, high):\n",
    "            if high <= low:\n",
    "                return 0\n",
    "            \n",
    "            if (low, high) in memo:\n",
    "                return memo[(low, high)]\n",
    "            \n",
    "            output = float('inf')\n",
    "            \n",
    "            for i in range(low, high):\n",
    "                output = min(output, i + max(cost(low, i - 1), cost(i + 1, high)))\n",
    "            memo[(low, high)] = output\n",
    "            return output\n",
    "        \n",
    "        memo = {}\n",
    "        return cost(1, n)"
   ]
  },
  {
   "cell_type": "code",
   "execution_count": 47,
   "id": "9a890a9c-9817-464a-b3e1-de26fee291e8",
   "metadata": {},
   "outputs": [],
   "source": [
    "solution = Solution()\n",
    "solution2 = Solution2()"
   ]
  },
  {
   "cell_type": "code",
   "execution_count": 48,
   "id": "b7dc17a6-c7b4-4a80-9d8f-51246be5a6db",
   "metadata": {},
   "outputs": [
    {
     "data": {
      "text/plain": [
       "16"
      ]
     },
     "execution_count": 48,
     "metadata": {},
     "output_type": "execute_result"
    }
   ],
   "source": [
    "solution.getMoneyAmount(10)"
   ]
  },
  {
   "cell_type": "code",
   "execution_count": 49,
   "id": "87f93b80-2ca8-4d83-a48c-62b1873aab37",
   "metadata": {},
   "outputs": [
    {
     "data": {
      "text/plain": [
       "16"
      ]
     },
     "execution_count": 49,
     "metadata": {},
     "output_type": "execute_result"
    }
   ],
   "source": [
    "solution2.getMoneyAmount2(10)"
   ]
  },
  {
   "cell_type": "code",
   "execution_count": 50,
   "id": "fa19e271-84ec-4583-a8d2-effc39b53b6f",
   "metadata": {},
   "outputs": [
    {
     "data": {
      "text/plain": [
       "0"
      ]
     },
     "execution_count": 50,
     "metadata": {},
     "output_type": "execute_result"
    }
   ],
   "source": [
    "solution.getMoneyAmount(1)"
   ]
  },
  {
   "cell_type": "code",
   "execution_count": 51,
   "id": "062d2e94-1ef1-4e3a-a9c0-64ee01183429",
   "metadata": {},
   "outputs": [
    {
     "data": {
      "text/plain": [
       "0"
      ]
     },
     "execution_count": 51,
     "metadata": {},
     "output_type": "execute_result"
    }
   ],
   "source": [
    "solution2.getMoneyAmount2(1)"
   ]
  },
  {
   "cell_type": "code",
   "execution_count": 52,
   "id": "fb0ebe7d-c705-43e2-9b90-49c170383271",
   "metadata": {},
   "outputs": [
    {
     "data": {
      "text/plain": [
       "1"
      ]
     },
     "execution_count": 52,
     "metadata": {},
     "output_type": "execute_result"
    }
   ],
   "source": [
    "solution.getMoneyAmount(2)"
   ]
  },
  {
   "cell_type": "code",
   "execution_count": 53,
   "id": "d42e29b7-5104-4642-80f8-8292140584eb",
   "metadata": {},
   "outputs": [
    {
     "data": {
      "text/plain": [
       "1"
      ]
     },
     "execution_count": 53,
     "metadata": {},
     "output_type": "execute_result"
    }
   ],
   "source": [
    "solution2.getMoneyAmount2(2)"
   ]
  },
  {
   "cell_type": "code",
   "execution_count": null,
   "id": "62c240b1-8c1f-46fe-af24-f9f02f199362",
   "metadata": {},
   "outputs": [],
   "source": []
  }
 ],
 "metadata": {
  "kernelspec": {
   "display_name": "Python 3 (ipykernel)",
   "language": "python",
   "name": "python3"
  },
  "language_info": {
   "codemirror_mode": {
    "name": "ipython",
    "version": 3
   },
   "file_extension": ".py",
   "mimetype": "text/x-python",
   "name": "python",
   "nbconvert_exporter": "python",
   "pygments_lexer": "ipython3",
   "version": "3.9.7"
  }
 },
 "nbformat": 4,
 "nbformat_minor": 5
}
