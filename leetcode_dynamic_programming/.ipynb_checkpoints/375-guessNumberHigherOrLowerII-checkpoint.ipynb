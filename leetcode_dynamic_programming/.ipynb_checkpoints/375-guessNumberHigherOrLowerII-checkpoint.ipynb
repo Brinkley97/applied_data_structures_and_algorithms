{
 "cells": [
  {
   "cell_type": "markdown",
   "id": "51cbf913-2d98-4914-96c9-601fe5a31813",
   "metadata": {},
   "source": [
    "# [375. Guess Number Higher or Lower II](https://leetcode.com/problems/guess-number-higher-or-lower-ii/description/?envType=list&envId=55aj8s16)"
   ]
  },
  {
   "cell_type": "code",
   "execution_count": 13,
   "id": "755389a5-13b2-4ce2-b32b-e3d079fd6536",
   "metadata": {},
   "outputs": [],
   "source": [
    "class Solution:\n",
    "    def getMoneyAmount(self, n: int) -> int:\n",
    "        \"\"\"\n",
    "        Let OPT[low][high] be the minimum amount of money you need to guarantee \n",
    "        a win regardless of what number I pick. \n",
    "        \"\"\"\n",
    "        \n",
    "        def cost(low, high):\n",
    "            if high <= low:\n",
    "                return 0\n",
    "            \n",
    "            if (low, high) in memo:\n",
    "                return memo[(low, high)]\n",
    "            \n",
    "            output = float('inf')\n",
    "            \n",
    "            for i in range(low, high):\n",
    "                output = min(output, i + max(cost(low, i - 1), cost(i + 1, high)))\n",
    "            memo[(low, high)] = output\n",
    "            return output\n",
    "        \n",
    "        memo = {}\n",
    "        return cost(1, n)"
   ]
  },
  {
   "cell_type": "code",
   "execution_count": 14,
   "id": "9a890a9c-9817-464a-b3e1-de26fee291e8",
   "metadata": {},
   "outputs": [],
   "source": [
    "solution = Solution()"
   ]
  },
  {
   "cell_type": "code",
   "execution_count": 15,
   "id": "b7dc17a6-c7b4-4a80-9d8f-51246be5a6db",
   "metadata": {},
   "outputs": [
    {
     "data": {
      "text/plain": [
       "16"
      ]
     },
     "execution_count": 15,
     "metadata": {},
     "output_type": "execute_result"
    }
   ],
   "source": [
    "solution.getMoneyAmount(10)"
   ]
  },
  {
   "cell_type": "code",
   "execution_count": 16,
   "id": "fa19e271-84ec-4583-a8d2-effc39b53b6f",
   "metadata": {},
   "outputs": [
    {
     "data": {
      "text/plain": [
       "0"
      ]
     },
     "execution_count": 16,
     "metadata": {},
     "output_type": "execute_result"
    }
   ],
   "source": [
    "solution.getMoneyAmount(1)"
   ]
  },
  {
   "cell_type": "code",
   "execution_count": 17,
   "id": "fb0ebe7d-c705-43e2-9b90-49c170383271",
   "metadata": {},
   "outputs": [
    {
     "data": {
      "text/plain": [
       "1"
      ]
     },
     "execution_count": 17,
     "metadata": {},
     "output_type": "execute_result"
    }
   ],
   "source": [
    "solution.getMoneyAmount(2)"
   ]
  },
  {
   "cell_type": "code",
   "execution_count": null,
   "id": "98dafc61-49c4-4c98-8ba7-5fc07dc0a26a",
   "metadata": {},
   "outputs": [],
   "source": []
  }
 ],
 "metadata": {
  "kernelspec": {
   "display_name": "Python 3 (ipykernel)",
   "language": "python",
   "name": "python3"
  },
  "language_info": {
   "codemirror_mode": {
    "name": "ipython",
    "version": 3
   },
   "file_extension": ".py",
   "mimetype": "text/x-python",
   "name": "python",
   "nbconvert_exporter": "python",
   "pygments_lexer": "ipython3",
   "version": "3.9.7"
  }
 },
 "nbformat": 4,
 "nbformat_minor": 5
}
