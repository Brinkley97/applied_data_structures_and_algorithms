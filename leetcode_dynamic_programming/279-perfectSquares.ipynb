{
 "cells": [
  {
   "cell_type": "markdown",
   "id": "24ab393a-4447-4b25-9afe-ec50e131fb22",
   "metadata": {},
   "source": [
    "# [279. Perfect Squares](https://leetcode.com/problems/perfect-squares/description/?envType=list&envId=55ac4kuc)"
   ]
  },
  {
   "cell_type": "code",
   "execution_count": 17,
   "id": "240f9944-be2c-48f1-87a1-544557902058",
   "metadata": {},
   "outputs": [],
   "source": [
    "# class Solution:\n",
    "    \n",
    "#     def getSquareNumsSubset(self, n: int, square_numbers):\n",
    "        \n",
    "#         subset = []\n",
    "        \n",
    "#         for square_number in square_numbers:\n",
    "#             if n > square_number:\n",
    "#                 print(square_number, True)\n",
    "#                 subset.append(square_number)\n",
    "                \n",
    "#         return subset\n",
    "                \n",
    "#     def numSquares(self, n: int) -> int:\n",
    "#         \"\"\"Max/Min DP Problem\n",
    "\n",
    "#         Let OPT[k, x] be the least number of perfect square nums that sum to n where\n",
    "#         k is all denominations from 1 to n and x is the given amount from 0 to n.\n",
    "#         \"\"\"\n",
    "#         # print(n)\n",
    "        \n",
    "#         square_nums = []\n",
    "#         for i in range(1, 10):\n",
    "#             square_num = i ** 2\n",
    "#             square_nums.append(square_num)\n",
    "        \n",
    "#         print(square_nums)\n",
    "        \n",
    "#         subset = self.getSquareNumsSubset(n, square_nums)\n",
    "#         print(subset)\n",
    "        \n",
    "#         OPT = [[0 for _ in range(n)] for _ in range(n)]\n",
    "#         # print(OPT)\n",
    "        \n",
    "#         for i in range(len(OPT)):\n",
    "            \n",
    "#             OPT[1][i] = 1\n",
    "#             OPT[i][0] = 0\n",
    "        \n",
    "#         # print(\"Updated OPT: \", OPT)\n",
    "        \n",
    "#         for k in range(len(OPT)):\n",
    "#             for x in range(len(OPT)):\n",
    "#                 for num in subset: \n",
    "#                     dont_take_kth_denom = OPT[k - 1][x]\n",
    "#                     take_kth_denom = OPT[k][x - num] + 1\n",
    "\n",
    "#                     OPT[k][x] = min(dont_take_kth_denom, take_kth_denom)\n",
    "#                     print(OPT)\n",
    "        \n",
    "        \n",
    "#         return OPT[k - 1][x - 1]\n",
    "        \n",
    "                \n",
    "        \n",
    "        \n",
    "        "
   ]
  },
  {
   "cell_type": "code",
   "execution_count": 18,
   "id": "3072788c-d177-4c2c-98a2-47c07e8a8b77",
   "metadata": {},
   "outputs": [],
   "source": [
    "solution = Solution()"
   ]
  },
  {
   "cell_type": "code",
   "execution_count": 3,
   "id": "76797c19-aab8-4e03-a029-4c6611ef7938",
   "metadata": {},
   "outputs": [],
   "source": [
    "# solution.numSquares(12)"
   ]
  },
  {
   "cell_type": "code",
   "execution_count": 25,
   "id": "e6045962-9ad7-461c-9375-bb569967ccb5",
   "metadata": {},
   "outputs": [],
   "source": [
    "class Solution:            \n",
    "    def numSquares(self, n: int) -> int:\n",
    "        \"\"\"Max/Min DP Problem\n",
    "\n",
    "        Let OPT[k, x] be the least number of perfect square nums that sum to n where\n",
    "        k is all denominations from 1 to n and x is the given amount from 0 to n.\n",
    "        \"\"\"\n",
    "        # print(n)\n",
    "        OPT = [20000 for _ in range(n + 1)]\n",
    "        OPT[0] = 0\n",
    "        square_nums = []\n",
    "\n",
    "        for i in range(1, n + 1):\n",
    "            if pow(i, 2) > n:\n",
    "                break\n",
    "            square_nums.append(i ** 2)\n",
    "        \n",
    "        for k in range(n + 1):\n",
    "            for square_num in square_nums:\n",
    "                print(k, square_num)\n",
    "                if k + square_num <= n: \n",
    "                    OPT[k + square_num] = min(OPT[k] + 1, OPT[k + square_num])\n",
    "                    # print(OPT)\n",
    "                else:\n",
    "                    print(square_num, \"is a perfect square\")\n",
    "                    break\n",
    "        \n",
    "        \n",
    "        return OPT[n]"
   ]
  },
  {
   "cell_type": "code",
   "execution_count": 26,
   "id": "9868f4e9-48ca-4eb8-b1ac-a92e3e443c64",
   "metadata": {},
   "outputs": [],
   "source": [
    "solution = Solution()"
   ]
  },
  {
   "cell_type": "code",
   "execution_count": 27,
   "id": "148e388e-8402-4124-823d-7ef855d1a900",
   "metadata": {},
   "outputs": [
    {
     "name": "stdout",
     "output_type": "stream",
     "text": [
      "0 1\n",
      "0 4\n",
      "0 9\n",
      "1 1\n",
      "1 4\n",
      "1 9\n",
      "2 1\n",
      "2 4\n",
      "2 9\n",
      "3 1\n",
      "3 4\n",
      "3 9\n",
      "4 1\n",
      "4 4\n",
      "4 9\n",
      "9 is a perfect square\n",
      "5 1\n",
      "5 4\n",
      "5 9\n",
      "9 is a perfect square\n",
      "6 1\n",
      "6 4\n",
      "6 9\n",
      "9 is a perfect square\n",
      "7 1\n",
      "7 4\n",
      "7 9\n",
      "9 is a perfect square\n",
      "8 1\n",
      "8 4\n",
      "8 9\n",
      "9 is a perfect square\n",
      "9 1\n",
      "9 4\n",
      "4 is a perfect square\n",
      "10 1\n",
      "10 4\n",
      "4 is a perfect square\n",
      "11 1\n",
      "11 4\n",
      "4 is a perfect square\n",
      "12 1\n",
      "1 is a perfect square\n"
     ]
    },
    {
     "data": {
      "text/plain": [
       "3"
      ]
     },
     "execution_count": 27,
     "metadata": {},
     "output_type": "execute_result"
    }
   ],
   "source": [
    "solution.numSquares(12)"
   ]
  },
  {
   "cell_type": "code",
   "execution_count": null,
   "id": "ba82f414-5923-4818-9791-39cd66f8386b",
   "metadata": {},
   "outputs": [],
   "source": []
  }
 ],
 "metadata": {
  "kernelspec": {
   "display_name": "Python 3 (ipykernel)",
   "language": "python",
   "name": "python3"
  },
  "language_info": {
   "codemirror_mode": {
    "name": "ipython",
    "version": 3
   },
   "file_extension": ".py",
   "mimetype": "text/x-python",
   "name": "python",
   "nbconvert_exporter": "python",
   "pygments_lexer": "ipython3",
   "version": "3.9.16"
  }
 },
 "nbformat": 4,
 "nbformat_minor": 5
}
