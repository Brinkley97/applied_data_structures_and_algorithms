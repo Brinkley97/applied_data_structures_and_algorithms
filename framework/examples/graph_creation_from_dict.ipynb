{
 "cells": [
  {
   "cell_type": "markdown",
   "metadata": {},
   "source": [
    "# Graph basics\n",
    "\n",
    "- What is a graph?\n",
    "- Applications\n",
    "- Creation of an undirected graph from a python dictionary."
   ]
  },
  {
   "cell_type": "markdown",
   "metadata": {},
   "source": [
    "## What is a graph?\n",
    "\n",
    "- Formally, a graph is described as a way of encoding pairwise relationships among a set of objects: it consists of a collection $ V $ of vertices (also called nodes, $ N $) and a collection $ E $ of edges (also called links, $ L $), each of which joins two of the nodes [1]. \n",
    "\n",
    "$$\n",
    "\n",
    "G = (N, L)\n",
    "\n",
    "$$\n",
    "\n",
    "- Graphs can be directed or undirected."
   ]
  },
  {
   "cell_type": "code",
   "execution_count": 2,
   "metadata": {},
   "outputs": [
    {
     "name": "stdout",
     "output_type": "stream",
     "text": [
      "A -> ['B', 'C']\n",
      "B -> ['A', 'D', 'E']\n",
      "C -> ['A', 'F']\n",
      "D -> ['B', 'E']\n",
      "E -> ['B', 'D', 'F']\n",
      "F -> ['C', 'E']\n"
     ]
    }
   ],
   "source": [
    "# Simple graph using dictionary (also called an adjacency list)\n",
    "undirected_graph = {\n",
    "    'A': ['B', 'C'],\n",
    "    'B': ['A', 'D', 'E'],\n",
    "    'C': ['A', 'F'],\n",
    "    'D': ['B', 'E'],\n",
    "    'E': ['B', 'D', 'F'],\n",
    "    'F': ['C', 'E']\n",
    "}\n",
    "\n",
    "# Print the graph\n",
    "for node, neighbors in undirected_graph.items():\n",
    "    print(f\"{node} -> {neighbors}\")"
   ]
  },
  {
   "cell_type": "markdown",
   "metadata": {},
   "source": [
    "# References\n",
    "\n",
    "1. BOOK: Algorithm Design by Kleinberg, Jon and Tardos"
   ]
  },
  {
   "cell_type": "markdown",
   "metadata": {},
   "source": []
  }
 ],
 "metadata": {
  "kernelspec": {
   "display_name": "graphbreeds",
   "language": "python",
   "name": "python3"
  },
  "language_info": {
   "codemirror_mode": {
    "name": "ipython",
    "version": 3
   },
   "file_extension": ".py",
   "mimetype": "text/x-python",
   "name": "python",
   "nbconvert_exporter": "python",
   "pygments_lexer": "ipython3",
   "version": "3.12.3"
  }
 },
 "nbformat": 4,
 "nbformat_minor": 2
}
