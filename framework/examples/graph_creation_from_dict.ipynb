{
 "cells": [
  {
   "cell_type": "markdown",
   "metadata": {},
   "source": [
    "# Graph basics\n",
    "\n",
    "- What is a graph?\n",
    "- Applications\n",
    "- Creation of an undirected graph from a python dictionary."
   ]
  },
  {
   "cell_type": "code",
   "execution_count": 1,
   "metadata": {},
   "outputs": [
    {
     "name": "stderr",
     "output_type": "stream",
     "text": [
      "\n",
      "(ipykernel_launcher.py:93447): Gtk-WARNING **: 22:17:25.181: Locale not supported by C library.\n",
      "\tUsing the fallback 'C' locale.\n",
      "objc[93447]: Class GNotificationCenterDelegate is implemented in both /Users/brinkley97/opt/anaconda3/envs/graphbreeding_rpy2/lib/libgio-2.0.0.dylib (0x1aba54bc0) and /usr/local/Cellar/glib/2.80.4/lib/libgio-2.0.0.dylib (0x1b99a46b0). One of the two will be used. Which one is undefined.\n"
     ]
    }
   ],
   "source": [
    "import os\n",
    "import sys\n",
    "# Get the current working directory of the notebook\n",
    "notebook_dir = os.getcwd()\n",
    "\n",
    "# Add the parent directory to the system path\n",
    "sys.path.append(os.path.join(notebook_dir, '../'))\n",
    "\n",
    "from data_loader import LoadNetworkX, LoadGraphTool\n",
    "from data_visual import VisualizeNetworkX"
   ]
  },
  {
   "cell_type": "markdown",
   "metadata": {},
   "source": [
    "## What is a graph?\n",
    "\n",
    "- Formally, a graph is described as a way of encoding pairwise relationships among a set of objects: it consists of a collection $ V $ of vertices (also called nodes, $ N $) and a collection $ E $ of edges (also called links, $ L $), each of which joins two of the nodes [1]. \n",
    "\n",
    "$$\n",
    "\n",
    "G = (V, E)\n",
    "\n",
    "$$\n",
    "\n",
    "- Graphs can be directed or undirected."
   ]
  },
  {
   "cell_type": "code",
   "execution_count": 9,
   "metadata": {},
   "outputs": [
    {
     "name": "stdout",
     "output_type": "stream",
     "text": [
      "1 -> [2, 3]\n",
      "2 -> [1, 4, 5]\n",
      "3 -> [1, 6]\n",
      "4 -> [2, 5]\n",
      "5 -> [2, 4, 6]\n",
      "6 -> [3, 5]\n"
     ]
    }
   ],
   "source": [
    "# Simple graph using dictionary (also called an adjacency list)\n",
    "# undirected_graph = {\n",
    "#     'A': ['B', 'C'],\n",
    "#     'B': ['A', 'D', 'E'],\n",
    "#     'C': ['A', 'F'],\n",
    "#     'D': ['B', 'E'],\n",
    "#     'E': ['B', 'D', 'F'],\n",
    "#     'F': ['C', 'E']\n",
    "# }\n",
    "\n",
    "undirected_graph = {\n",
    "    1: [2, 3],\n",
    "    2: [1, 4, 5],\n",
    "    3: [1, 6],\n",
    "    4: [2, 5],\n",
    "    5: [2, 4, 6],\n",
    "    6: [3, 5]\n",
    "}\n",
    "\n",
    "\n",
    "# Print the graph\n",
    "for node, neighbors in undirected_graph.items():\n",
    "    print(f\"{node} -> {neighbors}\")"
   ]
  },
  {
   "cell_type": "code",
   "execution_count": 10,
   "metadata": {},
   "outputs": [],
   "source": [
    "nx_graph_class = LoadNetworkX()\n",
    "nx_graph_visual = VisualizeNetworkX()"
   ]
  },
  {
   "cell_type": "code",
   "execution_count": 11,
   "metadata": {},
   "outputs": [],
   "source": [
    "nx_graph = nx_graph_class.dict_to_graph(undirected_graph)"
   ]
  },
  {
   "cell_type": "code",
   "execution_count": 12,
   "metadata": {},
   "outputs": [
    {
     "data": {
      "image/png": "[encoded data removed]",
      "text/plain": [
       "<Figure size 640x480 with 1 Axes>"
      ]
     },
     "metadata": {},
     "output_type": "display_data"
    }
   ],
   "source": [
    "nx_graph_visual.visualize(nx_graph)"
   ]
  },
  {
   "cell_type": "code",
   "execution_count": 13,
   "metadata": {},
   "outputs": [],
   "source": [
    "gt_graph_class = LoadGraphTool()\n",
    "# gt_graph_visual = VisualizeGraphTool()"
   ]
  },
  {
   "cell_type": "code",
   "execution_count": 15,
   "metadata": {},
   "outputs": [],
   "source": [
    "gt_graph = gt_graph_class.dict_to_graph(undirected_graph, directed=False, all_integers=True)"
   ]
  },
  {
   "cell_type": "markdown",
   "metadata": {},
   "source": [
    "# References\n",
    "\n",
    "1. BOOK: Algorithm Design by Kleinberg, Jon and Tardos"
   ]
  }
 ],
 "metadata": {
  "kernelspec": {
   "display_name": "graphbreeding_rpy2",
   "language": "python",
   "name": "python3"
  },
  "language_info": {
   "codemirror_mode": {
    "name": "ipython",
    "version": 3
   },
   "file_extension": ".py",
   "mimetype": "text/x-python",
   "name": "python",
   "nbconvert_exporter": "python",
   "pygments_lexer": "ipython3",
   "version": "3.9.13"
  }
 },
 "nbformat": 4,
 "nbformat_minor": 2
}
