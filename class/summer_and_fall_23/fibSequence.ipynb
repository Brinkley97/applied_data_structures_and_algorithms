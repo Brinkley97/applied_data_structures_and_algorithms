{
 "cells": [
  {
   "cell_type": "markdown",
   "id": "2508d776-c321-4274-8d1e-390c25a2928f",
   "metadata": {},
   "source": [
    "# Fib Sequence\n",
    "- Calculate the maxa fib #\n",
    "- `0, 1, 1, 2, 3, 5, 8, 13, 21, 34`"
   ]
  },
  {
   "cell_type": "code",
   "execution_count": 26,
   "id": "0cd34ede-4ad8-49ac-a4cf-958aa3587dd4",
   "metadata": {},
   "outputs": [
    {
     "name": "stdout",
     "output_type": "stream",
     "text": [
      "[-1, -1, -1, -1, -1, -1, -1, -1, -1, -1]\n"
     ]
    }
   ],
   "source": [
    "maxa = 9\n",
    "dp = [-1 for i in range(maxa + 1)]\n",
    "print(dp)\n",
    "\n",
    "def fib(n):\n",
    "    print(n, dp)\n",
    "    if dp[n] != -1:\n",
    "        print(\"return dp[n]:\", dp[n])\n",
    "        return dp[n]\n",
    "    if n <= 1:\n",
    "        print(\"return n:\", n)\n",
    "        return n\n",
    "    dp[n] = fib(n - 1) + fib(n - 2)\n",
    "    return dp[n]"
   ]
  },
  {
   "cell_type": "code",
   "execution_count": 27,
   "id": "e1717ec6-b763-4081-a254-9a91052502f6",
   "metadata": {},
   "outputs": [
    {
     "name": "stdout",
     "output_type": "stream",
     "text": [
      "9 [-1, -1, -1, -1, -1, -1, -1, -1, -1, -1]\n",
      "8 [-1, -1, -1, -1, -1, -1, -1, -1, -1, -1]\n",
      "7 [-1, -1, -1, -1, -1, -1, -1, -1, -1, -1]\n",
      "6 [-1, -1, -1, -1, -1, -1, -1, -1, -1, -1]\n",
      "5 [-1, -1, -1, -1, -1, -1, -1, -1, -1, -1]\n",
      "4 [-1, -1, -1, -1, -1, -1, -1, -1, -1, -1]\n",
      "3 [-1, -1, -1, -1, -1, -1, -1, -1, -1, -1]\n",
      "2 [-1, -1, -1, -1, -1, -1, -1, -1, -1, -1]\n",
      "1 [-1, -1, -1, -1, -1, -1, -1, -1, -1, -1]\n",
      "return n: 1\n",
      "0 [-1, -1, -1, -1, -1, -1, -1, -1, -1, -1]\n",
      "return n: 0\n",
      "1 [-1, -1, 1, -1, -1, -1, -1, -1, -1, -1]\n",
      "return n: 1\n",
      "2 [-1, -1, 1, 2, -1, -1, -1, -1, -1, -1]\n",
      "return dp[n]: 1\n",
      "3 [-1, -1, 1, 2, 3, -1, -1, -1, -1, -1]\n",
      "return dp[n]: 2\n",
      "4 [-1, -1, 1, 2, 3, 5, -1, -1, -1, -1]\n",
      "return dp[n]: 3\n",
      "5 [-1, -1, 1, 2, 3, 5, 8, -1, -1, -1]\n",
      "return dp[n]: 5\n",
      "6 [-1, -1, 1, 2, 3, 5, 8, 13, -1, -1]\n",
      "return dp[n]: 8\n",
      "7 [-1, -1, 1, 2, 3, 5, 8, 13, 21, -1]\n",
      "return dp[n]: 13\n"
     ]
    },
    {
     "data": {
      "text/plain": [
       "34"
      ]
     },
     "execution_count": 27,
     "metadata": {},
     "output_type": "execute_result"
    }
   ],
   "source": [
    "fib(maxa)"
   ]
  },
  {
   "cell_type": "code",
   "execution_count": null,
   "id": "9790265a-2e63-4940-8195-411569e1214c",
   "metadata": {},
   "outputs": [],
   "source": []
  }
 ],
 "metadata": {
  "kernelspec": {
   "display_name": "Python 3 (ipykernel)",
   "language": "python",
   "name": "python3"
  },
  "language_info": {
   "codemirror_mode": {
    "name": "ipython",
    "version": 3
   },
   "file_extension": ".py",
   "mimetype": "text/x-python",
   "name": "python",
   "nbconvert_exporter": "python",
   "pygments_lexer": "ipython3",
   "version": "3.9.16"
  }
 },
 "nbformat": 4,
 "nbformat_minor": 5
}
