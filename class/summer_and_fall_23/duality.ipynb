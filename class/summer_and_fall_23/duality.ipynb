{
 "cells": [
  {
   "cell_type": "markdown",
   "id": "2985a279-db54-4fcc-a5fe-e1f1503e58a1",
   "metadata": {},
   "source": [
    "# Duality: Primal and Dual"
   ]
  },
  {
   "cell_type": "code",
   "execution_count": 14,
   "id": "120a79cc-5a3d-44da-8733-38a177f7d566",
   "metadata": {},
   "outputs": [],
   "source": [
    "def primal(x1: int, x2: int):\n",
    "    \"\"\"Max z subject to constraints\n",
    "    \n",
    "    \"\"\"\n",
    "    \n",
    "    # Check form\n",
    "    eq1 = 2 * x1 + 3 * x2\n",
    "    eq2 = 4 * x1 + 3 * x2\n",
    "    \n",
    "    if eq1 <= 60:\n",
    "        z = 40 * x1 + 3 * x2\n",
    "    else:\n",
    "        z = 0\n",
    "        print(\"eq1 NOT in primal form\")\n",
    "        \n",
    "    if eq2 <= 96:\n",
    "        pass\n",
    "        # z = 40 * x1 + 3 * x2\n",
    "    else:\n",
    "        z = 0\n",
    "        print(\"eq2 NOT in primal form\")\n",
    "        \n",
    "    return z"
   ]
  },
  {
   "cell_type": "code",
   "execution_count": 15,
   "id": "3b2376bf-d04f-4005-8fef-6fabaa4cc579",
   "metadata": {},
   "outputs": [
    {
     "name": "stdout",
     "output_type": "stream",
     "text": [
      "eq1 NOT in primal form\n",
      "eq2 NOT in primal form\n"
     ]
    },
    {
     "data": {
      "text/plain": [
       "0"
      ]
     },
     "execution_count": 15,
     "metadata": {},
     "output_type": "execute_result"
    }
   ],
   "source": [
    "primal(5, 80)"
   ]
  },
  {
   "cell_type": "code",
   "execution_count": 24,
   "id": "7e4559ce-46d3-4c6e-8acc-0423964b5551",
   "metadata": {},
   "outputs": [
    {
     "data": {
      "text/plain": [
       "224"
      ]
     },
     "execution_count": 24,
     "metadata": {},
     "output_type": "execute_result"
    }
   ],
   "source": [
    "P = primal(5, 8)\n",
    "P"
   ]
  },
  {
   "cell_type": "code",
   "execution_count": 55,
   "id": "d7e2daa2-b2d0-4985-9a63-bd643670f769",
   "metadata": {},
   "outputs": [],
   "source": [
    "def dual(y1: int, y2: int):\n",
    "    \"\"\"Min w subject to constraints\n",
    "    \n",
    "    \"\"\"\n",
    "    \n",
    "    # Check form\n",
    "    if y1 < 0:\n",
    "        print(\"y1 can't be less than 0\")\n",
    "        w = 0\n",
    "    \n",
    "    if y2 < 0:\n",
    "        print(\"y2 can't be less than 0\")\n",
    "        w = 0\n",
    "    \n",
    "    \n",
    "    eq1 = 2 * y1 + 4 * y2\n",
    "    eq2 = 3 * y1 + 3 * y2\n",
    "    \n",
    "    if eq1 >= 40:\n",
    "        w = 60 * y1 + 96 * y2\n",
    "    else:\n",
    "        w = 0\n",
    "        print(\"eq1 NOT in primal form\")\n",
    "        \n",
    "    if eq2 >= 35:\n",
    "        pass\n",
    "        # z = 40 * x1 + 3 * x2\n",
    "    else:\n",
    "        w = 0\n",
    "        print(\"eq2 NOT in primal form\")\n",
    "        \n",
    "    return w"
   ]
  },
  {
   "cell_type": "code",
   "execution_count": 58,
   "id": "231024d0-4a40-4299-8e93-8739b5145b5e",
   "metadata": {},
   "outputs": [
    {
     "name": "stdout",
     "output_type": "stream",
     "text": [
      "y1 can't be less than 0\n",
      "y2 can't be less than 0\n",
      "eq1 NOT in primal form\n",
      "eq2 NOT in primal form\n"
     ]
    },
    {
     "data": {
      "text/plain": [
       "0"
      ]
     },
     "execution_count": 58,
     "metadata": {},
     "output_type": "execute_result"
    }
   ],
   "source": [
    "D = dual(-1, -2)\n",
    "D"
   ]
  },
  {
   "cell_type": "code",
   "execution_count": 51,
   "id": "268b8df5-f6a2-4eeb-9012-1a55753bf289",
   "metadata": {},
   "outputs": [
    {
     "data": {
      "text/plain": [
       "False"
      ]
     },
     "execution_count": 51,
     "metadata": {},
     "output_type": "execute_result"
    }
   ],
   "source": [
    "P == D"
   ]
  },
  {
   "cell_type": "code",
   "execution_count": null,
   "id": "235f0333-00a4-4b6c-b289-c3a6d1380359",
   "metadata": {},
   "outputs": [],
   "source": []
  }
 ],
 "metadata": {
  "kernelspec": {
   "display_name": "Python 3 (ipykernel)",
   "language": "python",
   "name": "python3"
  },
  "language_info": {
   "codemirror_mode": {
    "name": "ipython",
    "version": 3
   },
   "file_extension": ".py",
   "mimetype": "text/x-python",
   "name": "python",
   "nbconvert_exporter": "python",
   "pygments_lexer": "ipython3",
   "version": "3.9.16"
  }
 },
 "nbformat": 4,
 "nbformat_minor": 5
}
