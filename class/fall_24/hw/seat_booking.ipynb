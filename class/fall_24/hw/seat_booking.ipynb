{
 "cells": [
  {
   "cell_type": "markdown",
   "metadata": {},
   "source": [
    "# Playground \n",
    "\n",
    "- Test classes and functions."
   ]
  },
  {
   "cell_type": "code",
   "execution_count": 1,
   "metadata": {},
   "outputs": [],
   "source": [
    "import seat_booking_script as sb\n",
    "import heap_operations, tree_operations, visualizations"
   ]
  },
  {
   "cell_type": "code",
   "execution_count": 2,
   "metadata": {},
   "outputs": [],
   "source": [
    "seat = sb.SeatBooking()\n",
    "seat_heap = heap_operations.SeatHeap()"
   ]
  },
  {
   "cell_type": "markdown",
   "metadata": {},
   "source": [
    "## Test Case 1\n",
    "\n",
    "![testcase](testCase1-input.png)\n",
    "![testcase](testCase1-output-v1.png)\n",
    "![testcase](testCase1-output-v2.png)"
   ]
  },
  {
   "cell_type": "code",
   "execution_count": 3,
   "metadata": {},
   "outputs": [
    {
     "name": "stdout",
     "output_type": "stream",
     "text": [
      "5 seats are made available for reservation\n"
     ]
    },
    {
     "data": {
      "image/png": "[encoded data removed]",
      "text/plain": [
       "<Figure size 640x480 with 1 Axes>"
      ]
     },
     "metadata": {},
     "output_type": "display_data"
    },
    {
     "data": {
      "text/plain": [
       "'Total Seats Available : 5, Waitlist : 0'"
      ]
     },
     "execution_count": 3,
     "metadata": {},
     "output_type": "execute_result"
    }
   ],
   "source": [
    "seat.initialize(5)\n",
    "# Think on how to build waitlist\n",
    "seat.available()"
   ]
  },
  {
   "cell_type": "markdown",
   "metadata": {},
   "source": [
    "- [ ] Need to delete node from Red Black Tree"
   ]
  },
  {
   "cell_type": "code",
   "execution_count": 4,
   "metadata": {},
   "outputs": [
    {
     "name": "stdout",
     "output_type": "stream",
     "text": [
      "User 1 reserved seat 1\n",
      "    1) Insert into Red-Black Tree User 1 and Seat 1 with root node color of black \n",
      "       RBT [Node(User=1, Seat=1, color=black)] \n",
      "    2) Remove 1 from Seat Heap\n",
      "User 2 reserved seat 2\n",
      "    1) Insert into Red-Black Tree User 2 and Seat 2 with root node color of black \n",
      "       RBT [Node(User=1, Seat=1, color=black), Node(User=2, Seat=2, color=red)] \n",
      "    2) Remove 2 from Seat Heap\n",
      "1\n",
      "User 1 canceled their reservation, reinserting seat 1 into seat heap.\n",
      "1\n",
      "Updated RBT: [Node(User=2, Seat=2, color=black)]\n"
     ]
    },
    {
     "data": {
      "image/png": "[encoded data removed]",
      "text/plain": [
       "<Figure size 640x480 with 1 Axes>"
      ]
     },
     "metadata": {},
     "output_type": "display_data"
    }
   ],
   "source": [
    "seat.reserve(1, 1)\n",
    "seat.reserve(2, 1)\n",
    "seat.cancel(1, 1)"
   ]
  },
  {
   "cell_type": "code",
   "execution_count": 5,
   "metadata": {},
   "outputs": [
    {
     "name": "stdout",
     "output_type": "stream",
     "text": [
      "User 3 reserved seat 1\n",
      "    1) Insert into Red-Black Tree User 3 and Seat 1 with root node color of black \n",
      "       RBT [Node(User=2, Seat=2, color=black), Node(User=3, Seat=1, color=red)] \n",
      "    2) Remove 1 from Seat Heap\n",
      "RBT ['(seat=1, user=3)', '(seat=2, user=2)']\n",
      "Program Terminated!!\n"
     ]
    }
   ],
   "source": [
    "seat.reserve(3, 1)\n",
    "seat.print_reservations()\n",
    "seat.quit()"
   ]
  },
  {
   "cell_type": "markdown",
   "metadata": {},
   "source": [
    "![testcase](testCase1-output-v1.png)\n",
    "![testcase](testCase1-output-v2.png)"
   ]
  },
  {
   "cell_type": "code",
   "execution_count": null,
   "metadata": {},
   "outputs": [],
   "source": []
  },
  {
   "cell_type": "markdown",
   "metadata": {},
   "source": [
    "## Test Case 2\n",
    "\n",
    "![testcase](testCase2-input.png)\n",
    "![testcase](testCase2-output-v2.png)\n",
    "![testcase](testCase2-output-v1.png)"
   ]
  },
  {
   "cell_type": "code",
   "execution_count": 6,
   "metadata": {},
   "outputs": [],
   "source": [
    "import seat_booking_script as sb\n",
    "import heap_operations, tree_operations, visualizations\n",
    "\n",
    "seat = sb.SeatBooking()\n",
    "seat_heap = heap_operations.SeatHeap()"
   ]
  },
  {
   "cell_type": "code",
   "execution_count": 7,
   "metadata": {},
   "outputs": [
    {
     "name": "stdout",
     "output_type": "stream",
     "text": [
      "3 seats are made available for reservation\n"
     ]
    },
    {
     "data": {
      "image/png": "[encoded data removed]",
      "text/plain": [
       "<Figure size 640x480 with 1 Axes>"
      ]
     },
     "metadata": {},
     "output_type": "display_data"
    }
   ],
   "source": [
    "seat.initialize(3)"
   ]
  },
  {
   "cell_type": "code",
   "execution_count": 8,
   "metadata": {},
   "outputs": [
    {
     "data": {
      "text/plain": [
       "'Total Seats Available : 3, Waitlist : 0'"
      ]
     },
     "execution_count": 8,
     "metadata": {},
     "output_type": "execute_result"
    }
   ],
   "source": [
    "# Think on how to build waitlist\n",
    "seat.available()"
   ]
  },
  {
   "cell_type": "markdown",
   "metadata": {},
   "source": [
    "- [ ] `user_priority` isn't functional yet"
   ]
  },
  {
   "cell_type": "code",
   "execution_count": 9,
   "metadata": {},
   "outputs": [
    {
     "name": "stdout",
     "output_type": "stream",
     "text": [
      "User 1 reserved seat 1\n",
      "    1) Insert into Red-Black Tree User 1 and Seat 1 with root node color of black \n",
      "       RBT [Node(User=1, Seat=1, color=black)] \n",
      "    2) Remove 1 from Seat Heap\n",
      "User 2 reserved seat 2\n",
      "    1) Insert into Red-Black Tree User 2 and Seat 2 with root node color of black \n",
      "       RBT [Node(User=1, Seat=1, color=black), Node(User=2, Seat=2, color=red)] \n",
      "    2) Remove 2 from Seat Heap\n",
      "User 3 reserved seat 3\n",
      "    1) Insert into Red-Black Tree User 3 and Seat 3 with root node color of black \n",
      "       RBT [Node(User=1, Seat=1, color=red), Node(User=2, Seat=2, color=black), Node(User=3, Seat=3, color=red)] \n",
      "    2) Remove 3 from Seat Heap\n",
      "1\n",
      "(1, 4) vs Network size - 1: 0 vs Network size: 1\n",
      "User 4 is added to the waiting list\n"
     ]
    },
    {
     "data": {
      "text/plain": [
       "'Total Seats Available : 0, Waitlist : 1'"
      ]
     },
     "execution_count": 9,
     "metadata": {},
     "output_type": "execute_result"
    }
   ],
   "source": [
    "seat.reserve(1, 1)\n",
    "seat.reserve(2, 1)\n",
    "seat.reserve(3, 1)\n",
    "seat.reserve(4, 1)\n",
    "seat.available()"
   ]
  },
  {
   "cell_type": "code",
   "execution_count": 10,
   "metadata": {},
   "outputs": [
    {
     "name": "stdout",
     "output_type": "stream",
     "text": [
      "2\n",
      "(2, 5) vs Network size - 1: 1 vs Network size: 2\n",
      "User 5 is added to the waiting list\n"
     ]
    }
   ],
   "source": [
    "seat.reserve(5, 2)"
   ]
  },
  {
   "cell_type": "code",
   "execution_count": 11,
   "metadata": {},
   "outputs": [
    {
     "name": "stdout",
     "output_type": "stream",
     "text": [
      "RBT ['(seat=1, user=1)', '(seat=2, user=2)', '(seat=3, user=3)']\n"
     ]
    }
   ],
   "source": [
    "seat.print_reservations()"
   ]
  },
  {
   "cell_type": "code",
   "execution_count": 12,
   "metadata": {},
   "outputs": [
    {
     "data": {
      "text/plain": [
       "'Total Seats Available : 0, Waitlist : 2'"
      ]
     },
     "execution_count": 12,
     "metadata": {},
     "output_type": "execute_result"
    }
   ],
   "source": [
    "seat.available()"
   ]
  },
  {
   "cell_type": "markdown",
   "metadata": {},
   "source": [
    "- [ ] Fix how I'm removing from `self.waitlist_heap.extract_min()`"
   ]
  },
  {
   "cell_type": "code",
   "execution_count": 13,
   "metadata": {},
   "outputs": [
    {
     "name": "stdout",
     "output_type": "stream",
     "text": [
      "2\n",
      "3\n",
      "User 3 canceled their reservation. Pulling from waitlist.\n",
      "2\n",
      "3\n",
      "User 5 reserved seat 3\n",
      "Updated Waitlist: [(1, 4)]\n"
     ]
    }
   ],
   "source": [
    "seat.cancel(3, 3)"
   ]
  },
  {
   "cell_type": "markdown",
   "metadata": {},
   "source": [
    "- [ ] Fix how I'm removing from `self.waitlist_heap.extract_min()`"
   ]
  },
  {
   "cell_type": "code",
   "execution_count": 14,
   "metadata": {},
   "outputs": [
    {
     "data": {
      "text/plain": [
       "'Total Seats Available : 0, Waitlist : 1'"
      ]
     },
     "execution_count": 14,
     "metadata": {},
     "output_type": "execute_result"
    }
   ],
   "source": [
    "seat.available()"
   ]
  },
  {
   "cell_type": "code",
   "execution_count": 15,
   "metadata": {},
   "outputs": [
    {
     "name": "stdout",
     "output_type": "stream",
     "text": [
      "RBT ['(seat=1, user=1)', '(seat=2, user=2)', '(seat=3, user=5)']\n"
     ]
    }
   ],
   "source": [
    "seat.print_reservations()"
   ]
  },
  {
   "cell_type": "code",
   "execution_count": 16,
   "metadata": {},
   "outputs": [
    {
     "name": "stdout",
     "output_type": "stream",
     "text": [
      "3\n"
     ]
    },
    {
     "data": {
      "image/png": "[encoded data removed]",
      "text/plain": [
       "<Figure size 640x480 with 1 Axes>"
      ]
     },
     "metadata": {},
     "output_type": "display_data"
    },
    {
     "name": "stdout",
     "output_type": "stream",
     "text": [
      "Inserted seat 4 into seat heap\n"
     ]
    },
    {
     "data": {
      "image/png": "[encoded data removed]",
      "text/plain": [
       "<Figure size 640x480 with 1 Axes>"
      ]
     },
     "metadata": {},
     "output_type": "display_data"
    },
    {
     "name": "stdout",
     "output_type": "stream",
     "text": [
      "Inserted seat 5 into seat heap\n"
     ]
    },
    {
     "data": {
      "image/png": "[encoded data removed]",
      "text/plain": [
       "<Figure size 640x480 with 1 Axes>"
      ]
     },
     "metadata": {},
     "output_type": "display_data"
    },
    {
     "name": "stdout",
     "output_type": "stream",
     "text": [
      "Additional 2 seats are made available for reservation\n",
      "Max priority user: 4 with priority 1\n",
      "Seat Heaps: [4, 5]\n",
      "---User 4 reserved seat 4\n",
      "[Node(User=1, Seat=1, color=black), Node(User=2, Seat=2, color=black), Node(User=5, Seat=3, color=black), Node(User=4, Seat=4, color=red)]\n",
      "Waitlist after assignment: []\n",
      "All users with priority have been assigned seats.\n"
     ]
    }
   ],
   "source": [
    "seat.add_seats(2)"
   ]
  },
  {
   "cell_type": "code",
   "execution_count": 17,
   "metadata": {},
   "outputs": [
    {
     "data": {
      "text/plain": [
       "'Total Seats Available : 1, Waitlist : 0'"
      ]
     },
     "execution_count": 17,
     "metadata": {},
     "output_type": "execute_result"
    }
   ],
   "source": [
    "seat.available()"
   ]
  },
  {
   "cell_type": "markdown",
   "metadata": {},
   "source": [
    "Note `self.rbt.tree_network` output"
   ]
  },
  {
   "cell_type": "code",
   "execution_count": 18,
   "metadata": {},
   "outputs": [
    {
     "name": "stdout",
     "output_type": "stream",
     "text": [
      "User 6 reserved seat 5\n",
      "    1) Insert into Red-Black Tree User 6 and Seat 5 with root node color of black \n",
      "       RBT [Node(User=1, Seat=1, color=black), Node(User=2, Seat=2, color=black), Node(User=5, Seat=3, color=black), Node(User=4, Seat=4, color=red), Node(User=6, Seat=5, color=red)] \n",
      "    2) Remove 5 from Seat Heap\n",
      "1\n",
      "(1, 7) vs Network size - 1: 0 vs Network size: 1\n",
      "User 7 is added to the waiting list\n",
      "2\n",
      "(3, 8) vs Network size - 1: 1 vs Network size: 2\n",
      "User 8 is added to the waiting list\n",
      "3\n",
      "(1, 9) vs Network size - 1: 2 vs Network size: 3\n",
      "User 9 is added to the waiting list\n"
     ]
    }
   ],
   "source": [
    "seat.reserve(6, 1)\n",
    "seat.reserve(7, 1)\n",
    "seat.reserve(8, 3)\n",
    "seat.reserve(9, 1)"
   ]
  },
  {
   "cell_type": "code",
   "execution_count": 19,
   "metadata": {},
   "outputs": [
    {
     "data": {
      "text/plain": [
       "'Total Seats Available : 0, Waitlist : 3'"
      ]
     },
     "execution_count": 19,
     "metadata": {},
     "output_type": "execute_result"
    }
   ],
   "source": [
    "seat.available()"
   ]
  },
  {
   "cell_type": "code",
   "execution_count": 20,
   "metadata": {},
   "outputs": [
    {
     "name": "stdout",
     "output_type": "stream",
     "text": [
      "Before update: User 7 priority is 1 \n",
      "  [(1, 7), (3, 8), (1, 9)]\n",
      "After update: User 7 priority has been updated to 2 \n",
      "  [(2, 7), (3, 8), (1, 9)]\n"
     ]
    }
   ],
   "source": [
    "seat.update_priority(7, 2)"
   ]
  },
  {
   "cell_type": "code",
   "execution_count": 21,
   "metadata": {},
   "outputs": [
    {
     "name": "stdout",
     "output_type": "stream",
     "text": [
      "5\n"
     ]
    },
    {
     "data": {
      "image/png": "[encoded data removed]",
      "text/plain": [
       "<Figure size 640x480 with 1 Axes>"
      ]
     },
     "metadata": {},
     "output_type": "display_data"
    },
    {
     "name": "stdout",
     "output_type": "stream",
     "text": [
      "Inserted seat 6 into seat heap\n"
     ]
    },
    {
     "data": {
      "image/png": "[encoded data removed]",
      "text/plain": [
       "<Figure size 640x480 with 1 Axes>"
      ]
     },
     "metadata": {},
     "output_type": "display_data"
    },
    {
     "name": "stdout",
     "output_type": "stream",
     "text": [
      "Inserted seat 7 into seat heap\n"
     ]
    },
    {
     "data": {
      "image/png": "[encoded data removed]",
      "text/plain": [
       "<Figure size 640x480 with 1 Axes>"
      ]
     },
     "metadata": {},
     "output_type": "display_data"
    },
    {
     "name": "stdout",
     "output_type": "stream",
     "text": [
      "Additional 2 seats are made available for reservation\n",
      "Max priority user: 8 with priority 3\n",
      "Seat Heaps: [6, 7]\n",
      "---User 8 reserved seat 6\n",
      "[Node(User=1, Seat=1, color=black), Node(User=2, Seat=2, color=black), Node(User=5, Seat=3, color=red), Node(User=4, Seat=4, color=black), Node(User=6, Seat=5, color=black), Node(User=8, Seat=6, color=red)]\n",
      "Waitlist after assignment: [(2, 7), (1, 9)]\n",
      "Max priority user: 7 with priority 2\n",
      "Seat Heaps: [7]\n",
      "---User 7 reserved seat 7\n",
      "[Node(User=1, Seat=1, color=black), Node(User=2, Seat=2, color=black), Node(User=5, Seat=3, color=red), Node(User=4, Seat=4, color=black), Node(User=6, Seat=5, color=red), Node(User=8, Seat=6, color=red), Node(User=7, Seat=7, color=black)]\n",
      "Waitlist after assignment: [(1, 9)]\n",
      "No more seats available to assign.\n"
     ]
    }
   ],
   "source": [
    "seat.add_seats(2)"
   ]
  },
  {
   "cell_type": "code",
   "execution_count": 22,
   "metadata": {},
   "outputs": [
    {
     "name": "stdout",
     "output_type": "stream",
     "text": [
      "Waitlist: [(1, 9)]\n",
      "idx: 0\n",
      "(1, 9)\n",
      "User 6 is not in waitlist\n"
     ]
    }
   ],
   "source": [
    "seat.exit_waitlist(6)"
   ]
  },
  {
   "cell_type": "code",
   "execution_count": 23,
   "metadata": {},
   "outputs": [
    {
     "data": {
      "text/plain": [
       "'Total Seats Available : 0, Waitlist : 1'"
      ]
     },
     "execution_count": 23,
     "metadata": {},
     "output_type": "execute_result"
    }
   ],
   "source": [
    "seat.available()"
   ]
  },
  {
   "cell_type": "code",
   "execution_count": 24,
   "metadata": {},
   "outputs": [
    {
     "name": "stdout",
     "output_type": "stream",
     "text": [
      "2\n",
      "(1, 10) vs Network size - 1: 1 vs Network size: 2\n",
      "User 10 is added to the waiting list\n",
      "3\n",
      "(1, 11) vs Network size - 1: 2 vs Network size: 3\n",
      "User 11 is added to the waiting list\n"
     ]
    }
   ],
   "source": [
    "seat.reserve(10, 1)\n",
    "seat.reserve(11, 1)"
   ]
  },
  {
   "cell_type": "code",
   "execution_count": 25,
   "metadata": {},
   "outputs": [
    {
     "name": "stdout",
     "output_type": "stream",
     "text": [
      "Seats: []\n",
      "One or both user IDs not found in the heap\n"
     ]
    }
   ],
   "source": [
    "seat.release_seats(1, 4)"
   ]
  },
  {
   "cell_type": "code",
   "execution_count": 26,
   "metadata": {},
   "outputs": [
    {
     "name": "stdout",
     "output_type": "stream",
     "text": [
      "Program Terminated!!\n"
     ]
    }
   ],
   "source": [
    "seat.quit()"
   ]
  },
  {
   "cell_type": "code",
   "execution_count": null,
   "metadata": {},
   "outputs": [],
   "source": [
    "seat.add_seats(111)"
   ]
  },
  {
   "cell_type": "markdown",
   "metadata": {},
   "source": [
    "<!-- ![testcase](testCase2-output-v2.png) -->\n",
    "![testcase](testCase2-output-v1.png)"
   ]
  },
  {
   "cell_type": "code",
   "execution_count": null,
   "metadata": {},
   "outputs": [],
   "source": []
  },
  {
   "cell_type": "markdown",
   "metadata": {},
   "source": []
  }
 ],
 "metadata": {
  "kernelspec": {
   "display_name": "graphbreeds",
   "language": "python",
   "name": "python3"
  },
  "language_info": {
   "codemirror_mode": {
    "name": "ipython",
    "version": 3
   },
   "file_extension": ".py",
   "mimetype": "text/x-python",
   "name": "python",
   "nbconvert_exporter": "python",
   "pygments_lexer": "ipython3",
   "version": "3.12.3"
  }
 },
 "nbformat": 4,
 "nbformat_minor": 2
}
