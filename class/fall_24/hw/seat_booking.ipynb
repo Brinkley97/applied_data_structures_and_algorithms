{
 "cells": [
  {
   "cell_type": "markdown",
   "metadata": {},
   "source": [
    "# Playground \n",
    "\n",
    "- Test classes and functions."
   ]
  },
  {
   "cell_type": "code",
   "execution_count": null,
   "metadata": {},
   "outputs": [],
   "source": [
    "import seat_booking_script as sb\n",
    "import heap_operations, tree_operations, visualizations"
   ]
  },
  {
   "cell_type": "code",
   "execution_count": null,
   "metadata": {},
   "outputs": [],
   "source": [
    "seat = sb.SeatBooking()\n",
    "seat_heap = heap_operations.SeatHeap()"
   ]
  },
  {
   "cell_type": "markdown",
   "metadata": {},
   "source": [
    "## Test Case 1\n",
    "\n",
    "![testcase](testCase1-input.png)\n",
    "![testcase](testCase1-output-v1.png)\n",
    "![testcase](testCase1-output-v2.png)"
   ]
  },
  {
   "cell_type": "code",
   "execution_count": null,
   "metadata": {},
   "outputs": [],
   "source": [
    "seat.initialize(5)\n",
    "# Think on how to build waitlist\n",
    "seat.available()"
   ]
  },
  {
   "cell_type": "markdown",
   "metadata": {},
   "source": [
    "- [ ] Need to delete node from Red Black Tree"
   ]
  },
  {
   "cell_type": "code",
   "execution_count": null,
   "metadata": {},
   "outputs": [],
   "source": [
    "seat.reserve(1, 1)\n",
    "seat.reserve(2, 1)\n",
    "seat.cancel(1, 1)"
   ]
  },
  {
   "cell_type": "code",
   "execution_count": null,
   "metadata": {},
   "outputs": [],
   "source": [
    "seat.reserve(3, 1)\n",
    "seat.print_reservations()\n",
    "seat.quit()"
   ]
  },
  {
   "cell_type": "markdown",
   "metadata": {},
   "source": [
    "![testcase](testCase1-output-v1.png)\n",
    "![testcase](testCase1-output-v2.png)"
   ]
  },
  {
   "cell_type": "code",
   "execution_count": null,
   "metadata": {},
   "outputs": [],
   "source": []
  },
  {
   "cell_type": "markdown",
   "metadata": {},
   "source": [
    "## Test Case 2\n",
    "\n",
    "![testcase](testCase2-input.png)\n",
    "![testcase](testCase2-output-v2.png)\n",
    "![testcase](testCase2-output-v1.png)"
   ]
  },
  {
   "cell_type": "code",
   "execution_count": null,
   "metadata": {},
   "outputs": [],
   "source": [
    "import seat_booking_script as sb\n",
    "import heap_operations, tree_operations, visualizations\n",
    "\n",
    "seat = sb.SeatBooking()\n",
    "seat_heap = heap_operations.SeatHeap()"
   ]
  },
  {
   "cell_type": "code",
   "execution_count": null,
   "metadata": {},
   "outputs": [],
   "source": [
    "seat.initialize(3)"
   ]
  },
  {
   "cell_type": "code",
   "execution_count": null,
   "metadata": {},
   "outputs": [],
   "source": [
    "# Think on how to build waitlist\n",
    "seat.available()"
   ]
  },
  {
   "cell_type": "markdown",
   "metadata": {},
   "source": [
    "- [ ] `user_priority` isn't functional yet"
   ]
  },
  {
   "cell_type": "code",
   "execution_count": null,
   "metadata": {},
   "outputs": [],
   "source": [
    "seat.reserve(1, 1)\n",
    "seat.reserve(2, 1)\n",
    "seat.reserve(3, 1)\n",
    "seat.reserve(4, 1)\n",
    "seat.available()"
   ]
  },
  {
   "cell_type": "code",
   "execution_count": null,
   "metadata": {},
   "outputs": [],
   "source": [
    "seat.reserve(5, 2)"
   ]
  },
  {
   "cell_type": "code",
   "execution_count": null,
   "metadata": {},
   "outputs": [],
   "source": [
    "seat.print_reservations()"
   ]
  },
  {
   "cell_type": "code",
   "execution_count": null,
   "metadata": {},
   "outputs": [],
   "source": [
    "seat.available()"
   ]
  },
  {
   "cell_type": "markdown",
   "metadata": {},
   "source": [
    "- [ ] Fix how I'm removing from `self.waitlist_heap.extract_min()`"
   ]
  },
  {
   "cell_type": "code",
   "execution_count": null,
   "metadata": {},
   "outputs": [],
   "source": [
    "seat.cancel(3, 3)"
   ]
  },
  {
   "cell_type": "markdown",
   "metadata": {},
   "source": [
    "- [ ] Fix how I'm removing from `self.waitlist_heap.extract_min()`"
   ]
  },
  {
   "cell_type": "code",
   "execution_count": null,
   "metadata": {},
   "outputs": [],
   "source": [
    "seat.available()"
   ]
  },
  {
   "cell_type": "code",
   "execution_count": null,
   "metadata": {},
   "outputs": [],
   "source": [
    "seat.print_reservations()"
   ]
  },
  {
   "cell_type": "code",
   "execution_count": null,
   "metadata": {},
   "outputs": [],
   "source": [
    "seat.add_seats(2)"
   ]
  },
  {
   "cell_type": "code",
   "execution_count": null,
   "metadata": {},
   "outputs": [],
   "source": [
    "seat.available()"
   ]
  },
  {
   "cell_type": "markdown",
   "metadata": {},
   "source": [
    "Note `self.rbt.tree_network` output"
   ]
  },
  {
   "cell_type": "code",
   "execution_count": null,
   "metadata": {},
   "outputs": [],
   "source": [
    "seat.reserve(6, 1)\n",
    "seat.reserve(7, 1)\n",
    "seat.reserve(8, 3)\n",
    "seat.reserve(9, 1)"
   ]
  },
  {
   "cell_type": "code",
   "execution_count": null,
   "metadata": {},
   "outputs": [],
   "source": [
    "seat.available()"
   ]
  },
  {
   "cell_type": "code",
   "execution_count": null,
   "metadata": {},
   "outputs": [],
   "source": [
    "seat.update_priority(7, 2)"
   ]
  },
  {
   "cell_type": "code",
   "execution_count": null,
   "metadata": {},
   "outputs": [],
   "source": [
    "seat.add_seats(2)"
   ]
  },
  {
   "cell_type": "code",
   "execution_count": null,
   "metadata": {},
   "outputs": [],
   "source": [
    "seat.exit_waitlist(6)"
   ]
  },
  {
   "cell_type": "code",
   "execution_count": null,
   "metadata": {},
   "outputs": [],
   "source": [
    "seat.available()"
   ]
  },
  {
   "cell_type": "code",
   "execution_count": null,
   "metadata": {},
   "outputs": [],
   "source": [
    "seat.reserve(10, 1)\n",
    "seat.reserve(11, 1)"
   ]
  },
  {
   "cell_type": "code",
   "execution_count": null,
   "metadata": {},
   "outputs": [],
   "source": [
    "seat.release_seats(1, 4)"
   ]
  },
  {
   "cell_type": "code",
   "execution_count": null,
   "metadata": {},
   "outputs": [],
   "source": [
    "seat.quit()"
   ]
  },
  {
   "cell_type": "code",
   "execution_count": null,
   "metadata": {},
   "outputs": [],
   "source": [
    "# seat.add_seats(111)"
   ]
  },
  {
   "cell_type": "markdown",
   "metadata": {},
   "source": [
    "<!-- ![testcase](testCase2-output-v2.png) -->\n",
    "![testcase](testCase2-output-v1.png)"
   ]
  },
  {
   "cell_type": "markdown",
   "metadata": {},
   "source": [
    "## Test Case 3"
   ]
  },
  {
   "cell_type": "code",
   "execution_count": null,
   "metadata": {},
   "outputs": [],
   "source": [
    "import seat_booking_script as sb\n",
    "import heap_operations, tree_operations, visualizations\n",
    "\n",
    "seat = sb.SeatBooking()\n",
    "seat_heap = heap_operations.SeatHeap()"
   ]
  },
  {
   "cell_type": "markdown",
   "metadata": {},
   "source": [
    "- [] Fix when run all cells, the input for `initialize(input)` sums the above with current (I believe)\n",
    "- User 6 reserved seat 1"
   ]
  },
  {
   "cell_type": "code",
   "execution_count": null,
   "metadata": {},
   "outputs": [],
   "source": [
    "seat.initialize(4)\n",
    "seat.available()\n",
    "seat.reserve(8, 1)\n",
    "seat.reserve(4, 3)\n",
    "seat.reserve(5, 2)\n",
    "seat.cancel(2, 4)"
   ]
  },
  {
   "cell_type": "code",
   "execution_count": null,
   "metadata": {},
   "outputs": [],
   "source": [
    "seat.reserve(1, 1)\n",
    "seat.available()\n",
    "seat.print_reservations()\n",
    "seat.reserve(3, 1)\n",
    "seat.reserve(2, 2)\n",
    "seat.reserve(6, 3)\n",
    "seat.available()"
   ]
  },
  {
   "cell_type": "code",
   "execution_count": null,
   "metadata": {},
   "outputs": [],
   "source": [
    "seat.cancel(1, 1)\n",
    "seat.cancel(3, 5)\n",
    "seat.available()\n",
    "seat.reserve(11, 1)\n",
    "seat.reserve(9, 2)"
   ]
  },
  {
   "cell_type": "code",
   "execution_count": null,
   "metadata": {},
   "outputs": [],
   "source": [
    "seat.add_seats(2)\n",
    "seat.reserve(7, 2)\n",
    "seat.cancel(1, 8)\n",
    "seat.available()"
   ]
  },
  {
   "cell_type": "code",
   "execution_count": null,
   "metadata": {},
   "outputs": [],
   "source": [
    "seat.release_seats(8, 10)"
   ]
  },
  {
   "cell_type": "code",
   "execution_count": null,
   "metadata": {},
   "outputs": [],
   "source": [
    "seat.print_reservations()\n",
    "seat.quit()"
   ]
  },
  {
   "cell_type": "markdown",
   "metadata": {},
   "source": [
    "## Test Case 4"
   ]
  },
  {
   "cell_type": "code",
   "execution_count": 1,
   "metadata": {},
   "outputs": [],
   "source": [
    "import seat_booking_script as sb\n",
    "import heap_operations, tree_operations, visualizations\n",
    "\n",
    "seat = sb.SeatBooking()\n",
    "seat_heap = heap_operations.SeatHeap()"
   ]
  },
  {
   "cell_type": "code",
   "execution_count": 2,
   "metadata": {},
   "outputs": [
    {
     "name": "stdout",
     "output_type": "stream",
     "text": [
      "10 seats are made available for reservation\n"
     ]
    },
    {
     "data": {
      "image/png": "[encoded data removed]",
      "text/plain": [
       "<Figure size 640x480 with 1 Axes>"
      ]
     },
     "metadata": {},
     "output_type": "display_data"
    },
    {
     "name": "stdout",
     "output_type": "stream",
     "text": [
      "User 2 reserved seat 1\n",
      "    1) Insert into Red-Black Tree User 2 and Seat 1 with root node color of black \n",
      "       RBT [Node(User=2, Seat=1, color=black)] \n",
      "    2) Remove 1 from Seat Heap\n",
      "User 6 reserved seat 2\n",
      "    1) Insert into Red-Black Tree User 6 and Seat 2 with root node color of black \n",
      "       RBT [Node(User=2, Seat=1, color=black), Node(User=6, Seat=2, color=red)] \n",
      "    2) Remove 2 from Seat Heap\n",
      "User 13 reserved seat 3\n",
      "    1) Insert into Red-Black Tree User 13 and Seat 3 with root node color of black \n",
      "       RBT [Node(User=2, Seat=1, color=red), Node(User=6, Seat=2, color=black), Node(User=13, Seat=3, color=red)] \n",
      "    2) Remove 3 from Seat Heap\n",
      "User 15 reserved seat 4\n",
      "    1) Insert into Red-Black Tree User 15 and Seat 4 with root node color of black \n",
      "       RBT [Node(User=2, Seat=1, color=black), Node(User=6, Seat=2, color=black), Node(User=13, Seat=3, color=black), Node(User=15, Seat=4, color=red)] \n",
      "    2) Remove 4 from Seat Heap\n",
      "User 9 reserved seat 5\n",
      "    1) Insert into Red-Black Tree User 9 and Seat 5 with root node color of black \n",
      "       RBT [Node(User=2, Seat=1, color=black), Node(User=6, Seat=2, color=black), Node(User=13, Seat=3, color=black), Node(User=15, Seat=4, color=red), Node(User=9, Seat=5, color=red)] \n",
      "    2) Remove 5 from Seat Heap\n",
      "RBT: [Node(User=2, Seat=1, color=black), Node(User=6, Seat=2, color=black), Node(User=13, Seat=3, color=black), Node(User=15, Seat=4, color=red), Node(User=9, Seat=5, color=red)]\n",
      "User 13 with seat 3\n",
      "User 13 canceled their reservation\n",
      "Updated RBT: [Node(User=2, Seat=1, color=black), Node(User=6, Seat=2, color=black), Node(User=15, Seat=4, color=black), Node(User=9, Seat=5, color=red)]\n"
     ]
    },
    {
     "data": {
      "image/png": "[encoded data removed]",
      "text/plain": [
       "<Figure size 640x480 with 1 Axes>"
      ]
     },
     "metadata": {},
     "output_type": "display_data"
    },
    {
     "name": "stdout",
     "output_type": "stream",
     "text": [
      "User 4 reserved seat 3\n",
      "    1) Insert into Red-Black Tree User 4 and Seat 3 with root node color of black \n",
      "       RBT [Node(User=2, Seat=1, color=black), Node(User=6, Seat=2, color=black), Node(User=15, Seat=4, color=black), Node(User=9, Seat=5, color=red), Node(User=4, Seat=3, color=red)] \n",
      "    2) Remove 3 from Seat Heap\n",
      "User 7 reserved seat 6\n",
      "    1) Insert into Red-Black Tree User 7 and Seat 6 with root node color of black \n",
      "       RBT [Node(User=2, Seat=1, color=black), Node(User=6, Seat=2, color=black), Node(User=15, Seat=4, color=red), Node(User=9, Seat=5, color=black), Node(User=4, Seat=3, color=red), Node(User=7, Seat=6, color=red)] \n",
      "    2) Remove 6 from Seat Heap\n",
      "User 8 reserved seat 7\n",
      "    1) Insert into Red-Black Tree User 8 and Seat 7 with root node color of black \n",
      "       RBT [Node(User=2, Seat=1, color=black), Node(User=6, Seat=2, color=black), Node(User=15, Seat=4, color=black), Node(User=9, Seat=5, color=red), Node(User=4, Seat=3, color=red), Node(User=7, Seat=6, color=black), Node(User=8, Seat=7, color=red)] \n",
      "    2) Remove 7 from Seat Heap\n",
      "User 66 reserved seat 8\n",
      "    1) Insert into Red-Black Tree User 66 and Seat 8 with root node color of black \n",
      "       RBT [Node(User=2, Seat=1, color=black), Node(User=6, Seat=2, color=black), Node(User=15, Seat=4, color=black), Node(User=9, Seat=5, color=red), Node(User=4, Seat=3, color=red), Node(User=7, Seat=6, color=black), Node(User=8, Seat=7, color=red), Node(User=66, Seat=8, color=red)] \n",
      "    2) Remove 8 from Seat Heap\n",
      "Pre-RBT: [Node(User=2, Seat=1, color=black), Node(User=6, Seat=2, color=black), Node(User=15, Seat=4, color=black), Node(User=9, Seat=5, color=red), Node(User=4, Seat=3, color=red), Node(User=7, Seat=6, color=black), Node(User=8, Seat=7, color=red), Node(User=66, Seat=8, color=red)]\n",
      "Waitlist: []\n",
      "Node to delete from rbt: 15 : 4\n",
      "Released seat for user ID: 15\n"
     ]
    },
    {
     "data": {
      "image/png": "[encoded data removed]",
      "text/plain": [
       "<Figure size 640x480 with 1 Axes>"
      ]
     },
     "metadata": {},
     "output_type": "display_data"
    },
    {
     "name": "stdout",
     "output_type": "stream",
     "text": [
      "Node to delete from rbt: 66 : 8\n",
      "Released seat for user ID: 66\n"
     ]
    },
    {
     "data": {
      "image/png": "[encoded data removed]",
      "text/plain": [
       "<Figure size 640x480 with 1 Axes>"
      ]
     },
     "metadata": {},
     "output_type": "display_data"
    },
    {
     "name": "stdout",
     "output_type": "stream",
     "text": [
      "RBT: [Node(User=2, Seat=1, color=black), Node(User=6, Seat=2, color=black), Node(User=9, Seat=5, color=black), Node(User=4, Seat=3, color=red), Node(User=7, Seat=6, color=black), Node(User=8, Seat=7, color=red)]\n",
      "User 52 reserved seat 4\n",
      "    1) Insert into Red-Black Tree User 52 and Seat 4 with root node color of black \n",
      "       RBT [Node(User=2, Seat=1, color=black), Node(User=6, Seat=2, color=black), Node(User=9, Seat=5, color=black), Node(User=4, Seat=3, color=red), Node(User=7, Seat=6, color=black), Node(User=8, Seat=7, color=red), Node(User=52, Seat=4, color=red)] \n",
      "    2) Remove 4 from Seat Heap\n",
      "User 41 reserved seat 8\n",
      "    1) Insert into Red-Black Tree User 41 and Seat 8 with root node color of black \n",
      "       RBT [Node(User=2, Seat=1, color=black), Node(User=6, Seat=2, color=black), Node(User=9, Seat=5, color=red), Node(User=4, Seat=3, color=red), Node(User=7, Seat=6, color=black), Node(User=8, Seat=7, color=red), Node(User=52, Seat=4, color=red), Node(User=41, Seat=8, color=black)] \n",
      "    2) Remove 8 from Seat Heap\n",
      "User 13 reserved seat 9\n",
      "    1) Insert into Red-Black Tree User 13 and Seat 9 with root node color of black \n",
      "       RBT [Node(User=2, Seat=1, color=black), Node(User=6, Seat=2, color=red), Node(User=9, Seat=5, color=black), Node(User=4, Seat=3, color=red), Node(User=7, Seat=6, color=black), Node(User=8, Seat=7, color=black), Node(User=52, Seat=4, color=black), Node(User=41, Seat=8, color=red), Node(User=13, Seat=9, color=red)] \n",
      "    2) Remove 9 from Seat Heap\n",
      "User 1 reserved seat 10\n",
      "    1) Insert into Red-Black Tree User 1 and Seat 10 with root node color of black \n",
      "       RBT [Node(User=2, Seat=1, color=black), Node(User=6, Seat=2, color=red), Node(User=9, Seat=5, color=black), Node(User=4, Seat=3, color=red), Node(User=7, Seat=6, color=black), Node(User=8, Seat=7, color=black), Node(User=52, Seat=4, color=black), Node(User=41, Seat=8, color=red), Node(User=13, Seat=9, color=red), Node(User=1, Seat=10, color=red)] \n",
      "    2) Remove 10 from Seat Heap\n",
      "User 14 is added to the waiting list\n",
      "    waitlist: [(1, 1731948435.689468, 14)]\n",
      "User 15 is added to the waiting list\n",
      "    waitlist: [(1, 1731948435.689468, 14), (1, 1731948435.689545, 15)]\n",
      "User 121 is added to the waiting list\n",
      "    waitlist: [(1, 1731948435.689468, 14), (1, 1731948435.689545, 15), (3, 1731948435.689614, 121)]\n",
      "User 161 is added to the waiting list\n",
      "    waitlist: [(1, 1731948435.689468, 14), (1, 1731948435.689545, 15), (3, 1731948435.689614, 121), (2, 1731948435.6896791, 161)]\n",
      "User 180 is added to the waiting list\n",
      "    waitlist: [(1, 1731948435.689468, 14), (1, 1731948435.689545, 15), (3, 1731948435.689614, 121), (2, 1731948435.6896791, 161), (4, 1731948435.689749, 180)]\n"
     ]
    }
   ],
   "source": [
    "seat.initialize(10)\n",
    "seat.reserve(2, 1)\n",
    "seat.reserve(6, 2)\n",
    "seat.reserve(13, 1)\n",
    "seat.reserve(15, 3)\n",
    "seat.reserve(9, 4)\n",
    "seat.cancel(3, 13)\n",
    "seat.reserve(4, 2)\n",
    "seat.reserve(7, 1)\n",
    "seat.reserve(8, 2)\n",
    "seat.reserve(66, 1)\n",
    "seat.release_seats(10, 100)\n",
    "seat.reserve(52, 1)\n",
    "seat.reserve(41, 2)\n",
    "seat.reserve(13, 1)\n",
    "seat.reserve(1, 3)\n",
    "seat.reserve(14, 1)\n",
    "seat.reserve(15, 1)\n",
    "seat.reserve(121, 3)\n",
    "seat.reserve(161, 2)\n",
    "seat.reserve(180, 4)"
   ]
  },
  {
   "cell_type": "code",
   "execution_count": 3,
   "metadata": {},
   "outputs": [
    {
     "name": "stdout",
     "output_type": "stream",
     "text": [
      "waitlist: [(1, 1731948435.689468, 14), (1, 1731948435.689545, 15), (3, 1731948435.689614, 121), (2, 1731948435.6896791, 161), (4, 1731948435.689749, 180)]\n",
      "User 15 priority has been updated to 2\n",
      "User 72 is added to the waiting list\n",
      "    waitlist: [(1, 1731948435.689468, 14), (2, 1731948435.689545, 15), (2, 1731948435.909653, 72), (2, 1731948435.6896791, 161), (4, 1731948435.689749, 180), (3, 1731948435.689614, 121)]\n",
      "User 81 is added to the waiting list\n",
      "    waitlist: [(1, 1731948435.689468, 14), (2, 1731948435.689545, 15), (2, 1731948435.909653, 72), (2, 1731948435.6896791, 161), (4, 1731948435.689749, 180), (3, 1731948435.689614, 121), (3, 1731948435.90975, 81)]\n",
      "User 66 is added to the waiting list\n",
      "    waitlist: [(1, 1731948435.689468, 14), (2, 1731948435.689545, 15), (2, 1731948435.909653, 72), (2, 1731948435.6896791, 161), (4, 1731948435.689749, 180), (3, 1731948435.689614, 121), (3, 1731948435.90975, 81), (2, 1731948435.909835, 66)]\n",
      "User 91 is added to the waiting list\n",
      "    waitlist: [(1, 1731948435.689468, 14), (1, 1731948435.909914, 91), (2, 1731948435.909653, 72), (2, 1731948435.689545, 15), (4, 1731948435.689749, 180), (3, 1731948435.689614, 121), (3, 1731948435.90975, 81), (2, 1731948435.909835, 66), (2, 1731948435.6896791, 161)]\n",
      "User 99 is added to the waiting list\n",
      "    waitlist: [(1, 1731948435.689468, 14), (1, 1731948435.909914, 91), (2, 1731948435.909653, 72), (2, 1731948435.689545, 15), (1, 1731948435.909996, 99), (3, 1731948435.689614, 121), (3, 1731948435.90975, 81), (2, 1731948435.909835, 66), (2, 1731948435.6896791, 161), (4, 1731948435.689749, 180)]\n",
      "User 86 is added to the waiting list\n",
      "    waitlist: [(1, 1731948435.689468, 14), (1, 1731948435.909914, 91), (2, 1731948435.909653, 72), (2, 1731948435.689545, 15), (1, 1731948435.909996, 99), (3, 1731948435.689614, 121), (3, 1731948435.90975, 81), (2, 1731948435.909835, 66), (2, 1731948435.6896791, 161), (4, 1731948435.689749, 180), (2, 1731948435.910078, 86)]\n"
     ]
    }
   ],
   "source": [
    "seat.update_priority(15, 2)\n",
    "seat.reserve(72, 2)\n",
    "seat.reserve(81, 3)\n",
    "seat.reserve(66, 2)\n",
    "seat.reserve(91, 1)\n",
    "seat.reserve(99, 1)\n",
    "seat.reserve(86, 2)"
   ]
  },
  {
   "cell_type": "code",
   "execution_count": 4,
   "metadata": {},
   "outputs": [
    {
     "data": {
      "image/png": "[encoded data removed]",
      "text/plain": [
       "<Figure size 640x480 with 1 Axes>"
      ]
     },
     "metadata": {},
     "output_type": "display_data"
    },
    {
     "name": "stdout",
     "output_type": "stream",
     "text": [
      "Additional 10 seats are made available for reservation\n",
      "Max priority user: 180 with priority 4 and timestamp 1731948435.689749\n",
      "User 180 reserved seat 11\n",
      "Waitlist after assignment: [(1, 1731948435.689468, 14), (1, 1731948435.909914, 91), (2, 1731948435.909653, 72), (2, 1731948435.689545, 15), (1, 1731948435.909996, 99), (3, 1731948435.689614, 121), (3, 1731948435.90975, 81), (2, 1731948435.909835, 66), (2, 1731948435.6896791, 161), (2, 1731948435.910078, 86)]\n",
      "Max priority user: 121 with priority 3 and timestamp 1731948435.689614\n",
      "User 121 reserved seat 12\n",
      "Waitlist after assignment: [(1, 1731948435.689468, 14), (1, 1731948435.909914, 91), (2, 1731948435.909653, 72), (2, 1731948435.689545, 15), (1, 1731948435.909996, 99), (3, 1731948435.90975, 81), (2, 1731948435.909835, 66), (2, 1731948435.6896791, 161), (2, 1731948435.910078, 86)]\n",
      "Max priority user: 81 with priority 3 and timestamp 1731948435.90975\n",
      "User 81 reserved seat 13\n",
      "Waitlist after assignment: [(1, 1731948435.689468, 14), (1, 1731948435.909914, 91), (2, 1731948435.909653, 72), (2, 1731948435.689545, 15), (1, 1731948435.909996, 99), (2, 1731948435.909835, 66), (2, 1731948435.6896791, 161), (2, 1731948435.910078, 86)]\n",
      "Max priority user: 15 with priority 2 and timestamp 1731948435.689545\n",
      "User 15 reserved seat 14\n",
      "Waitlist after assignment: [(1, 1731948435.689468, 14), (1, 1731948435.909914, 91), (2, 1731948435.909653, 72), (1, 1731948435.909996, 99), (2, 1731948435.909835, 66), (2, 1731948435.6896791, 161), (2, 1731948435.910078, 86)]\n",
      "Max priority user: 161 with priority 2 and timestamp 1731948435.6896791\n",
      "User 161 reserved seat 15\n",
      "Waitlist after assignment: [(1, 1731948435.689468, 14), (1, 1731948435.909914, 91), (2, 1731948435.909653, 72), (1, 1731948435.909996, 99), (2, 1731948435.909835, 66), (2, 1731948435.910078, 86)]\n",
      "Max priority user: 72 with priority 2 and timestamp 1731948435.909653\n",
      "User 72 reserved seat 16\n",
      "Waitlist after assignment: [(1, 1731948435.689468, 14), (1, 1731948435.909914, 91), (1, 1731948435.909996, 99), (2, 1731948435.909835, 66), (2, 1731948435.910078, 86)]\n",
      "Max priority user: 66 with priority 2 and timestamp 1731948435.909835\n",
      "User 66 reserved seat 17\n",
      "Waitlist after assignment: [(1, 1731948435.689468, 14), (1, 1731948435.909914, 91), (1, 1731948435.909996, 99), (2, 1731948435.910078, 86)]\n",
      "Max priority user: 86 with priority 2 and timestamp 1731948435.910078\n",
      "User 86 reserved seat 18\n",
      "Waitlist after assignment: [(1, 1731948435.689468, 14), (1, 1731948435.909914, 91), (1, 1731948435.909996, 99)]\n",
      "Max priority user: 14 with priority 1 and timestamp 1731948435.689468\n",
      "User 14 reserved seat 19\n",
      "Waitlist after assignment: [(1, 1731948435.909914, 91), (1, 1731948435.909996, 99)]\n",
      "Max priority user: 91 with priority 1 and timestamp 1731948435.909914\n",
      "User 91 reserved seat 20\n",
      "Waitlist after assignment: [(1, 1731948435.909996, 99)]\n",
      "Remaining waitlist: [(1, 1731948435.909996, 99)]\n"
     ]
    }
   ],
   "source": [
    "seat.add_seats(10)"
   ]
  },
  {
   "cell_type": "code",
   "execution_count": 5,
   "metadata": {},
   "outputs": [
    {
     "name": "stdout",
     "output_type": "stream",
     "text": [
      "Total Seats Available : 0, Waitlist : 1\n",
      "RBT ['(seat=1, user=2)', '(seat=2, user=6)', '(seat=3, user=4)', '(seat=4, user=52)', '(seat=5, user=9)', '(seat=6, user=7)', '(seat=7, user=8)', '(seat=8, user=41)', '(seat=9, user=13)', '(seat=10, user=1)', '(seat=11, user=180)', '(seat=12, user=121)', '(seat=13, user=81)', '(seat=14, user=15)', '(seat=15, user=161)', '(seat=16, user=72)', '(seat=17, user=66)', '(seat=18, user=86)', '(seat=19, user=14)', '(seat=20, user=91)']\n",
      "Program Terminated!!\n"
     ]
    }
   ],
   "source": [
    "seat.available()\n",
    "seat.print_reservations()\n",
    "seat.quit()"
   ]
  },
  {
   "cell_type": "markdown",
   "metadata": {},
   "source": [
    "## Test Case 5"
   ]
  },
  {
   "cell_type": "code",
   "execution_count": null,
   "metadata": {},
   "outputs": [],
   "source": [
    "import seat_booking_script as sb\n",
    "import heap_operations, tree_operations, visualizations\n",
    "\n",
    "seat = sb.SeatBooking()\n",
    "seat_heap = heap_operations.SeatHeap()"
   ]
  },
  {
   "cell_type": "code",
   "execution_count": null,
   "metadata": {},
   "outputs": [],
   "source": [
    "seat.initialize(3)\n",
    "seat.reserve(6, 2)\n",
    "seat.reserve(1, 1)\n",
    "seat.reserve(9, 3)\n",
    "seat.reserve(2, 2)\n",
    "seat.reserve(5, 1)\n",
    "seat.reserve(4, 3)\n",
    "seat.reserve(3, 2)\n",
    "seat.available()\n",
    "seat.exit_waitlist(9)\n",
    "seat.update_priority(6, 3)\n",
    "seat.update_priority(3, 3)\n",
    "seat.add_seats(3)\n",
    "seat.available()\n",
    "seat.cancel(3, 9)\n",
    "seat.reserve(9, 3)\n",
    "seat.reserve(12, 2)\n",
    "seat.reserve(18, 1)\n",
    "seat.reserve(17, 3)\n",
    "seat.release_seats(6, 11)\n",
    "seat.update_priority(18, 3)\n",
    "seat.add_seats(2)\n",
    "seat.print_reservations()\n",
    "seat.quit()"
   ]
  }
 ],
 "metadata": {
  "kernelspec": {
   "display_name": "graphbreeds",
   "language": "python",
   "name": "python3"
  },
  "language_info": {
   "codemirror_mode": {
    "name": "ipython",
    "version": 3
   },
   "file_extension": ".py",
   "mimetype": "text/x-python",
   "name": "python",
   "nbconvert_exporter": "python",
   "pygments_lexer": "ipython3",
   "version": "3.12.3"
  }
 },
 "nbformat": 4,
 "nbformat_minor": 2
}
