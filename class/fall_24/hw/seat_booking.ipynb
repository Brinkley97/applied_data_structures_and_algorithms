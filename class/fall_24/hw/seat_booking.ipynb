{
 "cells": [
  {
   "cell_type": "markdown",
   "metadata": {},
   "source": [
    "# Playground \n",
    "\n",
    "- Test classes and functions."
   ]
  },
  {
   "cell_type": "code",
   "execution_count": null,
   "metadata": {},
   "outputs": [],
   "source": [
    "import seat_booking_script as sb\n",
    "import heap_operations, tree_operations, visualizations"
   ]
  },
  {
   "cell_type": "code",
   "execution_count": null,
   "metadata": {},
   "outputs": [],
   "source": [
    "seat = sb.SeatBooking()\n",
    "seat_heap = heap_operations.SeatHeap()"
   ]
  },
  {
   "cell_type": "markdown",
   "metadata": {},
   "source": [
    "## Test Case 1\n",
    "\n",
    "![testcase](testCase1-input.png)\n",
    "![testcase](testCase1-output-v1.png)\n",
    "![testcase](testCase1-output-v2.png)"
   ]
  },
  {
   "cell_type": "code",
   "execution_count": null,
   "metadata": {},
   "outputs": [],
   "source": [
    "seat.initialize(5)\n",
    "# Think on how to build waitlist\n",
    "seat.available()"
   ]
  },
  {
   "cell_type": "markdown",
   "metadata": {},
   "source": [
    "- [ ] Need to delete node from Red Black Tree"
   ]
  },
  {
   "cell_type": "code",
   "execution_count": null,
   "metadata": {},
   "outputs": [],
   "source": [
    "seat.reserve(1, 1)\n",
    "seat.reserve(2, 1)\n",
    "seat.cancel(1, 1)"
   ]
  },
  {
   "cell_type": "code",
   "execution_count": null,
   "metadata": {},
   "outputs": [],
   "source": [
    "seat.reserve(3, 1)\n",
    "seat.print_reservations()\n",
    "seat.quit()"
   ]
  },
  {
   "cell_type": "markdown",
   "metadata": {},
   "source": [
    "![testcase](testCase1-output-v1.png)\n",
    "![testcase](testCase1-output-v2.png)"
   ]
  },
  {
   "cell_type": "code",
   "execution_count": null,
   "metadata": {},
   "outputs": [],
   "source": []
  },
  {
   "cell_type": "markdown",
   "metadata": {},
   "source": [
    "## Test Case 2\n",
    "\n",
    "![testcase](testCase2-input.png)\n",
    "![testcase](testCase2-output-v2.png)\n",
    "![testcase](testCase2-output-v1.png)"
   ]
  },
  {
   "cell_type": "code",
   "execution_count": null,
   "metadata": {},
   "outputs": [],
   "source": [
    "import seat_booking_script as sb\n",
    "import heap_operations, tree_operations, visualizations\n",
    "\n",
    "seat = sb.SeatBooking()\n",
    "seat_heap = heap_operations.SeatHeap()"
   ]
  },
  {
   "cell_type": "code",
   "execution_count": null,
   "metadata": {},
   "outputs": [],
   "source": [
    "seat.initialize(3)"
   ]
  },
  {
   "cell_type": "code",
   "execution_count": null,
   "metadata": {},
   "outputs": [],
   "source": [
    "# Think on how to build waitlist\n",
    "seat.available()"
   ]
  },
  {
   "cell_type": "markdown",
   "metadata": {},
   "source": [
    "- [ ] `user_priority` isn't functional yet"
   ]
  },
  {
   "cell_type": "code",
   "execution_count": null,
   "metadata": {},
   "outputs": [],
   "source": [
    "seat.reserve(1, 1)\n",
    "seat.reserve(2, 1)\n",
    "seat.reserve(3, 1)\n",
    "seat.reserve(4, 1)\n",
    "seat.available()"
   ]
  },
  {
   "cell_type": "code",
   "execution_count": null,
   "metadata": {},
   "outputs": [],
   "source": [
    "seat.reserve(5, 2)"
   ]
  },
  {
   "cell_type": "code",
   "execution_count": null,
   "metadata": {},
   "outputs": [],
   "source": [
    "seat.print_reservations()"
   ]
  },
  {
   "cell_type": "code",
   "execution_count": null,
   "metadata": {},
   "outputs": [],
   "source": [
    "seat.available()"
   ]
  },
  {
   "cell_type": "markdown",
   "metadata": {},
   "source": [
    "- [ ] Fix how I'm removing from `self.waitlist_heap.extract_min()`"
   ]
  },
  {
   "cell_type": "code",
   "execution_count": null,
   "metadata": {},
   "outputs": [],
   "source": [
    "seat.cancel(3, 3)"
   ]
  },
  {
   "cell_type": "markdown",
   "metadata": {},
   "source": [
    "- [ ] Fix how I'm removing from `self.waitlist_heap.extract_min()`"
   ]
  },
  {
   "cell_type": "code",
   "execution_count": null,
   "metadata": {},
   "outputs": [],
   "source": [
    "seat.available()"
   ]
  },
  {
   "cell_type": "code",
   "execution_count": null,
   "metadata": {},
   "outputs": [],
   "source": [
    "seat.print_reservations()"
   ]
  },
  {
   "cell_type": "code",
   "execution_count": null,
   "metadata": {},
   "outputs": [],
   "source": [
    "seat.add_seats(2)"
   ]
  },
  {
   "cell_type": "code",
   "execution_count": null,
   "metadata": {},
   "outputs": [],
   "source": [
    "seat.available()"
   ]
  },
  {
   "cell_type": "markdown",
   "metadata": {},
   "source": [
    "Note `self.rbt.tree_network` output"
   ]
  },
  {
   "cell_type": "code",
   "execution_count": null,
   "metadata": {},
   "outputs": [],
   "source": [
    "seat.reserve(6, 1)\n",
    "seat.reserve(7, 1)\n",
    "seat.reserve(8, 3)\n",
    "seat.reserve(9, 1)"
   ]
  },
  {
   "cell_type": "code",
   "execution_count": null,
   "metadata": {},
   "outputs": [],
   "source": [
    "seat.available()"
   ]
  },
  {
   "cell_type": "code",
   "execution_count": null,
   "metadata": {},
   "outputs": [],
   "source": [
    "seat.update_priority(7, 2)"
   ]
  },
  {
   "cell_type": "code",
   "execution_count": null,
   "metadata": {},
   "outputs": [],
   "source": [
    "seat.add_seats(2)"
   ]
  },
  {
   "cell_type": "code",
   "execution_count": null,
   "metadata": {},
   "outputs": [],
   "source": [
    "seat.exit_waitlist(6)"
   ]
  },
  {
   "cell_type": "code",
   "execution_count": null,
   "metadata": {},
   "outputs": [],
   "source": [
    "seat.available()"
   ]
  },
  {
   "cell_type": "code",
   "execution_count": null,
   "metadata": {},
   "outputs": [],
   "source": [
    "seat.reserve(10, 1)\n",
    "seat.reserve(11, 1)"
   ]
  },
  {
   "cell_type": "code",
   "execution_count": null,
   "metadata": {},
   "outputs": [],
   "source": [
    "seat.release_seats(1, 4)"
   ]
  },
  {
   "cell_type": "code",
   "execution_count": null,
   "metadata": {},
   "outputs": [],
   "source": [
    "seat.quit()"
   ]
  },
  {
   "cell_type": "code",
   "execution_count": null,
   "metadata": {},
   "outputs": [],
   "source": [
    "# seat.add_seats(111)"
   ]
  },
  {
   "cell_type": "markdown",
   "metadata": {},
   "source": [
    "<!-- ![testcase](testCase2-output-v2.png) -->\n",
    "![testcase](testCase2-output-v1.png)"
   ]
  },
  {
   "cell_type": "markdown",
   "metadata": {},
   "source": [
    "## Test Case 3"
   ]
  },
  {
   "cell_type": "code",
   "execution_count": 1,
   "metadata": {},
   "outputs": [],
   "source": [
    "import seat_booking_script as sb\n",
    "import heap_operations, tree_operations, visualizations\n",
    "\n",
    "seat = sb.SeatBooking()\n",
    "seat_heap = heap_operations.SeatHeap()"
   ]
  },
  {
   "cell_type": "markdown",
   "metadata": {},
   "source": [
    "- [] Fix when run all cells, the input for `initialize(input)` sums the above with current (I believe)\n",
    "- User 6 reserved seat 1"
   ]
  },
  {
   "cell_type": "code",
   "execution_count": 2,
   "metadata": {},
   "outputs": [
    {
     "name": "stdout",
     "output_type": "stream",
     "text": [
      "4 seats are made available for reservation\n"
     ]
    },
    {
     "data": {
      "image/png": "[encoded data removed]",
      "text/plain": [
       "<Figure size 640x480 with 1 Axes>"
      ]
     },
     "metadata": {},
     "output_type": "display_data"
    },
    {
     "name": "stdout",
     "output_type": "stream",
     "text": [
      "Total Seats Available : 4, Waitlist : 0\n",
      "User 8 reserved seat 1\n",
      "    1) Insert into Red-Black Tree User 8 and Seat 1 with root node color of black \n",
      "       RBT [Node(User=8, Seat=1, color=black)] \n",
      "    2) Remove 1 from Seat Heap\n"
     ]
    },
    {
     "data": {
      "image/png": "[encoded data removed]",
      "text/plain": [
       "<Figure size 640x480 with 1 Axes>"
      ]
     },
     "metadata": {},
     "output_type": "display_data"
    },
    {
     "name": "stdout",
     "output_type": "stream",
     "text": [
      "User 4 reserved seat 2\n",
      "    1) Insert into Red-Black Tree User 4 and Seat 2 with root node color of black \n",
      "       RBT [Node(User=8, Seat=1, color=black), Node(User=4, Seat=2, color=red)] \n",
      "    2) Remove 2 from Seat Heap\n"
     ]
    },
    {
     "data": {
      "image/png": "[encoded data removed]",
      "text/plain": [
       "<Figure size 640x480 with 1 Axes>"
      ]
     },
     "metadata": {},
     "output_type": "display_data"
    },
    {
     "name": "stdout",
     "output_type": "stream",
     "text": [
      "User 5 reserved seat 3\n",
      "    1) Insert into Red-Black Tree User 5 and Seat 3 with root node color of black \n",
      "       RBT [Node(User=8, Seat=1, color=red), Node(User=4, Seat=2, color=red), Node(User=5, Seat=3, color=black)] \n",
      "    2) Remove 3 from Seat Heap\n"
     ]
    },
    {
     "data": {
      "image/png": "[encoded data removed]",
      "text/plain": [
       "<Figure size 640x480 with 1 Axes>"
      ]
     },
     "metadata": {},
     "output_type": "display_data"
    },
    {
     "name": "stdout",
     "output_type": "stream",
     "text": [
      "RBT: [Node(User=8, Seat=1, color=red), Node(User=4, Seat=2, color=red), Node(User=5, Seat=3, color=black)]\n",
      "User 4 with seat 2\n",
      "User 4 canceled their reservation\n",
      "Updated RBT: [Node(User=8, Seat=1, color=red), Node(User=5, Seat=3, color=black)]\n"
     ]
    },
    {
     "data": {
      "image/png": "[encoded data removed]",
      "text/plain": [
       "<Figure size 640x480 with 1 Axes>"
      ]
     },
     "metadata": {},
     "output_type": "display_data"
    }
   ],
   "source": [
    "seat.initialize(4)\n",
    "seat.available()\n",
    "seat.reserve(8, 1)\n",
    "seat.reserve(4, 3)\n",
    "seat.reserve(5, 2)\n",
    "seat.cancel(2, 4)"
   ]
  },
  {
   "cell_type": "code",
   "execution_count": 3,
   "metadata": {},
   "outputs": [
    {
     "name": "stdout",
     "output_type": "stream",
     "text": [
      "User 1 reserved seat 2\n",
      "    1) Insert into Red-Black Tree User 1 and Seat 2 with root node color of black \n",
      "       RBT [Node(User=8, Seat=1, color=red), Node(User=5, Seat=3, color=black), Node(User=1, Seat=2, color=red)] \n",
      "    2) Remove 2 from Seat Heap\n"
     ]
    },
    {
     "data": {
      "image/png": "[encoded data removed]",
      "text/plain": [
       "<Figure size 640x480 with 1 Axes>"
      ]
     },
     "metadata": {},
     "output_type": "display_data"
    },
    {
     "name": "stdout",
     "output_type": "stream",
     "text": [
      "Total Seats Available : 1, Waitlist : 0\n",
      "RBT ['(seat=1, user=8)', '(seat=2, user=1)', '(seat=3, user=5)']\n",
      "User 3 reserved seat 4\n",
      "    1) Insert into Red-Black Tree User 3 and Seat 4 with root node color of black \n",
      "       RBT [Node(User=8, Seat=1, color=black), Node(User=5, Seat=3, color=black), Node(User=1, Seat=2, color=black), Node(User=3, Seat=4, color=red)] \n",
      "    2) Remove 4 from Seat Heap\n"
     ]
    },
    {
     "data": {
      "image/png": "[encoded data removed]",
      "text/plain": [
       "<Figure size 640x480 with 1 Axes>"
      ]
     },
     "metadata": {},
     "output_type": "display_data"
    },
    {
     "name": "stdout",
     "output_type": "stream",
     "text": [
      "User 2 is added to the waiting list\n",
      "User 6 is added to the waiting list\n",
      "Total Seats Available : 0, Waitlist : 2\n"
     ]
    }
   ],
   "source": [
    "seat.reserve(1, 1)\n",
    "seat.available()\n",
    "seat.print_reservations()\n",
    "seat.reserve(3, 1)\n",
    "seat.reserve(2, 2)\n",
    "seat.reserve(6, 3)\n",
    "seat.available()"
   ]
  },
  {
   "cell_type": "code",
   "execution_count": 4,
   "metadata": {},
   "outputs": [
    {
     "name": "stdout",
     "output_type": "stream",
     "text": [
      "RBT: [Node(User=8, Seat=1, color=black), Node(User=5, Seat=3, color=black), Node(User=1, Seat=2, color=black), Node(User=3, Seat=4, color=red)]\n",
      "User 1 with seat 2\n",
      "User 1 does not have reservation for seat 1 to cancel\n",
      "Updated Waitlist: [(2, 2), (3, 6)]\n",
      "RBT: [Node(User=8, Seat=1, color=black), Node(User=5, Seat=3, color=black), Node(User=1, Seat=2, color=black), Node(User=3, Seat=4, color=red)]\n",
      "RBT: [Node(User=8, Seat=1, color=black), Node(User=5, Seat=3, color=black), Node(User=1, Seat=2, color=black), Node(User=3, Seat=4, color=red)]\n",
      "User 5 with seat 3\n",
      "User 5 canceled their reservation.\n",
      "User 6 reserved seat 3\n",
      "Updated Waitlist: [(2, 2)]\n",
      "RBT: [Node(User=8, Seat=1, color=black), Node(User=1, Seat=2, color=black), Node(User=3, Seat=4, color=black), Node(User=6, Seat=3, color=red)]\n",
      "Total Seats Available : 0, Waitlist : 1\n",
      "User 11 is added to the waiting list\n",
      "User 9 is added to the waiting list\n"
     ]
    }
   ],
   "source": [
    "seat.cancel(1, 1)\n",
    "seat.cancel(3, 5)\n",
    "seat.available()\n",
    "seat.reserve(11, 1)\n",
    "seat.reserve(9, 2)"
   ]
  },
  {
   "cell_type": "code",
   "execution_count": 5,
   "metadata": {},
   "outputs": [
    {
     "data": {
      "image/png": "[encoded data removed]",
      "text/plain": [
       "<Figure size 640x480 with 1 Axes>"
      ]
     },
     "metadata": {},
     "output_type": "display_data"
    },
    {
     "data": {
      "image/png": "[encoded data removed]",
      "text/plain": [
       "<Figure size 640x480 with 1 Axes>"
      ]
     },
     "metadata": {},
     "output_type": "display_data"
    },
    {
     "name": "stdout",
     "output_type": "stream",
     "text": [
      "Additional 2 seats are made available for reservation\n",
      "User 2 reserved seat 5\n",
      "User 9 reserved seat 6\n",
      "User 7 is added to the waiting list\n",
      "RBT: [Node(User=8, Seat=1, color=black), Node(User=1, Seat=2, color=black), Node(User=3, Seat=4, color=black), Node(User=6, Seat=3, color=red), Node(User=2, Seat=5, color=red), Node(User=9, Seat=6, color=red)]\n",
      "User 8 with seat 1\n",
      "User 8 canceled their reservation.\n",
      "User 7 reserved seat 1\n",
      "Updated Waitlist: [(1, 11)]\n",
      "RBT: [Node(User=1, Seat=2, color=black), Node(User=3, Seat=4, color=black), Node(User=6, Seat=3, color=red), Node(User=2, Seat=5, color=red), Node(User=9, Seat=6, color=red), Node(User=7, Seat=1, color=black)]\n",
      "Total Seats Available : 0, Waitlist : 1\n"
     ]
    }
   ],
   "source": [
    "seat.add_seats(2)\n",
    "seat.reserve(7, 2)\n",
    "seat.cancel(1, 8)\n",
    "seat.available()"
   ]
  },
  {
   "cell_type": "code",
   "execution_count": null,
   "metadata": {},
   "outputs": [],
   "source": [
    "seat.release_seats(8, 10)\n"
   ]
  },
  {
   "cell_type": "code",
   "execution_count": null,
   "metadata": {},
   "outputs": [],
   "source": [
    "seat.print_reservations()\n",
    "seat.quit()"
   ]
  },
  {
   "cell_type": "markdown",
   "metadata": {},
   "source": [
    "## Test Case 4"
   ]
  },
  {
   "cell_type": "code",
   "execution_count": null,
   "metadata": {},
   "outputs": [],
   "source": [
    "import seat_booking_script as sb\n",
    "import heap_operations, tree_operations, visualizations\n",
    "\n",
    "seat = sb.SeatBooking()\n",
    "seat_heap = heap_operations.SeatHeap()"
   ]
  },
  {
   "cell_type": "code",
   "execution_count": null,
   "metadata": {},
   "outputs": [],
   "source": [
    "seat.initialize(10)\n",
    "seat.reserve(2, 1)\n",
    "seat.reserve(6, 2)\n",
    "seat.reserve(13, 1)\n",
    "seat.reserve(15, 3)\n",
    "seat.reserve(9, 4)\n",
    "seat.cancel(3, 13)\n",
    "seat.reserve(4, 2)\n",
    "seat.reserve(7, 1)\n",
    "seat.reserve(8, 2)\n",
    "seat.reserve(66, 1)\n",
    "seat.release_seats(10, 100)\n",
    "seat.reserve(52, 1)\n",
    "seat.reserve(41, 2)\n",
    "seat.reserve(13, 1)\n",
    "seat.reserve(1, 3)\n",
    "seat.reserve(14, 1)\n",
    "seat.reserve(15, 1)\n",
    "seat.reserve(121, 3)\n",
    "seat.reserve(161, 2)\n",
    "seat.reserve(180, 4)\n",
    "seat.update_priority(15, 2)\n",
    "seat.reserve(72, 2)\n",
    "seat.reserve(81, 3)\n",
    "seat.reserve(66, 2)\n",
    "seat.reserve(91, 1)\n",
    "seat.reserve(99, 1)\n",
    "seat.reserve(86, 2)\n",
    "seat.add_seats(10)\n",
    "seat.available()\n",
    "seat.print_reservations()\n",
    "seat.quit()"
   ]
  },
  {
   "cell_type": "markdown",
   "metadata": {},
   "source": [
    "## Test Case 5"
   ]
  },
  {
   "cell_type": "code",
   "execution_count": null,
   "metadata": {},
   "outputs": [],
   "source": [
    "import seat_booking_script as sb\n",
    "import heap_operations, tree_operations, visualizations\n",
    "\n",
    "seat = sb.SeatBooking()\n",
    "seat_heap = heap_operations.SeatHeap()"
   ]
  },
  {
   "cell_type": "code",
   "execution_count": null,
   "metadata": {},
   "outputs": [],
   "source": [
    "seat.initialize(3)\n",
    "seat.reserve(6, 2)\n",
    "seat.reserve(1, 1)\n",
    "seat.reserve(9, 3)\n",
    "seat.reserve(2, 2)\n",
    "seat.reserve(5, 1)\n",
    "seat.reserve(4, 3)\n",
    "seat.reserve(3, 2)\n",
    "seat.available()\n",
    "seat.exit_waitlist(9)\n",
    "seat.update_priority(6, 3)\n",
    "seat.update_priority(3, 3)\n",
    "seat.add_seats(3)\n",
    "seat.available()\n",
    "seat.cancel(3, 9)\n",
    "seat.reserve(9, 3)\n",
    "seat.reserve(12, 2)\n",
    "seat.reserve(18, 1)\n",
    "seat.reserve(17, 3)\n",
    "seat.release_seats(6, 11)\n",
    "seat.update_priority(18, 3)\n",
    "seat.add_seats(2)\n",
    "seat.print_reservations()\n",
    "seat.quit()"
   ]
  }
 ],
 "metadata": {
  "kernelspec": {
   "display_name": "graphbreeds",
   "language": "python",
   "name": "python3"
  },
  "language_info": {
   "codemirror_mode": {
    "name": "ipython",
    "version": 3
   },
   "file_extension": ".py",
   "mimetype": "text/x-python",
   "name": "python",
   "nbconvert_exporter": "python",
   "pygments_lexer": "ipython3",
   "version": "3.12.3"
  }
 },
 "nbformat": 4,
 "nbformat_minor": 2
}
