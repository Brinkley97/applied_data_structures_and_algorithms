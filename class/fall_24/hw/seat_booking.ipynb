{
 "cells": [
  {
   "cell_type": "markdown",
   "metadata": {},
   "source": [
    "# Playground \n",
    "\n",
    "- Test classes and functions."
   ]
  },
  {
   "cell_type": "code",
   "execution_count": null,
   "metadata": {},
   "outputs": [],
   "source": [
    "import seat_booking_script as sb\n",
    "import heap_operations, tree_operations, visualizations"
   ]
  },
  {
   "cell_type": "code",
   "execution_count": null,
   "metadata": {},
   "outputs": [],
   "source": [
    "seat = sb.SeatBooking()\n",
    "seat_heap = heap_operations.SeatHeap()"
   ]
  },
  {
   "cell_type": "markdown",
   "metadata": {},
   "source": [
    "## Test Case 1\n",
    "\n",
    "![testcase](testCase1-input.png)\n",
    "![testcase](testCase1-output-v1.png)\n",
    "![testcase](testCase1-output-v2.png)"
   ]
  },
  {
   "cell_type": "code",
   "execution_count": null,
   "metadata": {},
   "outputs": [],
   "source": [
    "seat.initialize(5)\n",
    "# Think on how to build waitlist\n",
    "seat.available()"
   ]
  },
  {
   "cell_type": "markdown",
   "metadata": {},
   "source": [
    "- [ ] Need to delete node from Red Black Tree"
   ]
  },
  {
   "cell_type": "code",
   "execution_count": null,
   "metadata": {},
   "outputs": [],
   "source": [
    "seat.reserve(1, 1)\n",
    "seat.reserve(2, 1)\n",
    "seat.cancel(1, 1)"
   ]
  },
  {
   "cell_type": "code",
   "execution_count": null,
   "metadata": {},
   "outputs": [],
   "source": [
    "seat.reserve(3, 1)\n",
    "seat.print_reservations()\n",
    "seat.quit()"
   ]
  },
  {
   "cell_type": "markdown",
   "metadata": {},
   "source": [
    "![testcase](testCase1-output-v1.png)\n",
    "![testcase](testCase1-output-v2.png)"
   ]
  },
  {
   "cell_type": "code",
   "execution_count": null,
   "metadata": {},
   "outputs": [],
   "source": []
  },
  {
   "cell_type": "markdown",
   "metadata": {},
   "source": [
    "## Test Case 2\n",
    "\n",
    "![testcase](testCase2-input.png)\n",
    "![testcase](testCase2-output-v2.png)\n",
    "![testcase](testCase2-output-v1.png)"
   ]
  },
  {
   "cell_type": "code",
   "execution_count": null,
   "metadata": {},
   "outputs": [],
   "source": [
    "import seat_booking_script as sb\n",
    "import heap_operations, tree_operations, visualizations\n",
    "\n",
    "seat = sb.SeatBooking()\n",
    "seat_heap = heap_operations.SeatHeap()"
   ]
  },
  {
   "cell_type": "code",
   "execution_count": null,
   "metadata": {},
   "outputs": [],
   "source": [
    "seat.initialize(3)\n",
    "# Think on how to build waitlist\n",
    "seat.available()\n",
    "seat.reserve(1, 1)\n",
    "seat.reserve(2, 1)\n",
    "seat.reserve(3, 1)\n",
    "seat.reserve(4, 1)\n",
    "seat.available()\n",
    "seat.reserve(5, 2)\n",
    "seat.print_reservations()\n",
    "seat.available()\n",
    "seat.cancel(3, 3)\n",
    "seat.available()\n",
    "seat.print_reservations()\n",
    "seat.add_seats(2)\n",
    "# seat.available()\n",
    "seat.reserve(6, 1)\n",
    "seat.reserve(7, 1)\n",
    "seat.reserve(8, 3)\n",
    "seat.reserve(9, 1)\n",
    "# seat.available()\n",
    "seat.update_priority(7, 2)\n",
    "seat.add_seats(2)\n",
    "seat.exit_waitlist(6)\n",
    "seat.available()\n",
    "seat.reserve(10, 1)\n",
    "seat.reserve(11, 1)\n",
    "seat.release_seats(1, 4)\n",
    "seat.quit()"
   ]
  },
  {
   "cell_type": "code",
   "execution_count": null,
   "metadata": {},
   "outputs": [],
   "source": [
    "# seat.add_seats(111)"
   ]
  },
  {
   "cell_type": "markdown",
   "metadata": {},
   "source": [
    "<!-- ![testcase](testCase2-output-v2.png) -->\n",
    "![testcase](testCase2-output-v1.png)"
   ]
  },
  {
   "cell_type": "markdown",
   "metadata": {},
   "source": [
    "## Test Case 3"
   ]
  },
  {
   "cell_type": "code",
   "execution_count": null,
   "metadata": {},
   "outputs": [],
   "source": [
    "import seat_booking_script as sb\n",
    "import heap_operations, tree_operations, visualizations\n",
    "\n",
    "seat = sb.SeatBooking()\n",
    "seat_heap = heap_operations.SeatHeap()"
   ]
  },
  {
   "cell_type": "markdown",
   "metadata": {},
   "source": [
    "- [] Fix when run all cells, the input for `initialize(input)` sums the above with current (I believe)\n",
    "- User 6 reserved seat 1"
   ]
  },
  {
   "cell_type": "code",
   "execution_count": null,
   "metadata": {},
   "outputs": [],
   "source": [
    "seat.initialize(4)\n",
    "seat.available()\n",
    "seat.reserve(8, 1)\n",
    "seat.reserve(4, 3)\n",
    "seat.reserve(5, 2)\n",
    "seat.cancel(2, 4)"
   ]
  },
  {
   "cell_type": "code",
   "execution_count": null,
   "metadata": {},
   "outputs": [],
   "source": [
    "seat.reserve(1, 1)\n",
    "seat.available()\n",
    "seat.print_reservations()\n",
    "seat.reserve(3, 1)\n",
    "seat.reserve(2, 2)\n",
    "seat.reserve(6, 3)\n",
    "seat.available()"
   ]
  },
  {
   "cell_type": "code",
   "execution_count": null,
   "metadata": {},
   "outputs": [],
   "source": [
    "seat.cancel(1, 1)\n",
    "seat.cancel(3, 5)\n",
    "seat.available()\n",
    "seat.reserve(11, 1)\n",
    "seat.reserve(9, 2)"
   ]
  },
  {
   "cell_type": "code",
   "execution_count": null,
   "metadata": {},
   "outputs": [],
   "source": [
    "seat.add_seats(2)\n",
    "seat.reserve(7, 2)\n",
    "seat.cancel(1, 8)\n",
    "seat.available()"
   ]
  },
  {
   "cell_type": "code",
   "execution_count": null,
   "metadata": {},
   "outputs": [],
   "source": [
    "seat.release_seats(8, 10)"
   ]
  },
  {
   "cell_type": "code",
   "execution_count": null,
   "metadata": {},
   "outputs": [],
   "source": [
    "seat.print_reservations()\n",
    "seat.quit()"
   ]
  },
  {
   "cell_type": "markdown",
   "metadata": {},
   "source": [
    "## Test Case 4"
   ]
  },
  {
   "cell_type": "code",
   "execution_count": null,
   "metadata": {},
   "outputs": [],
   "source": [
    "import seat_booking_script as sb\n",
    "import heap_operations, tree_operations, visualizations\n",
    "\n",
    "seat = sb.SeatBooking()\n",
    "seat_heap = heap_operations.SeatHeap()"
   ]
  },
  {
   "cell_type": "code",
   "execution_count": null,
   "metadata": {},
   "outputs": [],
   "source": [
    "seat.initialize(10)\n",
    "seat.reserve(2, 1)\n",
    "seat.reserve(6, 2)\n",
    "seat.reserve(13, 1)\n",
    "seat.reserve(15, 3)\n",
    "seat.reserve(9, 4)\n",
    "seat.cancel(3, 13)\n",
    "seat.reserve(4, 2)\n",
    "seat.reserve(7, 1)\n",
    "seat.reserve(8, 2)\n",
    "seat.reserve(66, 1)\n",
    "seat.release_seats(10, 100)\n",
    "seat.reserve(52, 1)\n",
    "seat.reserve(41, 2)\n",
    "seat.reserve(13, 1)\n",
    "seat.reserve(1, 3)\n",
    "seat.reserve(14, 1)\n",
    "seat.reserve(15, 1)\n",
    "seat.reserve(121, 3)\n",
    "seat.reserve(161, 2)\n",
    "seat.reserve(180, 4)"
   ]
  },
  {
   "cell_type": "code",
   "execution_count": null,
   "metadata": {},
   "outputs": [],
   "source": [
    "seat.update_priority(15, 2)\n",
    "seat.reserve(72, 2)\n",
    "seat.reserve(81, 3)\n",
    "seat.reserve(66, 2)\n",
    "seat.reserve(91, 1)\n",
    "seat.reserve(99, 1)\n",
    "seat.reserve(86, 2)"
   ]
  },
  {
   "cell_type": "code",
   "execution_count": null,
   "metadata": {},
   "outputs": [],
   "source": [
    "seat.add_seats(10)"
   ]
  },
  {
   "cell_type": "code",
   "execution_count": null,
   "metadata": {},
   "outputs": [],
   "source": [
    "seat.available()\n",
    "seat.print_reservations()\n",
    "seat.quit()"
   ]
  },
  {
   "cell_type": "markdown",
   "metadata": {},
   "source": [
    "## Test Case 5"
   ]
  },
  {
   "cell_type": "code",
   "execution_count": 1,
   "metadata": {},
   "outputs": [],
   "source": [
    "import seat_booking_script as sb\n",
    "import heap_operations, tree_operations, visualizations\n",
    "\n",
    "seat = sb.SeatBooking()\n",
    "seat_heap = heap_operations.SeatHeap()"
   ]
  },
  {
   "cell_type": "code",
   "execution_count": 2,
   "metadata": {},
   "outputs": [
    {
     "name": "stdout",
     "output_type": "stream",
     "text": [
      "3 seats are made available for reservation\n"
     ]
    },
    {
     "data": {
      "image/png": "[encoded data removed]",
      "text/plain": [
       "<Figure size 640x480 with 1 Axes>"
      ]
     },
     "metadata": {},
     "output_type": "display_data"
    },
    {
     "name": "stdout",
     "output_type": "stream",
     "text": [
      "User 6 reserved seat 1\n",
      "    1) Insert into Red-Black Tree User 6 and Seat 1 with root node color of black \n",
      "       RBT [Node(User=6, Seat=1, color=black)] \n",
      "    2) Remove 1 from Seat Heap\n",
      "User 1 reserved seat 2\n",
      "    1) Insert into Red-Black Tree User 1 and Seat 2 with root node color of black \n",
      "       RBT [Node(User=6, Seat=1, color=black), Node(User=1, Seat=2, color=red)] \n",
      "    2) Remove 2 from Seat Heap\n",
      "User 9 reserved seat 3\n",
      "    1) Insert into Red-Black Tree User 9 and Seat 3 with root node color of black \n",
      "       RBT [Node(User=6, Seat=1, color=black), Node(User=1, Seat=2, color=red), Node(User=9, Seat=3, color=red)] \n",
      "    2) Remove 3 from Seat Heap\n",
      "User 2 is added to the waiting list\n",
      "    waitlist: [(2, 1731953738.99213, 2)]\n",
      "User 5 is added to the waiting list\n",
      "    waitlist: [(1, 1731953738.992204, 5), (2, 1731953738.99213, 2)]\n",
      "User 4 is added to the waiting list\n",
      "    waitlist: [(1, 1731953738.992204, 5), (2, 1731953738.99213, 2), (3, 1731953738.992278, 4)]\n",
      "User 3 is added to the waiting list\n",
      "    waitlist: [(1, 1731953738.992204, 5), (2, 1731953738.99213, 2), (3, 1731953738.992278, 4), (2, 1731953738.992348, 3)]\n",
      "Total Seats Available : 0, Waitlist : 4\n",
      "User 9 is not in waitlist\n",
      "waitlist: [(1, 1731953738.992204, 5), (2, 1731953738.99213, 2), (3, 1731953738.992278, 4), (2, 1731953738.992348, 3)]\n",
      "User 6 priority is not updated\n",
      "User 6 priority is not updated\n",
      "User 6 priority is not updated\n",
      "User 6 priority is not updated\n",
      "waitlist: [(1, 1731953738.992204, 5), (2, 1731953738.99213, 2), (3, 1731953738.992278, 4), (2, 1731953738.992348, 3)]\n",
      "waitlist: [(1, 1731953738.992204, 5), (2, 1731953738.99213, 2), (3, 1731953738.992278, 4), (2, 1731953738.992348, 3)]\n",
      "User 3 priority is not updated\n",
      "User 3 priority is not updated\n",
      "User 3 priority is not updated\n",
      "User 3 priority has been updated to 3\n",
      "waitlist: [(1, 1731953738.992204, 5), (2, 1731953738.99213, 2), (3, 1731953738.992278, 4), (3, 1731953738.992348, 3)]\n",
      "Previous #seats: 3\n"
     ]
    },
    {
     "data": {
      "image/png": "[encoded data removed]",
      "text/plain": [
       "<Figure size 640x480 with 1 Axes>"
      ]
     },
     "metadata": {},
     "output_type": "display_data"
    },
    {
     "data": {
      "image/png": "[encoded data removed]",
      "text/plain": [
       "<Figure size 640x480 with 1 Axes>"
      ]
     },
     "metadata": {},
     "output_type": "display_data"
    },
    {
     "data": {
      "image/png": "[encoded data removed]",
      "text/plain": [
       "<Figure size 640x480 with 1 Axes>"
      ]
     },
     "metadata": {},
     "output_type": "display_data"
    },
    {
     "data": {
      "image/png": "[encoded data removed]",
      "text/plain": [
       "<Figure size 640x480 with 1 Axes>"
      ]
     },
     "metadata": {},
     "output_type": "display_data"
    },
    {
     "name": "stdout",
     "output_type": "stream",
     "text": [
      "Additional 3 seats are made available for reservation\n",
      "Max priority user: 4 with priority 3 and timestamp 1731953738.992278\n",
      "User 4 reserved seat 4\n",
      "Waitlist after assignment: [(1, 1731953738.992204, 5), (2, 1731953738.99213, 2), (3, 1731953738.992348, 3)]\n",
      "Max priority user: 3 with priority 3 and timestamp 1731953738.992348\n",
      "User 3 reserved seat 5\n",
      "Waitlist after assignment: [(1, 1731953738.992204, 5), (2, 1731953738.99213, 2)]\n",
      "Max priority user: 2 with priority 2 and timestamp 1731953738.99213\n",
      "User 2 reserved seat 6\n",
      "Waitlist after assignment: [(1, 1731953738.992204, 5)]\n",
      "Remaining waitlist: [(1, 1731953738.992204, 5)]\n",
      "Total Seats Available : 0, Waitlist : 1\n",
      "RBT: [Node(User=6, Seat=1, color=black), Node(User=1, Seat=2, color=black), Node(User=9, Seat=3, color=black), Node(User=4, Seat=4, color=black), Node(User=3, Seat=5, color=red), Node(User=2, Seat=6, color=red)]\n",
      "User 9 with seat 3\n",
      "User 9 canceled their reservation.\n",
      "User 5 reserved seat 3\n",
      "Updated Waitlist: []\n",
      "RBT: [Node(User=6, Seat=1, color=red), Node(User=1, Seat=2, color=black), Node(User=4, Seat=4, color=red), Node(User=3, Seat=5, color=black), Node(User=2, Seat=6, color=red), Node(User=5, Seat=3, color=black)]\n",
      "User 9 is added to the waiting list\n",
      "    waitlist: [(3, 1731953739.23185, 9)]\n",
      "User 12 is added to the waiting list\n",
      "    waitlist: [(2, 1731953739.231937, 12), (3, 1731953739.23185, 9)]\n",
      "User 18 is added to the waiting list\n",
      "    waitlist: [(1, 1731953739.232009, 18), (3, 1731953739.23185, 9), (2, 1731953739.231937, 12)]\n",
      "User 17 is added to the waiting list\n",
      "    waitlist: [(1, 1731953739.232009, 18), (3, 1731953739.23185, 9), (2, 1731953739.231937, 12), (3, 1731953739.232078, 17)]\n",
      "Pre-RBT: [Node(User=6, Seat=1, color=red), Node(User=1, Seat=2, color=black), Node(User=4, Seat=4, color=red), Node(User=3, Seat=5, color=black), Node(User=2, Seat=6, color=red), Node(User=5, Seat=3, color=black)]\n",
      "Waitlist: [(1, 1731953739.232009, 18), (3, 1731953739.23185, 9), (2, 1731953739.231937, 12), (3, 1731953739.232078, 17)]\n",
      "Node to delete from RBT: 6 : 1\n",
      "Released seat for user ID: 6\n"
     ]
    },
    {
     "data": {
      "image/png": "[encoded data removed]",
      "text/plain": [
       "<Figure size 640x480 with 1 Axes>"
      ]
     },
     "metadata": {},
     "output_type": "display_data"
    },
    {
     "name": "stdout",
     "output_type": "stream",
     "text": [
      "Max priority user: 9 with priority 3 and timestamp 1731953739.23185\n",
      "User 9 reserved seat 1\n",
      "Waitlist after assignment: [(1, 1731953739.232009, 18), (2, 1731953739.231937, 12), (3, 1731953739.232078, 17)]\n",
      "User ID 7 not found in the RBT\n",
      "User ID 8 not found in the RBT\n",
      "Node to delete from RBT: 9 : 1\n",
      "Released seat for user ID: 9\n"
     ]
    },
    {
     "data": {
      "image/png": "[encoded data removed]",
      "text/plain": [
       "<Figure size 640x480 with 1 Axes>"
      ]
     },
     "metadata": {},
     "output_type": "display_data"
    },
    {
     "name": "stdout",
     "output_type": "stream",
     "text": [
      "Max priority user: 17 with priority 3 and timestamp 1731953739.232078\n",
      "User 17 reserved seat 1\n",
      "Waitlist after assignment: [(1, 1731953739.232009, 18), (2, 1731953739.231937, 12)]\n",
      "User ID 10 not found in the RBT\n",
      "User ID 11 not found in the RBT\n",
      "Reservations of the Users in range [6, 11] are released\n",
      "Post-RBT: [Node(User=1, Seat=2, color=black), Node(User=4, Seat=4, color=red), Node(User=3, Seat=5, color=black), Node(User=2, Seat=6, color=red), Node(User=5, Seat=3, color=black), Node(User=17, Seat=1, color=red)]\n",
      "waitlist: [(1, 1731953739.232009, 18), (2, 1731953739.231937, 12)]\n",
      "User 18 priority has been updated to 3\n",
      "User 18 priority is not updated\n",
      "waitlist: [(3, 1731953739.232009, 18), (2, 1731953739.231937, 12)]\n",
      "Previous #seats: 6\n"
     ]
    },
    {
     "data": {
      "image/png": "[encoded data removed]",
      "text/plain": [
       "<Figure size 640x480 with 1 Axes>"
      ]
     },
     "metadata": {},
     "output_type": "display_data"
    },
    {
     "data": {
      "image/png": "[encoded data removed]",
      "text/plain": [
       "<Figure size 640x480 with 1 Axes>"
      ]
     },
     "metadata": {},
     "output_type": "display_data"
    },
    {
     "data": {
      "image/png": "[encoded data removed]",
      "text/plain": [
       "<Figure size 640x480 with 1 Axes>"
      ]
     },
     "metadata": {},
     "output_type": "display_data"
    },
    {
     "name": "stdout",
     "output_type": "stream",
     "text": [
      "Additional 2 seats are made available for reservation\n",
      "Max priority user: 18 with priority 3 and timestamp 1731953739.232009\n",
      "User 18 reserved seat 7\n",
      "Waitlist after assignment: [(2, 1731953739.231937, 12)]\n",
      "Max priority user: 12 with priority 2 and timestamp 1731953739.231937\n",
      "User 12 reserved seat 8\n",
      "Waitlist after assignment: []\n",
      "RBT ['(seat=1, user=17)', '(seat=2, user=1)', '(seat=3, user=5)', '(seat=4, user=4)', '(seat=5, user=3)', '(seat=6, user=2)', '(seat=7, user=18)', '(seat=8, user=12)']\n",
      "Program Terminated!!\n"
     ]
    }
   ],
   "source": [
    "seat.initialize(3)\n",
    "seat.reserve(6, 2)\n",
    "seat.reserve(1, 1)\n",
    "seat.reserve(9, 3)\n",
    "seat.reserve(2, 2)\n",
    "seat.reserve(5, 1)\n",
    "seat.reserve(4, 3)\n",
    "seat.reserve(3, 2)\n",
    "seat.available()\n",
    "seat.exit_waitlist(9)\n",
    "seat.update_priority(6, 3)\n",
    "seat.update_priority(3, 3)\n",
    "seat.add_seats(3)\n",
    "seat.available()\n",
    "seat.cancel(3, 9)\n",
    "seat.reserve(9, 3)\n",
    "seat.reserve(12, 2)\n",
    "seat.reserve(18, 1)\n",
    "seat.reserve(17, 3)\n",
    "seat.release_seats(6, 11)\n",
    "seat.update_priority(18, 3)\n",
    "seat.add_seats(2)\n",
    "seat.print_reservations()\n",
    "seat.quit()"
   ]
  },
  {
   "cell_type": "code",
   "execution_count": null,
   "metadata": {},
   "outputs": [],
   "source": []
  }
 ],
 "metadata": {
  "kernelspec": {
   "display_name": "graphbreeds",
   "language": "python",
   "name": "python3"
  },
  "language_info": {
   "codemirror_mode": {
    "name": "ipython",
    "version": 3
   },
   "file_extension": ".py",
   "mimetype": "text/x-python",
   "name": "python",
   "nbconvert_exporter": "python",
   "pygments_lexer": "ipython3",
   "version": "3.12.3"
  }
 },
 "nbformat": 4,
 "nbformat_minor": 2
}
