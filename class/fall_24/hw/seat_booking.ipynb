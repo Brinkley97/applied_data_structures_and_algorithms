{
 "cells": [
  {
   "cell_type": "markdown",
   "metadata": {},
   "source": [
    "# Playground \n",
    "\n",
    "- Test classes and functions."
   ]
  },
  {
   "cell_type": "code",
   "execution_count": 1,
   "metadata": {},
   "outputs": [],
   "source": [
    "import seat_booking_script as sb\n",
    "import heap_operations, tree_operations, visualizations"
   ]
  },
  {
   "cell_type": "code",
   "execution_count": 2,
   "metadata": {},
   "outputs": [],
   "source": [
    "seat = sb.SeatBooking()\n",
    "seat_heap = heap_operations.SeatHeap()"
   ]
  },
  {
   "cell_type": "code",
   "execution_count": 3,
   "metadata": {},
   "outputs": [
    {
     "name": "stdout",
     "output_type": "stream",
     "text": [
      "[1]\n",
      "[1, 2]\n",
      "[1, 2, 3]\n"
     ]
    }
   ],
   "source": [
    "seat.initialize(3)"
   ]
  },
  {
   "cell_type": "code",
   "execution_count": 4,
   "metadata": {},
   "outputs": [
    {
     "data": {
      "text/plain": [
       "'Total Seats Available : 3, Waitlist : 0'"
      ]
     },
     "execution_count": 4,
     "metadata": {},
     "output_type": "execute_result"
    }
   ],
   "source": [
    "# Think on how to build waitlist\n",
    "seat.available()"
   ]
  },
  {
   "cell_type": "markdown",
   "metadata": {},
   "source": [
    "- [ ] `user_priority` isn't functional yet"
   ]
  },
  {
   "cell_type": "code",
   "execution_count": 5,
   "metadata": {},
   "outputs": [
    {
     "name": "stdout",
     "output_type": "stream",
     "text": [
      "User 1 reserved seat 1, thus updating Red-Black Tree with User 1 and Seat 1\n",
      "    with root node color of black\n",
      "User 2 reserved seat 2, thus updating Red-Black Tree with User 2 and Seat 2\n",
      "    with root node color of black\n",
      "User 3 reserved seat 3, thus updating Red-Black Tree with User 3 and Seat 3\n",
      "    with root node color of black\n",
      "User 4 is added to the waiting list\n",
      "Total Seats Available : 0, Waitlist : 1\n",
      "User 5 is added to the waiting list\n"
     ]
    },
    {
     "data": {
      "text/plain": [
       "'Total Seats Available : 0, Waitlist : 2'"
      ]
     },
     "execution_count": 5,
     "metadata": {},
     "output_type": "execute_result"
    }
   ],
   "source": [
    "seat.reserve(1, 5)\n",
    "seat.reserve(2, 5)\n",
    "seat.reserve(3, 5)\n",
    "seat.reserve(4, 5)\n",
    "print(seat.available())\n",
    "seat.reserve(5, 2)\n",
    "seat.available()"
   ]
  },
  {
   "cell_type": "code",
   "execution_count": null,
   "metadata": {},
   "outputs": [],
   "source": []
  },
  {
   "cell_type": "code",
   "execution_count": null,
   "metadata": {},
   "outputs": [],
   "source": []
  }
 ],
 "metadata": {
  "kernelspec": {
   "display_name": "graphbreeds",
   "language": "python",
   "name": "python3"
  },
  "language_info": {
   "codemirror_mode": {
    "name": "ipython",
    "version": 3
   },
   "file_extension": ".py",
   "mimetype": "text/x-python",
   "name": "python",
   "nbconvert_exporter": "python",
   "pygments_lexer": "ipython3",
   "version": "3.12.3"
  }
 },
 "nbformat": 4,
 "nbformat_minor": 2
}
