{
 "cells": [
  {
   "cell_type": "markdown",
   "metadata": {},
   "source": [
    "# Seat booking app playground \n",
    "\n",
    "- Test classes and functions.\n",
    "- Can visualize heaps in code is uncommented in `seat_booking_script`"
   ]
  },
  {
   "cell_type": "markdown",
   "metadata": {},
   "source": [
    "## Test Case 1\n",
    "\n",
    "<!-- ![testcase](testCase1_input.png)\n",
    "![testcase](testCase1_output-v1.png)\n",
    "![testcase](testCase1_output-v2.png) -->"
   ]
  },
  {
   "cell_type": "code",
   "execution_count": 1,
   "metadata": {},
   "outputs": [],
   "source": [
    "import seat_booking_script as sb\n",
    "import heap_operations"
   ]
  },
  {
   "cell_type": "code",
   "execution_count": 2,
   "metadata": {},
   "outputs": [],
   "source": [
    "seat = sb.SeatBooking()\n",
    "seat_heap = heap_operations.SeatHeap()"
   ]
  },
  {
   "cell_type": "code",
   "execution_count": 3,
   "metadata": {},
   "outputs": [
    {
     "name": "stdout",
     "output_type": "stream",
     "text": [
      "5 seats are made available for reservation\n",
      "Total Seats Available : 5, Waitlist : 0\n",
      "User 1 reserved seat 1\n",
      "User 2 reserved seat 2\n",
      "User 1 canceled their reservation\n",
      "User 3 reserved seat 1\n",
      "Seat 1, User 3\n",
      "Seat 2, User 2\n",
      "Program Terminated!!\n"
     ]
    },
    {
     "ename": "SystemExit",
     "evalue": "0",
     "output_type": "error",
     "traceback": [
      "An exception has occurred, use %tb to see the full traceback.\n",
      "\u001b[0;31mSystemExit\u001b[0m\u001b[0;31m:\u001b[0m 0\n"
     ]
    },
    {
     "name": "stderr",
     "output_type": "stream",
     "text": [
      "/Users/brinkley97/opt/anaconda3/envs/graphbreeds/lib/python3.12/site-packages/IPython/core/interactiveshell.py:3585: UserWarning: To exit: use 'exit', 'quit', or Ctrl-D.\n",
      "  warn(\"To exit: use 'exit', 'quit', or Ctrl-D.\", stacklevel=1)\n"
     ]
    }
   ],
   "source": [
    "seat.initialize(5)\n",
    "seat.available()\n",
    "seat.reserve(1, 1)\n",
    "seat.reserve(2, 1)\n",
    "seat.cancel(1, 1)\n",
    "seat.reserve(3, 1)\n",
    "seat.print_reservations()\n",
    "seat.quit()"
   ]
  },
  {
   "cell_type": "markdown",
   "metadata": {},
   "source": [
    "<!-- ![testcase](testCase1_output-v1.png)\n",
    "![testcase](testCase1_output-v2.png) -->\n",
    "\n",
    "---"
   ]
  },
  {
   "cell_type": "markdown",
   "metadata": {},
   "source": [
    "## Test Case 2\n",
    "\n",
    "<!-- ![testcase](testCase2_input.png)\n",
    "![testcase](testCase2_output-v2.png)\n",
    "![testcase](testCase2_output-v1.png) -->"
   ]
  },
  {
   "cell_type": "code",
   "execution_count": 4,
   "metadata": {},
   "outputs": [],
   "source": [
    "import seat_booking_script as sb\n",
    "import heap_operations, tree_operations, visualizations\n",
    "\n",
    "seat = sb.SeatBooking()\n",
    "seat_heap = heap_operations.SeatHeap()"
   ]
  },
  {
   "cell_type": "code",
   "execution_count": 5,
   "metadata": {},
   "outputs": [
    {
     "name": "stdout",
     "output_type": "stream",
     "text": [
      "3 seats are made available for reservation\n",
      "Total Seats Available : 3, Waitlist : 0\n",
      "User 1 reserved seat 1\n",
      "User 2 reserved seat 2\n",
      "User 3 reserved seat 3\n",
      "User 4 is added to the waiting list\n",
      "Total Seats Available : 0, Waitlist : 1\n",
      "User 5 is added to the waiting list\n",
      "Seat 1, User 1\n",
      "Seat 2, User 2\n",
      "Seat 3, User 3\n",
      "Total Seats Available : 0, Waitlist : 2\n",
      "User 3 canceled their reservation\n",
      "User 5 reserved seat 3\n",
      "Total Seats Available : 0, Waitlist : 1\n",
      "Seat 1, User 1\n",
      "Seat 2, User 2\n",
      "Seat 3, User 5\n",
      "Additional 2 seats are made available for reservation\n",
      "User 4 reserved seat 4\n",
      "User 6 reserved seat 5\n",
      "User 7 is added to the waiting list\n",
      "User 8 is added to the waiting list\n",
      "User 9 is added to the waiting list\n",
      "User 7 priority has been updated to 2\n",
      "Additional 2 seats are made available for reservation\n",
      "User 8 reserved seat 6\n",
      "User 7 reserved seat 7\n",
      "User 6 is not in waitlist\n",
      "Total Seats Available : 0, Waitlist : 1\n",
      "User 10 is added to the waiting list\n",
      "User 11 is added to the waiting list\n",
      "Reservations of the Users in range [1, 4] are released\n",
      "User 9 reserved seat 1\n",
      "User 10 reserved seat 2\n",
      "User 11 reserved seat 4\n",
      "Program Terminated!!\n"
     ]
    },
    {
     "ename": "SystemExit",
     "evalue": "0",
     "output_type": "error",
     "traceback": [
      "An exception has occurred, use %tb to see the full traceback.\n",
      "\u001b[0;31mSystemExit\u001b[0m\u001b[0;31m:\u001b[0m 0\n"
     ]
    }
   ],
   "source": [
    "seat.initialize(3)\n",
    "# Think on how to build waitlist\n",
    "seat.available()\n",
    "seat.reserve(1, 1)\n",
    "seat.reserve(2, 1)\n",
    "seat.reserve(3, 1)\n",
    "seat.reserve(4, 1)\n",
    "seat.available()\n",
    "seat.reserve(5, 2)\n",
    "seat.print_reservations()\n",
    "seat.available()\n",
    "seat.cancel(3, 3)\n",
    "seat.available()\n",
    "seat.print_reservations()\n",
    "seat.add_seats(2)\n",
    "# seat.available()\n",
    "seat.reserve(6, 1)\n",
    "seat.reserve(7, 1)\n",
    "seat.reserve(8, 3)\n",
    "seat.reserve(9, 1)\n",
    "# seat.available()\n",
    "seat.update_priority(7, 2)\n",
    "seat.add_seats(2)\n",
    "seat.exit_waitlist(6)\n",
    "seat.available()\n",
    "seat.reserve(10, 1)\n",
    "seat.reserve(11, 1)\n",
    "seat.release_seats(1, 4)\n",
    "seat.quit()\n",
    "seat.add_seats(111)"
   ]
  },
  {
   "cell_type": "markdown",
   "metadata": {},
   "source": [
    "\n",
    "<!-- ![testcase](testCase2_output-v2.png) -->\n",
    "<!-- ![testcase](testCase2_output-v1.png) -->\n",
    "---"
   ]
  },
  {
   "cell_type": "markdown",
   "metadata": {},
   "source": [
    "## Test Case 3"
   ]
  },
  {
   "cell_type": "code",
   "execution_count": 6,
   "metadata": {},
   "outputs": [],
   "source": [
    "import seat_booking_script as sb\n",
    "import heap_operations\n",
    "\n",
    "seat = sb.SeatBooking()\n",
    "seat_heap = heap_operations.SeatHeap()"
   ]
  },
  {
   "cell_type": "code",
   "execution_count": 7,
   "metadata": {},
   "outputs": [
    {
     "name": "stdout",
     "output_type": "stream",
     "text": [
      "4 seats are made available for reservation\n",
      "Total Seats Available : 4, Waitlist : 0\n",
      "User 8 reserved seat 1\n",
      "User 4 reserved seat 2\n",
      "User 5 reserved seat 3\n",
      "User 4 canceled their reservation\n",
      "User 1 reserved seat 2\n",
      "Total Seats Available : 1, Waitlist : 0\n",
      "Seat 1, User 8\n",
      "Seat 2, User 1\n",
      "Seat 3, User 5\n",
      "User 3 reserved seat 4\n",
      "User 2 is added to the waiting list\n",
      "User 6 is added to the waiting list\n",
      "Total Seats Available : 0, Waitlist : 2\n",
      "User 1 has no reservation for seat 1 to cancel\n",
      "User 5 canceled their reservation\n",
      "User 6 reserved seat 3\n",
      "Total Seats Available : 0, Waitlist : 1\n",
      "User 11 is added to the waiting list\n",
      "User 9 is added to the waiting list\n",
      "Additional 2 seats are made available for reservation\n",
      "User 2 reserved seat 5\n",
      "User 9 reserved seat 6\n",
      "User 7 is added to the waiting list\n",
      "User 8 canceled their reservation\n",
      "User 7 reserved seat 1\n",
      "Total Seats Available : 0, Waitlist : 1\n",
      "Reservations of the Users in range [8, 10] are released\n",
      "User 11 reserved seat 6\n",
      "Seat 1, User 7\n",
      "Seat 2, User 1\n",
      "Seat 3, User 6\n",
      "Seat 4, User 3\n",
      "Seat 5, User 2\n",
      "Seat 6, User 11\n",
      "Program Terminated!!\n"
     ]
    },
    {
     "ename": "SystemExit",
     "evalue": "0",
     "output_type": "error",
     "traceback": [
      "An exception has occurred, use %tb to see the full traceback.\n",
      "\u001b[0;31mSystemExit\u001b[0m\u001b[0;31m:\u001b[0m 0\n"
     ]
    }
   ],
   "source": [
    "seat.initialize(4)\n",
    "seat.available()\n",
    "seat.reserve(8, 1)\n",
    "seat.reserve(4, 3)\n",
    "seat.reserve(5, 2)\n",
    "seat.cancel(2, 4)\n",
    "seat.reserve(1, 1)\n",
    "seat.available()\n",
    "seat.print_reservations()\n",
    "seat.reserve(3, 1)\n",
    "seat.reserve(2, 2)\n",
    "seat.reserve(6, 3)\n",
    "seat.available()\n",
    "seat.cancel(1, 1)\n",
    "seat.cancel(3, 5)\n",
    "seat.available()\n",
    "seat.reserve(11, 1)\n",
    "seat.reserve(9, 2)\n",
    "seat.add_seats(2)\n",
    "seat.reserve(7, 2)\n",
    "seat.cancel(1, 8)\n",
    "seat.available()\n",
    "seat.release_seats(8, 10)\n",
    "seat.print_reservations()\n",
    "seat.quit()"
   ]
  },
  {
   "cell_type": "markdown",
   "metadata": {},
   "source": [
    "---"
   ]
  },
  {
   "cell_type": "markdown",
   "metadata": {},
   "source": [
    "## Test Case 4"
   ]
  },
  {
   "cell_type": "code",
   "execution_count": 8,
   "metadata": {},
   "outputs": [],
   "source": [
    "import seat_booking_script as sb\n",
    "import heap_operations\n",
    "\n",
    "seat = sb.SeatBooking()\n",
    "seat_heap = heap_operations.SeatHeap()"
   ]
  },
  {
   "cell_type": "code",
   "execution_count": 9,
   "metadata": {},
   "outputs": [
    {
     "name": "stdout",
     "output_type": "stream",
     "text": [
      "10 seats are made available for reservation\n",
      "User 2 reserved seat 1\n",
      "User 6 reserved seat 2\n",
      "User 13 reserved seat 3\n",
      "User 15 reserved seat 4\n",
      "User 9 reserved seat 5\n",
      "User 13 canceled their reservation\n",
      "User 4 reserved seat 3\n",
      "User 7 reserved seat 6\n",
      "User 8 reserved seat 7\n",
      "User 66 reserved seat 8\n",
      "Reservations of the Users in range [10, 100] are released\n",
      "User 52 reserved seat 4\n",
      "User 41 reserved seat 8\n",
      "User 13 reserved seat 9\n",
      "User 1 reserved seat 10\n",
      "User 14 is added to the waiting list\n",
      "User 15 is added to the waiting list\n",
      "User 121 is added to the waiting list\n",
      "User 161 is added to the waiting list\n",
      "User 180 is added to the waiting list\n",
      "User 15 priority has been updated to 2\n",
      "User 72 is added to the waiting list\n",
      "User 81 is added to the waiting list\n",
      "User 66 is added to the waiting list\n",
      "User 91 is added to the waiting list\n",
      "User 99 is added to the waiting list\n",
      "User 86 is added to the waiting list\n",
      "Additional 10 seats are made available for reservation\n",
      "User 180 reserved seat 11\n",
      "User 121 reserved seat 12\n",
      "User 81 reserved seat 13\n",
      "User 15 reserved seat 14\n",
      "User 161 reserved seat 15\n",
      "User 72 reserved seat 16\n",
      "User 66 reserved seat 17\n",
      "User 86 reserved seat 18\n",
      "User 14 reserved seat 19\n",
      "User 91 reserved seat 20\n",
      "Total Seats Available : 0, Waitlist : 1\n",
      "Seat 1, User 2\n",
      "Seat 2, User 6\n",
      "Seat 3, User 4\n",
      "Seat 4, User 52\n",
      "Seat 5, User 9\n",
      "Seat 6, User 7\n",
      "Seat 7, User 8\n",
      "Seat 8, User 41\n",
      "Seat 9, User 13\n",
      "Seat 10, User 1\n",
      "Seat 11, User 180\n",
      "Seat 12, User 121\n",
      "Seat 13, User 81\n",
      "Seat 14, User 15\n",
      "Seat 15, User 161\n",
      "Seat 16, User 72\n",
      "Seat 17, User 66\n",
      "Seat 18, User 86\n",
      "Seat 19, User 14\n",
      "Seat 20, User 91\n",
      "Program Terminated!!\n"
     ]
    },
    {
     "ename": "SystemExit",
     "evalue": "0",
     "output_type": "error",
     "traceback": [
      "An exception has occurred, use %tb to see the full traceback.\n",
      "\u001b[0;31mSystemExit\u001b[0m\u001b[0;31m:\u001b[0m 0\n"
     ]
    },
    {
     "name": "stderr",
     "output_type": "stream",
     "text": [
      "/Users/brinkley97/opt/anaconda3/envs/graphbreeds/lib/python3.12/site-packages/IPython/core/interactiveshell.py:3585: UserWarning: To exit: use 'exit', 'quit', or Ctrl-D.\n",
      "  warn(\"To exit: use 'exit', 'quit', or Ctrl-D.\", stacklevel=1)\n"
     ]
    }
   ],
   "source": [
    "seat.initialize(10)\n",
    "seat.reserve(2, 1)\n",
    "seat.reserve(6, 2)\n",
    "seat.reserve(13, 1)\n",
    "seat.reserve(15, 3)\n",
    "seat.reserve(9, 4)\n",
    "seat.cancel(3, 13)\n",
    "seat.reserve(4, 2)\n",
    "seat.reserve(7, 1)\n",
    "seat.reserve(8, 2)\n",
    "seat.reserve(66, 1)\n",
    "seat.release_seats(10, 100)\n",
    "seat.reserve(52, 1)\n",
    "seat.reserve(41, 2)\n",
    "seat.reserve(13, 1)\n",
    "seat.reserve(1, 3)\n",
    "seat.reserve(14, 1)\n",
    "seat.reserve(15, 1)\n",
    "seat.reserve(121, 3)\n",
    "seat.reserve(161, 2)\n",
    "seat.reserve(180, 4)\n",
    "seat.update_priority(15, 2)\n",
    "seat.reserve(72, 2)\n",
    "seat.reserve(81, 3)\n",
    "seat.reserve(66, 2)\n",
    "seat.reserve(91, 1)\n",
    "seat.reserve(99, 1)\n",
    "seat.reserve(86, 2)\n",
    "seat.add_seats(10)\n",
    "seat.available()\n",
    "seat.print_reservations()\n",
    "seat.quit()"
   ]
  },
  {
   "cell_type": "markdown",
   "metadata": {},
   "source": [
    "---"
   ]
  },
  {
   "cell_type": "markdown",
   "metadata": {},
   "source": [
    "## Test Case 5"
   ]
  },
  {
   "cell_type": "code",
   "execution_count": 10,
   "metadata": {},
   "outputs": [],
   "source": [
    "import seat_booking_script as sb\n",
    "import heap_operations\n",
    "\n",
    "seat = sb.SeatBooking()\n",
    "seat_heap = heap_operations.SeatHeap()"
   ]
  },
  {
   "cell_type": "code",
   "execution_count": 11,
   "metadata": {},
   "outputs": [
    {
     "name": "stdout",
     "output_type": "stream",
     "text": [
      "3 seats are made available for reservation\n",
      "User 6 reserved seat 1\n",
      "User 1 reserved seat 2\n",
      "User 9 reserved seat 3\n",
      "User 2 is added to the waiting list\n",
      "User 5 is added to the waiting list\n",
      "User 4 is added to the waiting list\n",
      "User 3 is added to the waiting list\n",
      "Total Seats Available : 0, Waitlist : 4\n",
      "User 9 is not in waitlist\n",
      "User 6 priority is not updated\n",
      "User 3 priority has been updated to 3\n",
      "Additional 3 seats are made available for reservation\n",
      "User 4 reserved seat 4\n",
      "User 3 reserved seat 5\n",
      "User 2 reserved seat 6\n",
      "Total Seats Available : 0, Waitlist : 1\n",
      "User 9 canceled their reservation\n",
      "User 5 reserved seat 3\n",
      "User 9 is added to the waiting list\n",
      "User 12 is added to the waiting list\n",
      "User 18 is added to the waiting list\n",
      "User 17 is added to the waiting list\n",
      "Reservations of the Users in range [6, 11] are released\n",
      "User 9 reserved seat 1\n",
      "User 17 reserved seat 1\n",
      "User 18 priority has been updated to 3\n",
      "Additional 2 seats are made available for reservation\n",
      "User 18 reserved seat 7\n",
      "User 12 reserved seat 8\n",
      "Seat 1, User 17\n",
      "Seat 2, User 1\n",
      "Seat 3, User 5\n",
      "Seat 4, User 4\n",
      "Seat 5, User 3\n",
      "Seat 6, User 2\n",
      "Seat 7, User 18\n",
      "Seat 8, User 12\n",
      "Program Terminated!!\n"
     ]
    },
    {
     "ename": "SystemExit",
     "evalue": "0",
     "output_type": "error",
     "traceback": [
      "An exception has occurred, use %tb to see the full traceback.\n",
      "\u001b[0;31mSystemExit\u001b[0m\u001b[0;31m:\u001b[0m 0\n"
     ]
    }
   ],
   "source": [
    "seat.initialize(3)\n",
    "seat.reserve(6, 2)\n",
    "seat.reserve(1, 1)\n",
    "seat.reserve(9, 3)\n",
    "seat.reserve(2, 2)\n",
    "seat.reserve(5, 1)\n",
    "seat.reserve(4, 3)\n",
    "seat.reserve(3, 2)\n",
    "seat.available()\n",
    "seat.exit_waitlist(9)\n",
    "seat.update_priority(6, 3)\n",
    "seat.update_priority(3, 3)\n",
    "seat.add_seats(3)\n",
    "seat.available()\n",
    "seat.cancel(3, 9)\n",
    "seat.reserve(9, 3)\n",
    "seat.reserve(12, 2)\n",
    "seat.reserve(18, 1)\n",
    "seat.reserve(17, 3)\n",
    "seat.release_seats(6, 11)\n",
    "seat.update_priority(18, 3)\n",
    "seat.add_seats(2)\n",
    "seat.print_reservations()\n",
    "seat.quit()"
   ]
  }
 ],
 "metadata": {
  "kernelspec": {
   "display_name": "graphbreeds",
   "language": "python",
   "name": "python3"
  },
  "language_info": {
   "codemirror_mode": {
    "name": "ipython",
    "version": 3
   },
   "file_extension": ".py",
   "mimetype": "text/x-python",
   "name": "python",
   "nbconvert_exporter": "python",
   "pygments_lexer": "ipython3",
   "version": "3.12.3"
  }
 },
 "nbformat": 4,
 "nbformat_minor": 2
}
