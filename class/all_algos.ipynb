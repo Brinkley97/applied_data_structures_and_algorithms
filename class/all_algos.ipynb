{
 "cells": [
  {
   "cell_type": "markdown",
   "metadata": {},
   "source": [
    "# All Algos\n",
    "1. Heap Sort\n",
    "2. Quick Sort\n",
    "3. Fibonacci Heap"
   ]
  },
  {
   "cell_type": "code",
   "execution_count": 1,
   "metadata": {},
   "outputs": [],
   "source": [
    "import matplotlib.pyplot as plt\n",
    "\n",
    "def plot_node(x, y, value, ax):\n",
    "    \"\"\"Plot a single node.\"\"\"\n",
    "    ax.text(x, y, str(value), ha='center', va='center', \n",
    "            bbox=dict(facecolor='skyblue', boxstyle='circle'))\n",
    "\n",
    "def plot_edge(x1, y1, x2, y2, ax):\n",
    "    \"\"\"Plot an edge between two nodes.\"\"\"\n",
    "    ax.plot([x1, x2], [y1, y2], 'k-')\n",
    "\n",
    "def visualize_binary_heap(arr):\n",
    "    n = len(arr)\n",
    "    fig, ax = plt.subplots()\n",
    "    ax.set_aspect('equal')\n",
    "\n",
    "    # Define coordinates for the nodes\n",
    "    coords = {}\n",
    "\n",
    "    # Level and x-offset configuration for neat positioning\n",
    "    levels = int(n.bit_length())  # Number of levels in the binary tree\n",
    "    x_offset = 2 ** (levels + 1)  # Horizontal distance between nodes\n",
    "    \n",
    "    # Recursively place the nodes\n",
    "    def place_node(i, x, y, dx):\n",
    "        if i < n:\n",
    "            # Plot current node\n",
    "            plot_node(x, y, arr[i], ax)\n",
    "            coords[i] = (x, y)\n",
    "            \n",
    "            # Place left child\n",
    "            if 2 * i + 1 < n:\n",
    "                plot_edge(x, y, x - dx, y - 3, ax)  # Adjusted vertical distance\n",
    "                place_node(2 * i + 1, x - dx, y - 3, dx / 2)  # Adjusted vertical distance\n",
    "            \n",
    "            # Place right child\n",
    "            if 2 * i + 2 < n:\n",
    "                plot_edge(x, y, x + dx, y - 3, ax)  # Adjusted vertical distance\n",
    "                place_node(2 * i + 2, x + dx, y - 3, dx / 2)  # Adjusted vertical distance\n",
    "    \n",
    "    # Initial call to place the root\n",
    "    place_node(0, 0, 0, x_offset / 2)\n",
    "\n",
    "    # Clean up plot\n",
    "    ax.set_axis_off()\n",
    "    ax.set_xlim(-x_offset, x_offset)\n",
    "    ax.set_ylim(-levels * 3 - 1, 1)  # Adjusted ylim for more vertical space\n",
    "    plt.show()"
   ]
  },
  {
   "cell_type": "markdown",
   "metadata": {},
   "source": [
    "## Heap Sort\n",
    "\n",
    "- Run time is $O(log_2(n))$  because node `i` may need to traverse the entire height of the heap."
   ]
  },
  {
   "cell_type": "code",
   "execution_count": 2,
   "metadata": {},
   "outputs": [],
   "source": [
    "# def get_root_node(i):\n",
    "#     return \n",
    "def get_left_node(i):\n",
    "    return 2 * i\n",
    "\n",
    "def get_right_node(i):\n",
    "    return 2 * i + 1"
   ]
  },
  {
   "cell_type": "code",
   "execution_count": 3,
   "metadata": {},
   "outputs": [],
   "source": [
    "def max_heapify(network: list, i: int):\n",
    "    \"\"\"To maintain the max-heap property of the parent node being greater than the child node. If the parent node is smaller than either of its children, the function \"sinks\" the parent down the tree, swapping it with the largest child, until the heap property is restored.\n",
    "    \n",
    "    \"\"\"\n",
    "    \n",
    "    l = get_left_node(i)\n",
    "    r = get_right_node(i)\n",
    "\n",
    "    if l < len(network) and network[l] > network[i]:\n",
    "        largest = l\n",
    "    else:\n",
    "        largest = i\n",
    "    if r < len(network) and network[r] > network[i]:\n",
    "        largest = r\n",
    "        \n",
    "    if largest != i:\n",
    "        # Swap elements\n",
    "        network[i], network[largest] = network[largest], network[i]\n",
    "        \n",
    "        # Recursively heapify the affected sub-tree\n",
    "        max_heapify(network, largest)\n"
   ]
  },
  {
   "cell_type": "code",
   "execution_count": 4,
   "metadata": {},
   "outputs": [
    {
     "name": "stdout",
     "output_type": "stream",
     "text": [
      "Before max_heapify\n"
     ]
    },
    {
     "data": {
      "image/png": "[encoded data removed]",
      "text/plain": [
       "<Figure size 640x480 with 1 Axes>"
      ]
     },
     "metadata": {},
     "output_type": "display_data"
    },
    {
     "name": "stdout",
     "output_type": "stream",
     "text": [
      "After max_heapify\n"
     ]
    },
    {
     "data": {
      "image/png": "[encoded data removed]",
      "text/plain": [
       "<Figure size 640x480 with 1 Axes>"
      ]
     },
     "metadata": {},
     "output_type": "display_data"
    }
   ],
   "source": [
    "max_heapify_list = [16, 4, 10, 14, 7, 9, 3, 2, 8, 1]\n",
    "index_to_heapify = 1\n",
    "\n",
    "\n",
    "print(f\"Before max_heapify\")\n",
    "visualize_binary_heap(max_heapify_list)\n",
    "\n",
    "max_heapify(max_heapify_list, index_to_heapify)\n",
    "\n",
    "print(f\"After max_heapify\")\n",
    "visualize_binary_heap(max_heapify_list)"
   ]
  },
  {
   "cell_type": "markdown",
   "metadata": {},
   "source": [
    "## Quick Sort"
   ]
  },
  {
   "cell_type": "code",
   "execution_count": null,
   "metadata": {},
   "outputs": [],
   "source": [
    "# def quick_sort(int: list, low_index: int, high_index: int):\n",
    "#     \"\"\"\n",
    "    \n",
    "#     \"\"\"\n",
    "#     int pivot = \n",
    "\n"
   ]
  },
  {
   "cell_type": "markdown",
   "metadata": {},
   "source": [
    "## Fibonacci heap"
   ]
  },
  {
   "cell_type": "code",
   "execution_count": 4,
   "metadata": {},
   "outputs": [],
   "source": [
    "class Node:\n",
    "    def __init__(self, key):\n",
    "        self.key = key\n",
    "        self.degree = 0\n",
    "        self.parent = None\n",
    "        self.child = None\n",
    "        self.mark = False\n",
    "        self.next = self\n",
    "        self.prev = self\n",
    "\n",
    "class FibonacciHeap:\n",
    "    def __init__(self):\n",
    "        self.min = None\n",
    "        self.count = 0\n",
    "\n",
    "    def insert(self, key):\n",
    "        node = Node(key)\n",
    "        if self.min is None:\n",
    "            self.min = node\n",
    "        else:\n",
    "            self._add_to_root_list(node)\n",
    "            if key < self.min.key:\n",
    "                self.min = node\n",
    "        self.count += 1\n",
    "\n",
    "    def _add_to_root_list(self, node):\n",
    "        node.next = self.min\n",
    "        node.prev = self.min.prev\n",
    "        self.min.prev.next = node\n",
    "        self.min.prev = node\n",
    "\n",
    "    def display(self):\n",
    "        if self.min is None:\n",
    "            print(\"Heap is empty\")\n",
    "            return\n",
    "        print(\"Root nodes in the heap:\")\n",
    "        current = self.min\n",
    "        while True:\n",
    "            print(current.key, end=\" \")\n",
    "            current = current.next\n",
    "            if current == self.min:\n",
    "                break\n",
    "        print()\n",
    "\n"
   ]
  },
  {
   "cell_type": "code",
   "execution_count": null,
   "metadata": {},
   "outputs": [],
   "source": []
  },
  {
   "cell_type": "code",
   "execution_count": 5,
   "metadata": {},
   "outputs": [],
   "source": []
  },
  {
   "cell_type": "code",
   "execution_count": 22,
   "metadata": {},
   "outputs": [],
   "source": []
  },
  {
   "cell_type": "code",
   "execution_count": null,
   "metadata": {},
   "outputs": [],
   "source": []
  },
  {
   "cell_type": "code",
   "execution_count": null,
   "metadata": {},
   "outputs": [],
   "source": [
    "def heapsort(input, count):\n",
    "    heapify(a,count) \n",
    "    end = count - 1 \n",
    "    while end == 0 do \n",
    "    swap(a[end],a[0]) \n",
    "    end<-end-1 \n",
    "    restore(a, 0, end)\n",
    "\n",
    "def heapify(a, count):\n",
    "    start = parent(count - 1) \n",
    "    while start >= 0 do:\n",
    "        restore(a, start, count - 1)\n",
    "        start = start - 1"
   ]
  }
 ],
 "metadata": {
  "kernelspec": {
   "display_name": "graphbreeds",
   "language": "python",
   "name": "python3"
  },
  "language_info": {
   "codemirror_mode": {
    "name": "ipython",
    "version": 3
   },
   "file_extension": ".py",
   "mimetype": "text/x-python",
   "name": "python",
   "nbconvert_exporter": "python",
   "pygments_lexer": "ipython3",
   "version": "3.12.3"
  }
 },
 "nbformat": 4,
 "nbformat_minor": 2
}
