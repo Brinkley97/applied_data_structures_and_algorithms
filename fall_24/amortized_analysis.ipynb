{
 "cells": [
  {
   "cell_type": "markdown",
   "metadata": {},
   "source": [
    "# Amortized Analysis"
   ]
  },
  {
   "cell_type": "code",
   "execution_count": 1,
   "metadata": {},
   "outputs": [],
   "source": [
    "def accounting_method(item_cost, cart_cost, num_items, credit_per_item):\n",
    "    \"\"\"\n",
    "    Calculate the amortized cost per item using the accounting method.\n",
    "\n",
    "    Args:\n",
    "        item_cost (float): The cost of buying a single item.\n",
    "        cart_cost (float): The fixed cost for using the shopping cart.\n",
    "        num_items (int): The total number of items bought.\n",
    "        credit_per_item (float): The credit assigned to each item to cover its cost and contribute towards the cart cost.\n",
    "\n",
    "    Returns:\n",
    "        float: The amortized cost per item.\n",
    "        float: The total credits accumulated.\n",
    "        float: The total actual cost including item cost and cart cost.\n",
    "\n",
    "    Example:\n",
    "        >>> accounting_method(item_cost=1.0, cart_cost=10.0, num_items=20, credit_per_item=1.5)\n",
    "        (1.5, 30.0, 30.0)\n",
    "\n",
    "    Notes:\n",
    "        The amortized cost per item is calculated based on the assigned credit.\n",
    "        Total credits should match the total actual cost to ensure proper accounting.\n",
    "    \"\"\"\n",
    "    # Calculate total credits accumulated\n",
    "    total_credits = credit_per_item * num_items\n",
    "    \n",
    "    # Calculate total actual cost\n",
    "    total_actual_cost = (item_cost * num_items) + cart_cost\n",
    "    \n",
    "    # Amortized cost per item\n",
    "    amortized_cost_per_item = total_actual_cost / num_items\n",
    "    \n",
    "    return amortized_cost_per_item, total_credits, total_actual_cost\n"
   ]
  },
  {
   "cell_type": "code",
   "execution_count": 2,
   "metadata": {},
   "outputs": [
    {
     "name": "stdout",
     "output_type": "stream",
     "text": [
      "Amortized Cost per Item: $1.50\n",
      "Total Credits Accumulated: $30.00\n",
      "Total Actual Cost: $30.00\n"
     ]
    }
   ],
   "source": [
    "# Example usage\n",
    "amortized_cost, total_credits, total_cost = accounting_method(item_cost=1.0, cart_cost=10.0, num_items=20, credit_per_item=1.5)\n",
    "print(f\"Amortized Cost per Item: ${amortized_cost:.2f}\")\n",
    "print(f\"Total Credits Accumulated: ${total_credits:.2f}\")\n",
    "print(f\"Total Actual Cost: ${total_cost:.2f}\")"
   ]
  },
  {
   "cell_type": "code",
   "execution_count": null,
   "metadata": {},
   "outputs": [],
   "source": []
  }
 ],
 "metadata": {
  "kernelspec": {
   "display_name": "graphbreeds",
   "language": "python",
   "name": "python3"
  },
  "language_info": {
   "codemirror_mode": {
    "name": "ipython",
    "version": 3
   },
   "file_extension": ".py",
   "mimetype": "text/x-python",
   "name": "python",
   "nbconvert_exporter": "python",
   "pygments_lexer": "ipython3",
   "version": "3.12.3"
  }
 },
 "nbformat": 4,
 "nbformat_minor": 2
}
