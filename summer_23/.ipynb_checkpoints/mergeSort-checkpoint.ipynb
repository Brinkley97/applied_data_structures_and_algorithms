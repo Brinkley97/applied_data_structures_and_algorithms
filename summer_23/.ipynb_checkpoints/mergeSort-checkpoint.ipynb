{
 "cells": [
  {
   "cell_type": "markdown",
   "id": "b3a2ae27",
   "metadata": {},
   "source": [
    "# Merge Sort"
   ]
  },
  {
   "cell_type": "code",
   "execution_count": 2,
   "id": "3178db22",
   "metadata": {},
   "outputs": [],
   "source": [
    "import numpy as np"
   ]
  },
  {
   "cell_type": "code",
   "execution_count": 161,
   "id": "911c6717",
   "metadata": {},
   "outputs": [],
   "source": [
    "def MERGE(A, p, q, r):\n",
    "    \n",
    "    n1 = q - p + 1\n",
    "    n2 = r - q\n",
    "    \n",
    "    L = []\n",
    "    R = []\n",
    "    \n",
    "    for i in range(0, n1):\n",
    "        L.insert(i, A[p + i - 1])\n",
    "    \n",
    "    for j in range(0, n2):\n",
    "        R.insert(j, A[q + j])\n",
    "        \n",
    "    L.insert(n1 + 1, np.inf)\n",
    "    print(\"L\", L)\n",
    "    R.insert(n2 + 1, np.inf)\n",
    "    print(\"R\", R)\n",
    "    \n",
    "#     L = SORT(L)\n",
    "#     R = SORT(R)\n",
    " \n",
    "    i = 0\n",
    "    j = 0\n",
    "    \n",
    "    print(\"p\", p)\n",
    "    print(\"r\", r)\n",
    "    print()\n",
    "    \n",
    "    for k in range(p-1, r):\n",
    "\n",
    "        print(\"k=\", k)\n",
    "        print(\"L[i]\", \"R[j]\", L[i], R[j])\n",
    "        if L[i] <= R[j]:\n",
    "            A[k] = L[i]\n",
    "            print(\"A[k]\", A[k])\n",
    "            print()\n",
    "            i = i + 1\n",
    "        \n",
    "        else: \n",
    "            A[k] = R[j]\n",
    "            print(\"A[k]\", A[k])\n",
    "            print()\n",
    "            j = j + 1\n",
    "    return A"
   ]
  },
  {
   "cell_type": "code",
   "execution_count": 162,
   "id": "1ff53bad",
   "metadata": {},
   "outputs": [
    {
     "name": "stdout",
     "output_type": "stream",
     "text": [
      "L [2, 4, 5, 7, inf]\n",
      "R [1, 2, 3, 6, inf]\n",
      "p 1\n",
      "r 8\n",
      "\n",
      "k= 0\n",
      "L[i] R[j] 2 1\n",
      "A[k] 1\n",
      "\n",
      "k= 1\n",
      "L[i] R[j] 2 2\n",
      "A[k] 2\n",
      "\n",
      "k= 2\n",
      "L[i] R[j] 4 2\n",
      "A[k] 2\n",
      "\n",
      "k= 3\n",
      "L[i] R[j] 4 3\n",
      "A[k] 3\n",
      "\n",
      "k= 4\n",
      "L[i] R[j] 4 6\n",
      "A[k] 4\n",
      "\n",
      "k= 5\n",
      "L[i] R[j] 5 6\n",
      "A[k] 5\n",
      "\n",
      "k= 6\n",
      "L[i] R[j] 7 6\n",
      "A[k] 6\n",
      "\n",
      "k= 7\n",
      "L[i] R[j] 7 inf\n",
      "A[k] 7\n",
      "\n"
     ]
    }
   ],
   "source": [
    "A = [2, 4, 5, 7, 1, 2, 3, 6]\n",
    "merged_lists = MERGE(A, 1, 4, 8)"
   ]
  },
  {
   "cell_type": "code",
   "execution_count": 160,
   "id": "5911fd2d",
   "metadata": {},
   "outputs": [
    {
     "data": {
      "text/plain": [
       "[1, 2, 2, 3, 4, 5, 6, 7]"
      ]
     },
     "execution_count": 160,
     "metadata": {},
     "output_type": "execute_result"
    }
   ],
   "source": [
    "merged_lists"
   ]
  },
  {
   "cell_type": "code",
   "execution_count": 164,
   "id": "073445c5",
   "metadata": {},
   "outputs": [],
   "source": [
    "def MERGESORT(A, p, q, r):\n",
    "    if q < r:\n",
    "        q = (p+r)/2\n",
    "        MERGESORT(A, p, q)\n",
    "        MERGESORT(A, q + 1, r)\n",
    "        MERGE(A, p, q, r)"
   ]
  },
  {
   "cell_type": "code",
   "execution_count": null,
   "id": "a3d6514e",
   "metadata": {},
   "outputs": [],
   "source": [
    "merged_lists = MERGESORT(A, 1, 4, 8)"
   ]
  }
 ],
 "metadata": {
  "kernelspec": {
   "display_name": "Python 3 (ipykernel)",
   "language": "python",
   "name": "python3"
  },
  "language_info": {
   "codemirror_mode": {
    "name": "ipython",
    "version": 3
   },
   "file_extension": ".py",
   "mimetype": "text/x-python",
   "name": "python",
   "nbconvert_exporter": "python",
   "pygments_lexer": "ipython3",
   "version": "3.9.13"
  }
 },
 "nbformat": 4,
 "nbformat_minor": 5
}
