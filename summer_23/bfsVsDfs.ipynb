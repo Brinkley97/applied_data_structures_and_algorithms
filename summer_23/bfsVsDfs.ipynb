{
 "cells": [
  {
   "cell_type": "markdown",
   "id": "de834f14-b57f-435e-8f48-7871ff38e128",
   "metadata": {},
   "source": [
    "# BFS vs DFS"
   ]
  },
  {
   "cell_type": "code",
   "execution_count": 2,
   "id": "014da9e8-99e3-4f8e-afb4-97713d2aeaa6",
   "metadata": {},
   "outputs": [],
   "source": [
    "from collections import defaultdict"
   ]
  },
  {
   "cell_type": "code",
   "execution_count": 49,
   "id": "497ea9c1-b35f-43cf-99cf-9fece9bc5755",
   "metadata": {},
   "outputs": [],
   "source": [
    "# This class represents a directed graph\n",
    "# using adjacency list representation\n",
    "class Graph:\n",
    " \n",
    "    # Constructor\n",
    "    def __init__(self):\n",
    " \n",
    "        # Default dictionary to store graph\n",
    "        self.graph = defaultdict(list)\n",
    "        print(self.graph)\n",
    "        # print(defaultdict(list))\n",
    "        # print(defaultdict)\n",
    " \n",
    "    # Function to add an edge to graph\n",
    "    def addEdge(self, u, v):\n",
    "        self.graph[u].append(v)\n",
    "        print(\"Add node\", u, \"with edge\", v)\n",
    "        print(\"Graph is: \", graph)\n",
    "        # print()\n",
    "        \n",
    "    # Function to print a BFS of graph\n",
    "    def BFS(self, s):\n",
    "\n",
    "        # Mark all the vertices as not visited\n",
    "        visited = [False] * (max(self.graph) + 1)\n",
    "        print(visited)\n",
    "\n",
    "        # Create a queue for BFS\n",
    "        queue = []\n",
    "\n",
    "        # Mark the source node as\n",
    "        # visited and enqueue it\n",
    "        queue.append(s)\n",
    "        # print(queue)\n",
    "        visited[s] = True\n",
    "        print(\"visited updates to \", visited, \"@ index\", s)\n",
    "\n",
    "        while queue:\n",
    "            print(\"\\nnodes in queue are\", queue)\n",
    "\n",
    "            # Dequeue a vertex from\n",
    "            # queue and print it\n",
    "            s = queue.pop(0)\n",
    "            print(\"Add node @ index\", s, \"to visited\", end=\" \")\n",
    "            print()\n",
    "\n",
    "            # Get all adjacent vertices of the\n",
    "            # dequeued vertex s. If a adjacent\n",
    "            # has not been visited, then mark it\n",
    "            # visited and enqueue it\n",
    "            print(\"visted nodes are\", visited)\n",
    "            for i in self.graph[s]:\n",
    "                if visited[i] == False:\n",
    "                    queue.append(i)\n",
    "                    visited[i] = True"
   ]
  },
  {
   "cell_type": "code",
   "execution_count": 50,
   "id": "87275c2a-e0a4-4bea-a9d2-c41b06d333ba",
   "metadata": {},
   "outputs": [
    {
     "name": "stdout",
     "output_type": "stream",
     "text": [
      "defaultdict(<class 'list'>, {})\n",
      "Add node 0 with edge 1\n",
      "Graph is:  defaultdict(<class 'list'>, {0: [1, 2], 1: [2], 2: [0, 3], 3: [3]})\n",
      "Add node 0 with edge 2\n",
      "Graph is:  defaultdict(<class 'list'>, {0: [1, 2], 1: [2], 2: [0, 3], 3: [3]})\n",
      "Add node 1 with edge 2\n",
      "Graph is:  defaultdict(<class 'list'>, {0: [1, 2], 1: [2], 2: [0, 3], 3: [3]})\n",
      "Add node 2 with edge 0\n",
      "Graph is:  defaultdict(<class 'list'>, {0: [1, 2], 1: [2], 2: [0, 3], 3: [3]})\n",
      "Add node 2 with edge 3\n",
      "Graph is:  defaultdict(<class 'list'>, {0: [1, 2], 1: [2], 2: [0, 3], 3: [3]})\n",
      "Add node 3 with edge 3\n",
      "Graph is:  defaultdict(<class 'list'>, {0: [1, 2], 1: [2], 2: [0, 3], 3: [3]})\n"
     ]
    }
   ],
   "source": [
    "g = Graph()\n",
    "g.addEdge(0, 1)\n",
    "g.addEdge(0, 2)\n",
    "g.addEdge(1, 2)\n",
    "g.addEdge(2, 0)\n",
    "g.addEdge(2, 3)\n",
    "g.addEdge(3, 3)"
   ]
  },
  {
   "cell_type": "code",
   "execution_count": 27,
   "id": "d1c6ab58-8d8e-4c7e-97de-2cfd26b86963",
   "metadata": {},
   "outputs": [
    {
     "name": "stdout",
     "output_type": "stream",
     "text": [
      "[False, False, False, False]\n",
      "visited updates to  [False, False, True, False] @ index 2\n",
      "\n",
      "nodes in queue are [2]\n",
      "Add node @ index 2 to visited \n",
      "visted nodes are [False, False, True, False]\n",
      "\n",
      "nodes in queue are [0, 3]\n",
      "Add node @ index 0 to visited \n",
      "visted nodes are [True, False, True, True]\n",
      "\n",
      "nodes in queue are [3, 1]\n",
      "Add node @ index 3 to visited \n",
      "visted nodes are [True, True, True, True]\n",
      "\n",
      "nodes in queue are [1]\n",
      "Add node @ index 1 to visited \n",
      "visted nodes are [True, True, True, True]\n"
     ]
    }
   ],
   "source": [
    "g.BFS(2)"
   ]
  },
  {
   "cell_type": "code",
   "execution_count": null,
   "id": "30334511-ff1e-4f49-8564-18d6bb88d410",
   "metadata": {},
   "outputs": [],
   "source": []
  },
  {
   "cell_type": "code",
   "execution_count": 46,
   "id": "9ea3f0d5-9e6b-4b9a-89df-8fcb7da6891c",
   "metadata": {},
   "outputs": [],
   "source": [
    "def addEdge(graph, u, v):\n",
    "    graph[u].append(v)\n",
    "    print(graph)"
   ]
  },
  {
   "cell_type": "code",
   "execution_count": 48,
   "id": "f8343a6a-348a-4268-b23c-b49beb804803",
   "metadata": {},
   "outputs": [
    {
     "name": "stdout",
     "output_type": "stream",
     "text": [
      "defaultdict(<class 'list'>, {0: [1]})\n",
      "defaultdict(<class 'list'>, {0: [1, 2]})\n",
      "defaultdict(<class 'list'>, {0: [1, 2], 1: [2]})\n",
      "defaultdict(<class 'list'>, {0: [1, 2], 1: [2], 2: [0]})\n",
      "defaultdict(<class 'list'>, {0: [1, 2], 1: [2], 2: [0, 3]})\n",
      "defaultdict(<class 'list'>, {0: [1, 2], 1: [2], 2: [0, 3], 3: [3]})\n"
     ]
    }
   ],
   "source": [
    "graph = defaultdict(list)\n",
    "\n",
    "addEdge(graph, 0, 1)\n",
    "addEdge(graph, 0, 2)\n",
    "addEdge(graph, 1, 2)\n",
    "addEdge(graph, 2, 0)\n",
    "addEdge(graph, 2, 3)\n",
    "addEdge(graph, 3, 3)"
   ]
  },
  {
   "cell_type": "code",
   "execution_count": null,
   "id": "14c7e51f-bb26-4c28-b8b0-2d8fd468a107",
   "metadata": {},
   "outputs": [],
   "source": []
  },
  {
   "cell_type": "code",
   "execution_count": null,
   "id": "3df5ca80-c10f-4543-8e56-62a489a8a8b0",
   "metadata": {},
   "outputs": [],
   "source": []
  }
 ],
 "metadata": {
  "kernelspec": {
   "display_name": "Python 3 (ipykernel)",
   "language": "python",
   "name": "python3"
  },
  "language_info": {
   "codemirror_mode": {
    "name": "ipython",
    "version": 3
   },
   "file_extension": ".py",
   "mimetype": "text/x-python",
   "name": "python",
   "nbconvert_exporter": "python",
   "pygments_lexer": "ipython3",
   "version": "3.9.7"
  }
 },
 "nbformat": 4,
 "nbformat_minor": 5
}
