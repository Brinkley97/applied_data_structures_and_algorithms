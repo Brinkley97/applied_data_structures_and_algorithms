{
 "cells": [
  {
   "cell_type": "code",
   "execution_count": null,
   "id": "2b7b24f3",
   "metadata": {},
   "outputs": [],
   "source": []
  },
  {
   "cell_type": "code",
   "execution_count": null,
   "id": "e7c79ed4",
   "metadata": {},
   "outputs": [],
   "source": [
    "ds = [1, 8, 4, 5]\n",
    "# 1 + 8 + 10 + 5?"
   ]
  },
  {
   "cell_type": "code",
   "execution_count": null,
   "id": "a61926a6",
   "metadata": {},
   "outputs": [],
   "source": [
    "def sum_list(ds):\n",
    "    \"\"\"\n",
    "    \"\"\"\n",
    "    d = 0\n",
    "    \n",
    "    '''\n",
    "    DJB\n",
    "    '''\n",
    "    \n",
    "#     for ds_idx in range(len(ds)):\n",
    "       \n",
    "#         d += ds[ds_idx]\n",
    "    \n",
    "    '''\n",
    "    EO\n",
    "    '''\n",
    "    for i in ds:\n",
    "        d += i\n",
    "    \n",
    "    return d"
   ]
  },
  {
   "cell_type": "code",
   "execution_count": null,
   "id": "3bf45fc2",
   "metadata": {},
   "outputs": [],
   "source": [
    "sum_list(ds)"
   ]
  },
  {
   "cell_type": "code",
   "execution_count": 16,
   "id": "c0014a51",
   "metadata": {},
   "outputs": [],
   "source": [
    "ds = [5, 2, 4, 6, 1, 3]\n",
    "# ds = [3, 7, 9, 4, 6, 2]"
   ]
  },
  {
   "cell_type": "code",
   "execution_count": 17,
   "id": "b5901c52",
   "metadata": {},
   "outputs": [],
   "source": [
    "def insertion_sort(A):\n",
    "    for j in range(1,len(A)):\n",
    "        key = A[j]\n",
    "        i = j-1\n",
    "        print(\"compare before while\", A[i], \"and\", key)\n",
    "        while i>=0:\n",
    "            if A[i]>key:\n",
    "                \n",
    "                print(\"while loop\", i>=0, \"and\", A[i] > key)\n",
    "                print(\"initial A\", A)\n",
    "                print(\"compare inside while\", A[i], \"and\", key)\n",
    "                A[i+1] = A[i]\n",
    "                i = i-1\n",
    "            else:\n",
    "                print()\n",
    "                print(\"compare inside while\", A[i], \"and\", key)\n",
    "                i = i-1\n",
    "                print(\"false\")\n",
    "        A[i+1] = key\n",
    "        print(\"next and final A\", A)\n",
    "    return A"
   ]
  },
  {
   "cell_type": "code",
   "execution_count": 18,
   "id": "edaa32d9",
   "metadata": {},
   "outputs": [
    {
     "name": "stdout",
     "output_type": "stream",
     "text": [
      "compare before while 5 and 2\n",
      "while loop True and True\n",
      "initial A [5, 2, 4, 6, 1, 3]\n",
      "compare inside while 5 and 2\n",
      "next and final A [2, 5, 4, 6, 1, 3]\n",
      "compare before while 5 and 4\n",
      "while loop True and True\n",
      "initial A [2, 5, 4, 6, 1, 3]\n",
      "compare inside while 5 and 4\n",
      "\n",
      "compare inside while 2 and 4\n",
      "false\n",
      "next and final A [4, 5, 5, 6, 1, 3]\n",
      "compare before while 5 and 6\n",
      "\n",
      "compare inside while 5 and 6\n",
      "false\n",
      "\n",
      "compare inside while 5 and 6\n",
      "false\n",
      "\n",
      "compare inside while 4 and 6\n",
      "false\n",
      "next and final A [6, 5, 5, 6, 1, 3]\n",
      "compare before while 6 and 1\n",
      "while loop True and True\n",
      "initial A [6, 5, 5, 6, 1, 3]\n",
      "compare inside while 6 and 1\n",
      "while loop True and True\n",
      "initial A [6, 5, 5, 6, 6, 3]\n",
      "compare inside while 5 and 1\n",
      "while loop True and True\n",
      "initial A [6, 5, 5, 5, 6, 3]\n",
      "compare inside while 5 and 1\n",
      "while loop True and True\n",
      "initial A [6, 5, 5, 5, 6, 3]\n",
      "compare inside while 6 and 1\n",
      "next and final A [1, 6, 5, 5, 6, 3]\n",
      "compare before while 6 and 3\n",
      "while loop True and True\n",
      "initial A [1, 6, 5, 5, 6, 3]\n",
      "compare inside while 6 and 3\n",
      "while loop True and True\n",
      "initial A [1, 6, 5, 5, 6, 6]\n",
      "compare inside while 5 and 3\n",
      "while loop True and True\n",
      "initial A [1, 6, 5, 5, 5, 6]\n",
      "compare inside while 5 and 3\n",
      "while loop True and True\n",
      "initial A [1, 6, 5, 5, 5, 6]\n",
      "compare inside while 6 and 3\n",
      "\n",
      "compare inside while 1 and 3\n",
      "false\n",
      "next and final A [3, 6, 6, 5, 5, 6]\n"
     ]
    },
    {
     "data": {
      "text/plain": [
       "[3, 6, 6, 5, 5, 6]"
      ]
     },
     "execution_count": 18,
     "metadata": {},
     "output_type": "execute_result"
    }
   ],
   "source": [
    "insertion_sort(ds)"
   ]
  },
  {
   "cell_type": "code",
   "execution_count": null,
   "id": "b2a3fa7f",
   "metadata": {},
   "outputs": [],
   "source": []
  }
 ],
 "metadata": {
  "kernelspec": {
   "display_name": "Python 3 (ipykernel)",
   "language": "python",
   "name": "python3"
  },
  "language_info": {
   "codemirror_mode": {
    "name": "ipython",
    "version": 3
   },
   "file_extension": ".py",
   "mimetype": "text/x-python",
   "name": "python",
   "nbconvert_exporter": "python",
   "pygments_lexer": "ipython3",
   "version": "3.9.13"
  }
 },
 "nbformat": 4,
 "nbformat_minor": 5
}
