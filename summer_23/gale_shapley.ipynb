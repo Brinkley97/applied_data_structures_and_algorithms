{
 "cells": [
  {
   "cell_type": "markdown",
   "id": "a9c09863-d073-407e-9907-53fe003d2911",
   "metadata": {},
   "source": [
    "# Gale-Shapley Stable Matching Algo"
   ]
  },
  {
   "cell_type": "code",
   "execution_count": null,
   "id": "eb44086f-c99c-4e2f-a10f-542077d64e05",
   "metadata": {},
   "outputs": [],
   "source": []
  },
  {
   "cell_type": "code",
   "execution_count": 18,
   "id": "bd0f7d04-8e23-41bc-8123-8060bd8b32eb",
   "metadata": {},
   "outputs": [],
   "source": [
    "free = True\n",
    "\n",
    "M_pref = {\n",
    "    'm1': ['w1', 'w2'], \n",
    "    'm2': ['w2', 'w1'], \n",
    "}\n",
    "\n",
    "M = {\n",
    "    'm1': {\n",
    "        'w1': free, \n",
    "        'w2': free, \n",
    "    }, \n",
    "    'm2': {\n",
    "        'w2': free, \n",
    "        'w1': free\n",
    "   }\n",
    "\n",
    "}"
   ]
  },
  {
   "cell_type": "code",
   "execution_count": 22,
   "id": "f8eb6d05-c8db-4f79-8238-a057e05e98cc",
   "metadata": {},
   "outputs": [],
   "source": [
    "W_pref = {\n",
    "    'w1': ['m2', 'm1'], \n",
    "    'w2': ['m1', 'm2'], \n",
    "}\n",
    "\n",
    "W = {\n",
    "    'w1': {\n",
    "        'm1': free, \n",
    "        'm2': free, \n",
    "    }, \n",
    "    'w2': {\n",
    "        'm2': free, \n",
    "        'm1': free\n",
    "    }\n",
    "\n",
    "}"
   ]
  },
  {
   "cell_type": "code",
   "execution_count": 23,
   "id": "27957a22-067c-4ef2-b008-6efe9e3edfa3",
   "metadata": {},
   "outputs": [
    {
     "data": {
      "text/plain": [
       "['m1', 'm2']"
      ]
     },
     "execution_count": 23,
     "metadata": {},
     "output_type": "execute_result"
    }
   ],
   "source": [
    "list(M.keys())"
   ]
  },
  {
   "cell_type": "code",
   "execution_count": 24,
   "id": "a2ea5660-ad0f-448d-8868-70f655b6edcb",
   "metadata": {},
   "outputs": [
    {
     "data": {
      "text/plain": [
       "[{'w1': True, 'w2': True}, {'w2': True, 'w1': True}]"
      ]
     },
     "execution_count": 24,
     "metadata": {},
     "output_type": "execute_result"
    }
   ],
   "source": [
    "list(M.values())"
   ]
  },
  {
   "cell_type": "code",
   "execution_count": 25,
   "id": "0a47a08c-9f4e-470b-915f-fd3cbb78bab3",
   "metadata": {},
   "outputs": [
    {
     "data": {
      "text/plain": [
       "['w1', 'w2']"
      ]
     },
     "execution_count": 25,
     "metadata": {},
     "output_type": "execute_result"
    }
   ],
   "source": [
    "list(W.keys())"
   ]
  },
  {
   "cell_type": "code",
   "execution_count": 26,
   "id": "06179d29-4bf4-431a-b27e-8db0bf5615ed",
   "metadata": {},
   "outputs": [
    {
     "data": {
      "text/plain": [
       "[{'m1': True, 'm2': True}, {'m2': True, 'm1': True}]"
      ]
     },
     "execution_count": 26,
     "metadata": {},
     "output_type": "execute_result"
    }
   ],
   "source": [
    "list(W.values())"
   ]
  },
  {
   "cell_type": "code",
   "execution_count": 27,
   "id": "2f028971-65f3-4156-b246-c6e78f36e155",
   "metadata": {},
   "outputs": [
    {
     "data": {
      "text/plain": [
       "{'m1': ['w1', 'w2'], 'm2': ['w2', 'w1']}"
      ]
     },
     "execution_count": 27,
     "metadata": {},
     "output_type": "execute_result"
    }
   ],
   "source": [
    "M_pref"
   ]
  },
  {
   "cell_type": "code",
   "execution_count": 28,
   "id": "95415c21-fd73-42b6-a2d3-a47ca4d9ca2e",
   "metadata": {},
   "outputs": [
    {
     "data": {
      "text/plain": [
       "['m1', 'm2']"
      ]
     },
     "execution_count": 28,
     "metadata": {},
     "output_type": "execute_result"
    }
   ],
   "source": [
    "Men = list(M_pref.keys())\n",
    "Men"
   ]
  },
  {
   "cell_type": "code",
   "execution_count": 29,
   "id": "44b84efb-78dc-4fcd-b748-f1c96eb5bd98",
   "metadata": {},
   "outputs": [
    {
     "data": {
      "text/plain": [
       "[['w1', 'w2'], ['w2', 'w1']]"
      ]
     },
     "execution_count": 29,
     "metadata": {},
     "output_type": "execute_result"
    }
   ],
   "source": [
    "Men_values = list(M_pref.values())\n",
    "Men_values"
   ]
  },
  {
   "cell_type": "code",
   "execution_count": 30,
   "id": "a1d71c6c-3ae2-4288-87be-4352b2ec052e",
   "metadata": {},
   "outputs": [
    {
     "name": "stdout",
     "output_type": "stream",
     "text": [
      "m1\n",
      "{'m1': True}\n",
      "m2\n",
      "{'m1': True, 'm2': True}\n"
     ]
    }
   ],
   "source": [
    "man_free = {}\n",
    "for man_idx in range(len(Men)):\n",
    "    man = Men[man_idx]\n",
    "    print(man)\n",
    "    \n",
    "    free = True\n",
    "    man_free[man] = free\n",
    "    print(man_free)"
   ]
  },
  {
   "cell_type": "code",
   "execution_count": 31,
   "id": "0ff40a75-6e8c-4ba6-915b-abb1b3abf11b",
   "metadata": {},
   "outputs": [
    {
     "data": {
      "text/plain": [
       "['w1', 'w2']"
      ]
     },
     "execution_count": 31,
     "metadata": {},
     "output_type": "execute_result"
    }
   ],
   "source": [
    "Women = list(W_pref.keys())\n",
    "Women"
   ]
  },
  {
   "cell_type": "code",
   "execution_count": 37,
   "id": "a97e9655-64da-4752-ab80-901f9907e1f2",
   "metadata": {},
   "outputs": [],
   "source": [
    "woman_free = {}\n",
    "for woman_idx in range(len(Women)):\n",
    "    woman = Women[woman_idx]\n",
    "    # print(woman)\n",
    "    \n",
    "    free = True\n",
    "    woman_free[woman] = free\n",
    "    # print(woman_free)"
   ]
  },
  {
   "cell_type": "code",
   "execution_count": 38,
   "id": "d416c40a-2285-4e6a-ac97-40f49b978102",
   "metadata": {},
   "outputs": [
    {
     "data": {
      "text/plain": [
       "{'w1': True, 'w2': True}"
      ]
     },
     "execution_count": 38,
     "metadata": {},
     "output_type": "execute_result"
    }
   ],
   "source": [
    "woman_free"
   ]
  },
  {
   "cell_type": "code",
   "execution_count": 52,
   "id": "138ad5bc-28d5-462e-b933-dbd4ccc6f2aa",
   "metadata": {},
   "outputs": [],
   "source": [
    "free_ms = list(man_free.values())\n",
    "free_ws = list(woman_free.values())"
   ]
  },
  {
   "cell_type": "code",
   "execution_count": 57,
   "id": "048f4a08-fb7a-4207-9712-e7c89804c688",
   "metadata": {},
   "outputs": [
    {
     "name": "stdout",
     "output_type": "stream",
     "text": [
      "()\n",
      "m1 True w1 True\n",
      "('m1', 'w1')\n",
      "m2 True w2 True\n",
      "('m2', 'w2')\n"
     ]
    }
   ],
   "source": [
    "engaged = ()\n",
    "print(engaged)\n",
    "\n",
    "for free_ms_idx in range(len(free_ms)):\n",
    "    free_man = free_ms[free_ms_idx]\n",
    "    print(Men[free_ms_idx], free_man, Women[free_ms_idx], free_ws[free_ms_idx])\n",
    "    \n",
    "    \n",
    "    \n",
    "    if free_man == True:\n",
    "        if free_ws[free_ms_idx] == True:\n",
    "            engaged = Men[free_ms_idx], Women[free_ms_idx]\n",
    "            print(engaged)"
   ]
  },
  {
   "cell_type": "code",
   "execution_count": null,
   "id": "5b5004dc-5636-4329-911c-395732664dc7",
   "metadata": {},
   "outputs": [],
   "source": []
  },
  {
   "cell_type": "code",
   "execution_count": 6,
   "id": "0ef08057-e3f2-4cf9-8e5d-7c47fe11aaba",
   "metadata": {},
   "outputs": [],
   "source": [
    "# This function returns true if\n",
    "# woman 'w' prefers man 'm1' over man 'm'\n",
    "def wPrefersM1OverM(prefer, w, m, m1, N):\n",
    "     \n",
    "    # Check if w prefers m over her\n",
    "    # current engagement m1\n",
    "    for i in range(N):\n",
    "         \n",
    "        # If m1 comes before m in list of w,\n",
    "        # then w prefers her current engagement,\n",
    "        # don't do anything\n",
    "        if (prefer[w][i] == m1):\n",
    "            return True\n",
    " \n",
    "        # If m comes before m1 in w's list,\n",
    "        # then free her current engagement\n",
    "        # and engage her with m\n",
    "        if (prefer[w][i] == m):\n",
    "            return False"
   ]
  },
  {
   "cell_type": "code",
   "execution_count": 29,
   "id": "6c6c93a7-76f8-455b-b5c1-e777379bf56f",
   "metadata": {},
   "outputs": [],
   "source": [
    "# Prints stable matching for N boys and N girls.\n",
    "# Boys are numbered as 0 to N-1.\n",
    "# Girls are numbered as N to 2N-1.\n",
    "def stableMarriage(prefer, N):\n",
    "     \n",
    "    # Stores partner of women. This is our output\n",
    "    # array that stores passing information.\n",
    "    # The value of wPartner[i] indicates the partner\n",
    "    # assigned to woman N+i. Note that the woman numbers\n",
    "    # between N and 2*N-1. The value -1 indicates\n",
    "    # that (N+i)'th woman is free\n",
    "    wPartner = [-1 for i in range(N)]\n",
    "    # wPartner = []\n",
    "    # for i in range(N): \n",
    "    #     wPartner_at_i = -1 * i\n",
    "    #     wPartner.append(wPartner_at_i)\n",
    "    #     print(\"wPartner: \", wPartner)\n",
    " \n",
    "    # An array to store availability of men.\n",
    "    # If mFree[i] is false, then man 'i' is free,\n",
    "    # otherwise engaged.\n",
    "    # mFree = [False for i in range(N)]\n",
    "    is_m_free = []\n",
    "    for i in range(N):\n",
    "        set_m_to_free = False\n",
    "        is_m_free.append(set_m_to_free)\n",
    "    print(\"is_m_free: \", is_m_free)\n",
    " \n",
    "    freeCount = N\n",
    " \n",
    "    # While there are free men\n",
    "    while (freeCount > 0):\n",
    "         \n",
    "        # Pick the first free man (we could pick any)\n",
    "        m = 0\n",
    "        while (m < N):\n",
    "            if (is_m_free[m] == False):\n",
    "                break\n",
    "            m += 1\n",
    "        print(m)\n",
    "        # One by one go to all women according to\n",
    "        # m's preferences. Here m is the picked free man\n",
    "        i = 0\n",
    "        while i < N and is_m_free[m] == False:\n",
    "            w = prefer[m][i]\n",
    " \n",
    "            # The woman of preference is free,\n",
    "            # w and m become partners (Note that\n",
    "            # the partnership maybe changed later).\n",
    "            # So we can say they are engaged not married\n",
    "            if (wPartner[w - N] == -1):\n",
    "                wPartner[w - N] = m\n",
    "                is_m_free[m] = True\n",
    "                freeCount -= 1\n",
    " \n",
    "            else:\n",
    "                 \n",
    "                # If w is not free\n",
    "                # Find current engagement of w\n",
    "                m1 = wPartner[w - N]\n",
    " \n",
    "                # If w prefers m over her current engagement m1,\n",
    "                # then break the engagement between w and m1 and\n",
    "                # engage m with w.\n",
    "                if (wPrefersM1OverM(prefer, w, m, m1) == False):\n",
    "                    wPartner[w - N] = m\n",
    "                    is_m_free[m] = True\n",
    "                    is_m_free[m1] = False\n",
    "            i += 1\n",
    " \n",
    "    # Print solution\n",
    "    print(\"Woman \", \" Man\")\n",
    "    for i in range(N):\n",
    "        print(i + N, \"\\t\", wPartner[i])"
   ]
  },
  {
   "cell_type": "code",
   "execution_count": 30,
   "id": "d129dd4f-2448-49ac-9825-ef0528e56aa8",
   "metadata": {},
   "outputs": [
    {
     "name": "stdout",
     "output_type": "stream",
     "text": [
      "is_m_free:  [False, False]\n",
      "0\n",
      "1\n",
      "0\n",
      "Woman   Man\n",
      "2 \t 0\n",
      "3 \t 1\n"
     ]
    }
   ],
   "source": [
    "N = 2\n",
    "# Driver Code\n",
    "# prefer = [[7, 5, 6, 4], [5, 4, 6, 7],\n",
    "#           [4, 5, 6, 7], [4, 5, 6, 7],\n",
    "#           [0, 1, 2, 3], [0, 1, 2, 3],\n",
    "#           [0, 1, 2, 3], [0, 1, 2, 3]]\n",
    "\n",
    "prefer = [[1, 2], [1, 2]]\n",
    " \n",
    "stableMarriage(prefer, N)"
   ]
  },
  {
   "cell_type": "code",
   "execution_count": null,
   "id": "10241361-ff6a-4803-a389-62ffb36a6dd1",
   "metadata": {},
   "outputs": [],
   "source": []
  },
  {
   "cell_type": "code",
   "execution_count": null,
   "id": "8a0b1a3a-878e-434f-b50b-d7577cb3f6a0",
   "metadata": {},
   "outputs": [],
   "source": []
  }
 ],
 "metadata": {
  "kernelspec": {
   "display_name": "Python 3 (ipykernel)",
   "language": "python",
   "name": "python3"
  },
  "language_info": {
   "codemirror_mode": {
    "name": "ipython",
    "version": 3
   },
   "file_extension": ".py",
   "mimetype": "text/x-python",
   "name": "python",
   "nbconvert_exporter": "python",
   "pygments_lexer": "ipython3",
   "version": "3.9.16"
  }
 },
 "nbformat": 4,
 "nbformat_minor": 5
}
