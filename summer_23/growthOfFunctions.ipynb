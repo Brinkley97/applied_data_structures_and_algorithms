{
 "cells": [
  {
   "cell_type": "markdown",
   "id": "11486580-2024-4222-907f-e379f981c9dc",
   "metadata": {},
   "source": [
    "# Growth Of Functions"
   ]
  },
  {
   "cell_type": "code",
   "execution_count": null,
   "id": "b8874e93-5012-438b-9949-164f16a8c375",
   "metadata": {},
   "outputs": [],
   "source": []
  },
  {
   "cell_type": "code",
   "execution_count": 27,
   "id": "39d7c7e3-20a4-48c7-bfa1-267777669086",
   "metadata": {},
   "outputs": [],
   "source": [
    "def polynomials(d, n, a):\n",
    "    \n",
    "    store_polynomials = []\n",
    "    for i in d:\n",
    "        p_n = a[i] * (n ** i)\n",
    "        store_polynomials.append(p_n)\n",
    "    \n",
    "    \n",
    "    return sum(store_polynomials)"
   ]
  },
  {
   "cell_type": "code",
   "execution_count": 30,
   "id": "63484951-879b-464b-8941-7813ade06a93",
   "metadata": {},
   "outputs": [
    {
     "data": {
      "text/plain": [
       "5"
      ]
     },
     "execution_count": 30,
     "metadata": {},
     "output_type": "execute_result"
    }
   ],
   "source": [
    "non_negative_integer = 2\n",
    "length = range(0, non_negative_integer)\n",
    "a = [1, 2]\n",
    "polynomials(length, non_negative_integer, a)"
   ]
  },
  {
   "cell_type": "code",
   "execution_count": 37,
   "id": "e74617f5-f92f-4db3-bdf3-abb5e5ee093c",
   "metadata": {},
   "outputs": [],
   "source": [
    "def exponential(a, m, n):\n",
    "    a_not = a ** 0\n",
    "    print(\"a_not = \", a_not)\n",
    "    a_1 = a ** 1\n",
    "    print(\"a_1 = \", a_1)\n",
    "    a_neg_1 = 1 / a\n",
    "    print(\"a_neg_1 = \", a_neg_1)\n",
    "    a_neg_1_ = a ** -1\n",
    "    print(\"a_neg_1_ = \", a_neg_1_)\n",
    "    a_m_by_n = a ** (m * n)\n",
    "    print(\"a_m_by_n = \", a_m_by_n)\n",
    "    a_m_by_n2 = (a ** n) * m\n",
    "    print(\"a_m_by_n2 = \", a_m_by_n2)\n",
    "    a_m_by_a_n = a ** (m + n)\n",
    "    print(\"a_m_by_a_n = \", a_m_by_a_n)\n",
    "    \n",
    "    "
   ]
  },
  {
   "cell_type": "code",
   "execution_count": 38,
   "id": "35b3d66e-5bf0-4721-a116-7b6fd209cacd",
   "metadata": {},
   "outputs": [
    {
     "name": "stdout",
     "output_type": "stream",
     "text": [
      "a_not =  1\n",
      "a_1 =  3\n",
      "a_neg_1 =  0.3333333333333333\n",
      "a_neg_1_ =  0.3333333333333333\n",
      "a_m_by_n =  3\n",
      "a_m_by_n2 =  3\n",
      "a_m_by_a_n =  9\n"
     ]
    }
   ],
   "source": [
    "a = 3\n",
    "m = 1 \n",
    "n = 1\n",
    "exponential(a, m, n)"
   ]
  },
  {
   "cell_type": "code",
   "execution_count": null,
   "id": "9237a668-8449-44f9-9907-9a90d1cd2f94",
   "metadata": {},
   "outputs": [],
   "source": []
  }
 ],
 "metadata": {
  "kernelspec": {
   "display_name": "Python 3 (ipykernel)",
   "language": "python",
   "name": "python3"
  },
  "language_info": {
   "codemirror_mode": {
    "name": "ipython",
    "version": 3
   },
   "file_extension": ".py",
   "mimetype": "text/x-python",
   "name": "python",
   "nbconvert_exporter": "python",
   "pygments_lexer": "ipython3",
   "version": "3.9.12"
  }
 },
 "nbformat": 4,
 "nbformat_minor": 5
}
