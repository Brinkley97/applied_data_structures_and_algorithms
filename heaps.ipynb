{
 "cells": [
  {
   "cell_type": "markdown",
   "metadata": {},
   "source": [
    "# Heaps"
   ]
  },
  {
   "cell_type": "code",
   "execution_count": 1,
   "metadata": {},
   "outputs": [],
   "source": [
    "import graphviz\n",
    "from abc import ABC, abstractmethod"
   ]
  },
  {
   "cell_type": "code",
   "execution_count": 2,
   "metadata": {},
   "outputs": [],
   "source": [
    "class HeapsFactory(ABC):\n",
    "    \"\"\"Abstract Base Class for heaps with common methods.\"\"\"\n",
    "    \n",
    "    def __init__():\n",
    "        pass\n",
    "\n",
    "    def __name__():\n",
    "        return \"Heaps Factory\"\n",
    "\n",
    "    @abstractmethod\n",
    "    def insert(self, value):\n",
    "        \"\"\"Insert value into the heap.\"\"\"\n",
    "        pass\n",
    "    \n",
    "    @abstractmethod\n",
    "    def remove(self):\n",
    "        \"\"\"Remove the min or max element.\"\"\"\n",
    "        pass\n",
    "\n",
    "    @abstractmethod\n",
    "    def find_min(self):\n",
    "        \"\"\"Find the minimum element (for min-heaps).\"\"\"\n",
    "        pass\n",
    "\n",
    "class UnaryHeap(HeapsFactory):\n",
    "    \"\"\"Unary heap class - Trivial heap with only one element.\"\"\"\n",
    "\n",
    "    def __init__():\n",
    "        pass\n",
    "\n",
    "    def __name__():\n",
    "        return \"Unary Heaps\"\n",
    "    \n",
    "    def insert():\n",
    "        pass\n",
    "    \n",
    "    def remove():\n",
    "        pass\n",
    "\n",
    "class BinaryHeap(HeapsFactory):\n",
    "    \"\"\"Binary heap class\"\"\"\n",
    "\n",
    "    def __init__(self):\n",
    "        self.heap = [] # Create new variable named self.heap that is a list\n",
    "\n",
    "    def __name__(self):\n",
    "        return \"BinaryHeap\"\n",
    "    \n",
    "    def insert(self, node):\n",
    "        self.heap.append(node)\n",
    "    \n",
    "    def remove():\n",
    "        pass\n",
    "\n",
    "    def find_min(self):\n",
    "        \"\"\"Find the minimum element (for min-heaps).\"\"\"\n",
    "        pass\n",
    "\n",
    "class BinomialHeap(BinaryHeap):\n",
    "    \"\"\"Binary heap class\"\"\"\n",
    "\n",
    "    def __init__():\n",
    "        pass\n",
    "    \n",
    "    def insert():\n",
    "        pass\n",
    "    \n",
    "    def remove():\n",
    "        pass\n",
    "\n",
    "class FibonacciHeap(BinaryHeap):\n",
    "    \"\"\"Fibonacci heap class\"\"\"\n",
    "\n",
    "    def __init__():\n",
    "        pass\n",
    "    \n",
    "    def insert():\n",
    "        pass\n",
    "    \n",
    "    def remove():\n",
    "        pass\n",
    "\n",
    "class PairingHeap(BinaryHeap):\n",
    "    \"\"\"Pairing heap class\n",
    "    \n",
    "    A single node at the root\n",
    "    \"\"\"\n",
    "\n",
    "    def __init__():\n",
    "        pass\n",
    "    \n",
    "    def insert():\n",
    "        pass\n",
    "    \n",
    "    def remove():\n",
    "        pass\n",
    "\n",
    "class NaryHeap(HeapsFactory):\n",
    "    \"\"\"N-ary heap class where each node can have 'n' children.\"\"\"\n",
    "\n",
    "    def __init__():\n",
    "        pass\n",
    "    \n",
    "    def insert():\n",
    "        pass\n",
    "    \n",
    "    def remove():\n",
    "        pass"
   ]
  },
  {
   "cell_type": "code",
   "execution_count": 3,
   "metadata": {},
   "outputs": [],
   "source": [
    "# Factory method to instantiate heaps\n",
    "def create_heap(heap_type, n=None):\n",
    "    if heap_type == 'Unary':\n",
    "        return UnaryHeap()\n",
    "    elif heap_type == 'Binary':\n",
    "        return BinaryHeap()\n",
    "    elif heap_type == 'Binomial':\n",
    "        return BinomialHeap()\n",
    "    elif heap_type == 'Fibonacci':\n",
    "        return FibonacciHeap()\n",
    "    elif heap_type == 'Pairing':\n",
    "        return PairingHeap()\n",
    "    elif heap_type == 'Nary' and n is not None:\n",
    "        return NaryHeap(n)\n",
    "    else:\n",
    "        raise ValueError(f\"Unknown heap type: {heap_type}\")"
   ]
  },
  {
   "cell_type": "code",
   "execution_count": 4,
   "metadata": {},
   "outputs": [],
   "source": [
    "binary_heap = create_heap('Binary')\n",
    "binary_heap_name = binary_heap.__name__()"
   ]
  },
  {
   "cell_type": "code",
   "execution_count": 5,
   "metadata": {},
   "outputs": [
    {
     "name": "stdout",
     "output_type": "stream",
     "text": [
      "Binary Heap: [10]\n"
     ]
    }
   ],
   "source": [
    "binary_heap.insert(10)\n",
    "print(\"Binary Heap:\", binary_heap.heap)"
   ]
  },
  {
   "cell_type": "code",
   "execution_count": 6,
   "metadata": {},
   "outputs": [],
   "source": [
    "# Visualization Base Class\n",
    "class TreeVisualizer(ABC):\n",
    "    \"\"\"Abstract Base Class for visualizing tree-like structures.\"\"\"\n",
    "\n",
    "    @abstractmethod\n",
    "    def visualize(self):\n",
    "        \"\"\"Generate a visualization of the tree structure.\"\"\"\n",
    "        pass\n",
    "\n",
    "class HeapVisualizer(TreeVisualizer):\n",
    "    \"\"\"Heap Visualizer class to visualize heaps.\"\"\"\n",
    "\n",
    "    def __init__(self, heap):\n",
    "        \"\"\"Initialize with an instance of a heap.\"\"\"\n",
    "        self.heap = heap\n",
    "\n",
    "    def visualize(self, name=\"Heap\"):\n",
    "        \"\"\"Visualize the heap as a binary tree structure using Graphviz.\"\"\"\n",
    "        dot = graphviz.Digraph(name)\n",
    "        \n",
    "        for index, value in enumerate(self.heap.heap):\n",
    "            dot.node(str(index), str(value))  # Create a node for each element\n",
    "            \n",
    "            # Connect the node with its children\n",
    "            if isinstance(self.heap, BinaryHeap):\n",
    "                left_index = 2 * index + 1\n",
    "                right_index = 2 * index + 2\n",
    "                if left_index < len(self.heap.heap):\n",
    "                    dot.edge(str(index), str(left_index))\n",
    "                if right_index < len(self.heap.heap):\n",
    "                    dot.edge(str(index), str(right_index))\n",
    "            elif isinstance(self.heap, NaryHeap):\n",
    "                for i in range(3):\n",
    "                    child_index = 3 * index + i + 1\n",
    "                    if child_index < len(self.heap.heap):\n",
    "                        dot.edge(str(index), str(child_index))\n",
    "\n",
    "        return dot  # Returns the graphviz object to display externally"
   ]
  },
  {
   "cell_type": "code",
   "execution_count": 7,
   "metadata": {},
   "outputs": [
    {
     "data": {
      "text/plain": [
       "<__main__.HeapVisualizer at 0x1114221b0>"
      ]
     },
     "execution_count": 7,
     "metadata": {},
     "output_type": "execute_result"
    }
   ],
   "source": [
    "visualizer = HeapVisualizer(binary_heap)\n",
    "visualizer"
   ]
  },
  {
   "cell_type": "code",
   "execution_count": 10,
   "metadata": {},
   "outputs": [
    {
     "data": {
      "image/svg+xml": [
       "<?xml version=\"1.0\" encoding=\"UTF-8\" standalone=\"no\"?>\n",
       "<!DOCTYPE svg PUBLIC \"-//W3C//DTD SVG 1.1//EN\"\n",
       " \"http://www.w3.org/Graphics/SVG/1.1/DTD/svg11.dtd\">\n",
       "<!-- Generated by graphviz version 12.0.0 (0)\n",
       " -->\n",
       "<!-- Title: BinaryHeap Pages: 1 -->\n",
       "<svg width=\"62pt\" height=\"44pt\"\n",
       " viewBox=\"0.00 0.00 62.00 44.00\" xmlns=\"http://www.w3.org/2000/svg\" xmlns:xlink=\"http://www.w3.org/1999/xlink\">\n",
       "<g id=\"graph0\" class=\"graph\" transform=\"scale(1 1) rotate(0) translate(4 40)\">\n",
       "<title>BinaryHeap</title>\n",
       "<polygon fill=\"white\" stroke=\"none\" points=\"-4,4 -4,-40 58,-40 58,4 -4,4\"/>\n",
       "<!-- 0 -->\n",
       "<g id=\"node1\" class=\"node\">\n",
       "<title>0</title>\n",
       "<ellipse fill=\"none\" stroke=\"black\" cx=\"27\" cy=\"-18\" rx=\"27\" ry=\"18\"/>\n",
       "<text text-anchor=\"middle\" x=\"27\" y=\"-12.95\" font-family=\"Times,serif\" font-size=\"14.00\">10</text>\n",
       "</g>\n",
       "</g>\n",
       "</svg>\n"
      ],
      "text/plain": [
       "<graphviz.graphs.Digraph at 0x1114b1e20>"
      ]
     },
     "execution_count": 10,
     "metadata": {},
     "output_type": "execute_result"
    }
   ],
   "source": [
    "visualizer.visualize(binary_heap_name)"
   ]
  },
  {
   "cell_type": "code",
   "execution_count": 12,
   "metadata": {},
   "outputs": [
    {
     "name": "stdout",
     "output_type": "stream",
     "text": [
      "Binary Heap: [10, 12, 12]\n"
     ]
    },
    {
     "data": {
      "image/svg+xml": [
       "<?xml version=\"1.0\" encoding=\"UTF-8\" standalone=\"no\"?>\n",
       "<!DOCTYPE svg PUBLIC \"-//W3C//DTD SVG 1.1//EN\"\n",
       " \"http://www.w3.org/Graphics/SVG/1.1/DTD/svg11.dtd\">\n",
       "<!-- Generated by graphviz version 12.0.0 (0)\n",
       " -->\n",
       "<!-- Title: BinaryHeap Pages: 1 -->\n",
       "<svg width=\"134pt\" height=\"116pt\"\n",
       " viewBox=\"0.00 0.00 134.00 116.00\" xmlns=\"http://www.w3.org/2000/svg\" xmlns:xlink=\"http://www.w3.org/1999/xlink\">\n",
       "<g id=\"graph0\" class=\"graph\" transform=\"scale(1 1) rotate(0) translate(4 112)\">\n",
       "<title>BinaryHeap</title>\n",
       "<polygon fill=\"white\" stroke=\"none\" points=\"-4,4 -4,-112 130,-112 130,4 -4,4\"/>\n",
       "<!-- 0 -->\n",
       "<g id=\"node1\" class=\"node\">\n",
       "<title>0</title>\n",
       "<ellipse fill=\"none\" stroke=\"black\" cx=\"63\" cy=\"-90\" rx=\"27\" ry=\"18\"/>\n",
       "<text text-anchor=\"middle\" x=\"63\" y=\"-84.95\" font-family=\"Times,serif\" font-size=\"14.00\">10</text>\n",
       "</g>\n",
       "<!-- 1 -->\n",
       "<g id=\"node2\" class=\"node\">\n",
       "<title>1</title>\n",
       "<ellipse fill=\"none\" stroke=\"black\" cx=\"27\" cy=\"-18\" rx=\"27\" ry=\"18\"/>\n",
       "<text text-anchor=\"middle\" x=\"27\" y=\"-12.95\" font-family=\"Times,serif\" font-size=\"14.00\">12</text>\n",
       "</g>\n",
       "<!-- 0&#45;&gt;1 -->\n",
       "<g id=\"edge1\" class=\"edge\">\n",
       "<title>0&#45;&gt;1</title>\n",
       "<path fill=\"none\" stroke=\"black\" d=\"M54.65,-72.76C50.42,-64.55 45.19,-54.37 40.42,-45.09\"/>\n",
       "<polygon fill=\"black\" stroke=\"black\" points=\"43.68,-43.79 36,-36.49 37.46,-46.99 43.68,-43.79\"/>\n",
       "</g>\n",
       "<!-- 2 -->\n",
       "<g id=\"node3\" class=\"node\">\n",
       "<title>2</title>\n",
       "<ellipse fill=\"none\" stroke=\"black\" cx=\"99\" cy=\"-18\" rx=\"27\" ry=\"18\"/>\n",
       "<text text-anchor=\"middle\" x=\"99\" y=\"-12.95\" font-family=\"Times,serif\" font-size=\"14.00\">12</text>\n",
       "</g>\n",
       "<!-- 0&#45;&gt;2 -->\n",
       "<g id=\"edge2\" class=\"edge\">\n",
       "<title>0&#45;&gt;2</title>\n",
       "<path fill=\"none\" stroke=\"black\" d=\"M71.35,-72.76C75.58,-64.55 80.81,-54.37 85.58,-45.09\"/>\n",
       "<polygon fill=\"black\" stroke=\"black\" points=\"88.54,-46.99 90,-36.49 82.32,-43.79 88.54,-46.99\"/>\n",
       "</g>\n",
       "</g>\n",
       "</svg>\n"
      ],
      "text/plain": [
       "<graphviz.graphs.Digraph at 0x1114b0d70>"
      ]
     },
     "execution_count": 12,
     "metadata": {},
     "output_type": "execute_result"
    }
   ],
   "source": [
    "binary_heap.insert(12)\n",
    "print(\"Binary Heap:\", binary_heap.heap)\n",
    "visualizer.visualize(binary_heap_name)"
   ]
  },
  {
   "cell_type": "code",
   "execution_count": 13,
   "metadata": {},
   "outputs": [
    {
     "name": "stdout",
     "output_type": "stream",
     "text": [
      "Binary Heap: [10, 12, 12, 15]\n"
     ]
    },
    {
     "data": {
      "image/svg+xml": [
       "<?xml version=\"1.0\" encoding=\"UTF-8\" standalone=\"no\"?>\n",
       "<!DOCTYPE svg PUBLIC \"-//W3C//DTD SVG 1.1//EN\"\n",
       " \"http://www.w3.org/Graphics/SVG/1.1/DTD/svg11.dtd\">\n",
       "<!-- Generated by graphviz version 12.0.0 (0)\n",
       " -->\n",
       "<!-- Title: BinaryHeap Pages: 1 -->\n",
       "<svg width=\"134pt\" height=\"188pt\"\n",
       " viewBox=\"0.00 0.00 134.00 188.00\" xmlns=\"http://www.w3.org/2000/svg\" xmlns:xlink=\"http://www.w3.org/1999/xlink\">\n",
       "<g id=\"graph0\" class=\"graph\" transform=\"scale(1 1) rotate(0) translate(4 184)\">\n",
       "<title>BinaryHeap</title>\n",
       "<polygon fill=\"white\" stroke=\"none\" points=\"-4,4 -4,-184 130,-184 130,4 -4,4\"/>\n",
       "<!-- 0 -->\n",
       "<g id=\"node1\" class=\"node\">\n",
       "<title>0</title>\n",
       "<ellipse fill=\"none\" stroke=\"black\" cx=\"63\" cy=\"-162\" rx=\"27\" ry=\"18\"/>\n",
       "<text text-anchor=\"middle\" x=\"63\" y=\"-156.95\" font-family=\"Times,serif\" font-size=\"14.00\">10</text>\n",
       "</g>\n",
       "<!-- 1 -->\n",
       "<g id=\"node2\" class=\"node\">\n",
       "<title>1</title>\n",
       "<ellipse fill=\"none\" stroke=\"black\" cx=\"27\" cy=\"-90\" rx=\"27\" ry=\"18\"/>\n",
       "<text text-anchor=\"middle\" x=\"27\" y=\"-84.95\" font-family=\"Times,serif\" font-size=\"14.00\">12</text>\n",
       "</g>\n",
       "<!-- 0&#45;&gt;1 -->\n",
       "<g id=\"edge1\" class=\"edge\">\n",
       "<title>0&#45;&gt;1</title>\n",
       "<path fill=\"none\" stroke=\"black\" d=\"M54.65,-144.76C50.42,-136.55 45.19,-126.37 40.42,-117.09\"/>\n",
       "<polygon fill=\"black\" stroke=\"black\" points=\"43.68,-115.79 36,-108.49 37.46,-118.99 43.68,-115.79\"/>\n",
       "</g>\n",
       "<!-- 2 -->\n",
       "<g id=\"node3\" class=\"node\">\n",
       "<title>2</title>\n",
       "<ellipse fill=\"none\" stroke=\"black\" cx=\"99\" cy=\"-90\" rx=\"27\" ry=\"18\"/>\n",
       "<text text-anchor=\"middle\" x=\"99\" y=\"-84.95\" font-family=\"Times,serif\" font-size=\"14.00\">12</text>\n",
       "</g>\n",
       "<!-- 0&#45;&gt;2 -->\n",
       "<g id=\"edge2\" class=\"edge\">\n",
       "<title>0&#45;&gt;2</title>\n",
       "<path fill=\"none\" stroke=\"black\" d=\"M71.35,-144.76C75.58,-136.55 80.81,-126.37 85.58,-117.09\"/>\n",
       "<polygon fill=\"black\" stroke=\"black\" points=\"88.54,-118.99 90,-108.49 82.32,-115.79 88.54,-118.99\"/>\n",
       "</g>\n",
       "<!-- 3 -->\n",
       "<g id=\"node4\" class=\"node\">\n",
       "<title>3</title>\n",
       "<ellipse fill=\"none\" stroke=\"black\" cx=\"27\" cy=\"-18\" rx=\"27\" ry=\"18\"/>\n",
       "<text text-anchor=\"middle\" x=\"27\" y=\"-12.95\" font-family=\"Times,serif\" font-size=\"14.00\">15</text>\n",
       "</g>\n",
       "<!-- 1&#45;&gt;3 -->\n",
       "<g id=\"edge3\" class=\"edge\">\n",
       "<title>1&#45;&gt;3</title>\n",
       "<path fill=\"none\" stroke=\"black\" d=\"M27,-71.7C27,-64.41 27,-55.73 27,-47.54\"/>\n",
       "<polygon fill=\"black\" stroke=\"black\" points=\"30.5,-47.62 27,-37.62 23.5,-47.62 30.5,-47.62\"/>\n",
       "</g>\n",
       "</g>\n",
       "</svg>\n"
      ],
      "text/plain": [
       "<graphviz.graphs.Digraph at 0x11143a150>"
      ]
     },
     "execution_count": 13,
     "metadata": {},
     "output_type": "execute_result"
    }
   ],
   "source": [
    "binary_heap.insert(15)\n",
    "print(\"Binary Heap:\", binary_heap.heap)\n",
    "visualizer.visualize(binary_heap_name)"
   ]
  },
  {
   "cell_type": "code",
   "execution_count": null,
   "metadata": {},
   "outputs": [],
   "source": []
  }
 ],
 "metadata": {
  "kernelspec": {
   "display_name": "graphbreeds",
   "language": "python",
   "name": "python3"
  },
  "language_info": {
   "codemirror_mode": {
    "name": "ipython",
    "version": 3
   },
   "file_extension": ".py",
   "mimetype": "text/x-python",
   "name": "python",
   "nbconvert_exporter": "python",
   "pygments_lexer": "ipython3",
   "version": "3.12.3"
  }
 },
 "nbformat": 4,
 "nbformat_minor": 2
}
